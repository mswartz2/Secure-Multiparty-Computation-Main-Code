{
 "cells": [
  {
   "cell_type": "code",
   "execution_count": 46,
   "metadata": {},
   "outputs": [],
   "source": [
    "from scipy.interpolate import lagrange\n",
    "import random\n",
    "import matplotlib.pyplot as plt\n",
    "import numpy as np"
   ]
  },
  {
   "cell_type": "code",
   "execution_count": 5,
   "metadata": {},
   "outputs": [],
   "source": [
    "class RandPoly:\n",
    "    \"\"\"\n",
    "    Random and zero free coefficient polynomial\n",
    "    \"\"\"\n",
    "\n",
    "    def __init__(self, n, name='', R = None, fzc=False, p = 1337):\n",
    "        self.name = name\n",
    "        self.n = n\n",
    "        self.p = p\n",
    "        self.fzc = fzc # free zero coefficient\n",
    "        if R:\n",
    "            self.R = R\n",
    "            # assert(len(R) == n)\n",
    "        else: \n",
    "            self.R = [0] * (n+1) \n",
    "            for t in range(self.n+1):\n",
    "                if t == 0 and fzc is True:\n",
    "                    self.R[t] = (t, 0)\n",
    "                else:\n",
    "                    r = random.randint(1,self.p)\n",
    "                    self.R[t] = (t, r)\n",
    "\n",
    "    def poly(self, x):\n",
    "        s = 0\n",
    "        for (n, r) in self.R:\n",
    "            s += r * x ** n\n",
    "        return s\n",
    "\n",
    "    \n",
    "    def poly_str(self):\n",
    "        \"\"\"\n",
    "        outputs the underlying polynomial\n",
    "        \"\"\"\n",
    "        s = \"\"\n",
    "        first_zero = self.R[0][1] == 0\n",
    "        if first_zero:\n",
    "            for (i, r) in self.R:\n",
    "                if i == 0:\n",
    "                    continue\n",
    "                elif i == 1:\n",
    "                    s +=  f\"{r}x\" \n",
    "                else:\n",
    "                    s += f\"+{r}x^{i}\"\n",
    "        else:\n",
    "            for (i, r) in self.R:\n",
    "                if i == 0:\n",
    "                    s += f\"{r}\"\n",
    "                elif i == 1:\n",
    "                    s +=  f\"+{r}x\" \n",
    "                else:\n",
    "                    s += f\"+{r}x^{i}\"\n",
    "        if self.name:\n",
    "            return f\"{self.name}(x)={s}\"\n",
    "        else:\n",
    "            return s\n",
    "\n",
    "    def __str__(self):\n",
    "        return self.poly_str()\n",
    "\n",
    "    def __repr__(self):\n",
    "        return self.poly_str()\n",
    "\n",
    "    def __add__(self, other):\n",
    "        n = min(len(self.R), len(other.R))\n",
    "        m = max(len(self.R), len(other.R))\n",
    "        R = [0] * m\n",
    "        for i in range(m):\n",
    "            if i < n:\n",
    "                R[i] = (i, self.R[i][1] + other.R[i][1])\n",
    "            elif i < len(self.R):\n",
    "                R[i]= (i, self.R[i][1])\n",
    "            elif i < other.R:\n",
    "                 R[i][1] = (i, other.R[i][1])\n",
    "        \n",
    "        return RandPoly(n=self.n, R=R)\n",
    "        "
   ]
  },
  {
   "cell_type": "code",
   "execution_count": null,
   "metadata": {},
   "outputs": [],
   "source": [
    "def make_graph(data_point, real_poly, predicted_poly, shares: list):\n",
    "    x = np.linspace(-10, 10, 100)\n",
    "    plt.plot(x, predicted_poly, color='red')\n",
    "    plt.plot(x, real_poly, color='blue')\n",
    "    plt.show()"
   ]
  },
  {
   "cell_type": "code",
   "execution_count": 66,
   "metadata": {},
   "outputs": [],
   "source": [
    "def get_random_points(n, rand_seed, max_x=100000):\n",
    "    points = random.Random(rand_seed).sample(range(1, max_x), n)\n",
    "    return points"
   ]
  },
  {
   "cell_type": "code",
   "execution_count": 67,
   "metadata": {},
   "outputs": [],
   "source": [
    "def get_shares(x_points, real_poly):\n",
    "    shares = []\n",
    "    for x in x_points:\n",
    "        shares.append(real_poly(x))\n",
    "    return shares"
   ]
  },
  {
   "cell_type": "code",
   "execution_count": 74,
   "metadata": {},
   "outputs": [],
   "source": [
    "def compute_private_val(x_points, shares):\n",
    "    f = lagrange(x_points, shares)\n",
    "    return f(0)"
   ]
  },
  {
   "cell_type": "code",
   "execution_count": 93,
   "metadata": {},
   "outputs": [
    {
     "name": "stdout",
     "output_type": "stream",
     "text": [
      "481+3x+277x^2\n",
      "[9804, 15217, 53528] [26624831125, 64141359785, 793673520233] [97213, 61128, 90387] [2617752053333, 1035047354233, 2263037577655] [89685, 4890, 12562] [2228021854861, 6623666851, 43711702955]\n",
      "481.00001525878906\n",
      "480.9921875\n",
      "480.99999618530273\n"
     ]
    }
   ],
   "source": [
    "data_point = 7\n",
    "# rand_poly = RandPoly(2, R=[(0, data_point), (1, 4), (2, 13)])\n",
    "rand_poly = RandPoly(2)\n",
    "print(rand_poly.poly_str())\n",
    "real_poly = rand_poly.poly\n",
    "\n",
    "points3_t1 = get_random_points(3, 67)\n",
    "shares3_t1 = get_shares(points3_t1, real_poly)\n",
    "\n",
    "points3_t2 = get_random_points(3, 68)\n",
    "shares3_t2 = get_shares(points3_t2, real_poly)\n",
    "\n",
    "points3_t3 = get_random_points(3, 69)\n",
    "shares3_t3 = get_shares(points3_t3, real_poly)\n",
    "\n",
    "print(points3_t1, shares3_t1, points3_t2, shares3_t2, points3_t3, shares3_t3)\n",
    "\n",
    "print(compute_private_val(points3_t1, shares3_t1))\n",
    "print(compute_private_val(points3_t2, shares3_t2))\n",
    "print(compute_private_val(points3_t3, shares3_t3))"
   ]
  },
  {
   "cell_type": "code",
   "execution_count": 100,
   "metadata": {},
   "outputs": [
    {
     "name": "stdout",
     "output_type": "stream",
     "text": [
      "f0(x)=4+108x+94x^2\n",
      "f1(x)=8+161x+23x^2\n",
      "f2(x)=2+12x+81x^2\n"
     ]
    }
   ],
   "source": [
    "features_arr = [4,8,2]\n",
    "\n",
    "all_functions = []\n",
    "for feature in range(len(features_arr)):\n",
    "    func = RandPoly(\n",
    "        name=f\"f{feature}\",\n",
    "        n=2,\n",
    "        R=[\n",
    "            (i, x)\n",
    "            for i, x in enumerate(\n",
    "                list([features_arr[feature], random.randint(2, 250), random.randint(2, 250)])\n",
    "            )\n",
    "        ],\n",
    "    )\n",
    "    all_functions.append(func)\n",
    "\n",
    "for f in all_functions:\n",
    "    print(f.poly_str())\n"
   ]
  }
 ],
 "metadata": {
  "kernelspec": {
   "display_name": "sv",
   "language": "python",
   "name": "python3"
  },
  "language_info": {
   "codemirror_mode": {
    "name": "ipython",
    "version": 3
   },
   "file_extension": ".py",
   "mimetype": "text/x-python",
   "name": "python",
   "nbconvert_exporter": "python",
   "pygments_lexer": "ipython3",
   "version": "3.10.4"
  },
  "orig_nbformat": 4
 },
 "nbformat": 4,
 "nbformat_minor": 2
}
