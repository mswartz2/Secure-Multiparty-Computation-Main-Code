{
 "cells": [
  {
   "cell_type": "code",
   "execution_count": 1,
   "metadata": {},
   "outputs": [],
   "source": [
    "from math import sqrt\n",
    "import numpy as np\n",
    "from scipy.interpolate import lagrange"
   ]
  },
  {
   "cell_type": "code",
   "execution_count": 2,
   "metadata": {},
   "outputs": [],
   "source": [
    "class RandPoly:\n",
    "    \"\"\"\n",
    "    Random and zero free coefficient polynomial\n",
    "    \"\"\"\n",
    "\n",
    "    def __init__(self, n, name='', R = None, fzc=False, p = 1337):\n",
    "        self.name = name\n",
    "        self.n = n\n",
    "        self.p = p\n",
    "        self.fzc = fzc # free zero coefficient\n",
    "        if R:\n",
    "            self.R = R\n",
    "            # assert(len(R) == n)\n",
    "        else: \n",
    "            self.R = [0] * (n+1) \n",
    "            for t in range(self.n+1):\n",
    "                if t == 0 and fzc is True:\n",
    "                    self.R[t] = (t, 0)\n",
    "                else:\n",
    "                    r = random.randint(1,self.p)\n",
    "                    self.R[t] = (t, r)\n",
    "\n",
    "    def poly(self, x):\n",
    "        s = 0\n",
    "        for (n, r) in self.R:\n",
    "            s += r * x ** n\n",
    "        return s\n",
    "\n",
    "    \n",
    "    def poly_str(self):\n",
    "        \"\"\"\n",
    "        outputs the underlying polynomial\n",
    "        \"\"\"\n",
    "        s = \"\"\n",
    "        first_zero = self.R[0][1] == 0\n",
    "        if first_zero:\n",
    "            for (i, r) in self.R:\n",
    "                if i == 0:\n",
    "                    continue\n",
    "                elif i == 1:\n",
    "                    s +=  f\"{r}x\" \n",
    "                else:\n",
    "                    s += f\"+{r}x^{i}\"\n",
    "        else:\n",
    "            for (i, r) in self.R:\n",
    "                if i == 0:\n",
    "                    s += f\"{r}\"\n",
    "                elif i == 1:\n",
    "                    s +=  f\"+{r}x\" \n",
    "                else:\n",
    "                    s += f\"+{r}x^{i}\"\n",
    "        if self.name:\n",
    "            return f\"{self.name}(x)={s}\"\n",
    "        else:\n",
    "            return s\n",
    "\n",
    "    def __str__(self):\n",
    "        return self.poly_str()\n",
    "\n",
    "    def __repr__(self):\n",
    "        return self.poly_str()\n",
    "\n",
    "    def __add__(self, other):\n",
    "        n = min(len(self.R), len(other.R))\n",
    "        m = max(len(self.R), len(other.R))\n",
    "        R = [0] * m\n",
    "        for i in range(m):\n",
    "            if i < n:\n",
    "                R[i] = (i, self.R[i][1] + other.R[i][1])\n",
    "            elif i < len(self.R):\n",
    "                R[i]= (i, self.R[i][1])\n",
    "            elif i < other.R:\n",
    "                 R[i][1] = (i, other.R[i][1])\n",
    "        \n",
    "        return RandPoly(n=self.n, R=R)\n",
    "        "
   ]
  },
  {
   "cell_type": "code",
   "execution_count": 3,
   "metadata": {},
   "outputs": [],
   "source": [
    "def euclidean_distance(row1, row2):\n",
    "\tdistance = 0.0\n",
    "\tfor i in range(len(row1)):\n",
    "\t\tdistance += (row1[i] - row2[i])**2\n",
    "\treturn sqrt(distance)"
   ]
  },
  {
   "cell_type": "code",
   "execution_count": 4,
   "metadata": {},
   "outputs": [],
   "source": [
    "def generate_shares(func_array, x_points):\n",
    "    shares = []\n",
    "    for func in func_array:\n",
    "        f = func.poly\n",
    "        x_point_shares = {}\n",
    "        for x in x_points:\n",
    "            x_point_shares[x]=f(x)\n",
    "        shares.append(x_point_shares)\n",
    "    return shares\n",
    "\n",
    "def reconstruct(x_points, shares):\n",
    "    f = lagrange(x_points, shares)\n",
    "    return f"
   ]
  },
  {
   "cell_type": "code",
   "execution_count": 5,
   "metadata": {},
   "outputs": [],
   "source": [
    "def secure_distance_rough(alice_data, server_data, x_points):\n",
    "     # change for subtraction\n",
    "     server_data = [x*-1 for x in server_data]\n",
    "\n",
    "     f = [RandPoly(n=2, R=[(0,alice_data[0]),(1,3),(2,5)]),\n",
    "          RandPoly(n=2, R=[(0,alice_data[1]),(1,10),(2,12)])]\n",
    "     g = [RandPoly(n=2, R=[(0,server_data[0]),(1,7),(2,9)]),\n",
    "          RandPoly(n=2, R=[(0,server_data[1]),(1,13),(2,8)])]\n",
    "     h = [RandPoly(n=2, R=[(0,0),(1,4),(2,16)]),\n",
    "         RandPoly(n=2, R=[(0,0),(1,14),(2,6)])]\n",
    "    \n",
    "     f_shares = generate_shares(f, x_points)\n",
    "     g_shares = generate_shares(g, x_points)\n",
    "     h_shares = generate_shares(h, x_points)\n",
    "\n",
    "     # server points\n",
    "     s_1_point2 = f_shares[0][x_points[1]] + g_shares[0][x_points[1]] + h_shares[0][x_points[1]]\n",
    "     s_1_point3 = f_shares[0][x_points[2]] + g_shares[0][x_points[2]] + h_shares[0][x_points[2]]\n",
    "     s_2_point2 = f_shares[1][x_points[1]] + g_shares[1][x_points[1]] + h_shares[1][x_points[1]]\n",
    "     s_2_point3 = f_shares[1][x_points[2]] + g_shares[1][x_points[2]] + h_shares[1][x_points[2]]\n",
    "\n",
    "     # client points\n",
    "     s_1_point1 = f_shares[0][x_points[0]] + g_shares[0][x_points[0]] + h_shares[0][x_points[0]]\n",
    "     s_2_point1 = f_shares[1][x_points[0]] + g_shares[1][x_points[0]] + h_shares[1][x_points[0]]\n",
    "\n",
    "     # client interpolation\n",
    "     s_1_points = [s_1_point1, s_1_point2, s_1_point3]\n",
    "     s_2_points = [s_2_point1, s_2_point2, s_2_point3]\n",
    "\n",
    "     s_1_func = reconstruct(x_points, s_1_points)\n",
    "     s_2_func = reconstruct(x_points, s_2_points)\n",
    "\n",
    "     s0Vals = [s_1_func(0), s_2_func(0)]\n",
    "\n",
    "     # calc distance\n",
    "     distance = 0\n",
    "     for i in range(len(alice_data)):\n",
    "         distance += s0Vals[i]**2\n",
    "     distance = sqrt(distance) \n",
    "\n",
    "     return distance\n"
   ]
  },
  {
   "cell_type": "code",
   "execution_count": 6,
   "metadata": {},
   "outputs": [],
   "source": [
    "def generate_shares_clean(func_array, x_points):\n",
    "     shares = []\n",
    "     for func in func_array:\n",
    "          f = func.poly\n",
    "          x_point_shares = []\n",
    "          for x in x_points:\n",
    "               x_point_shares.append(f(x))\n",
    "          shares.append(x_point_shares)\n",
    "     return shares\n",
    "\n",
    "def calc_share_sums(f_shares, g_shares, h_shares):\n",
    "     s_x_points = []\n",
    "     for x_point in range(len(f_shares)):\n",
    "          s_x = []\n",
    "          for i, j, k in zip(f_shares[x_point], g_shares[x_point], h_shares[x_point]):\n",
    "               sum = i+j+k\n",
    "               s_x.append(sum)\n",
    "          s_x_points.append(s_x)\n",
    "     return s_x_points\n",
    "        \n",
    "\n",
    "def get_set_of_lagrange_points(s_shares_client, s_shares_server):\n",
    "     lagrange_set = []\n",
    "     for feature in range(len(s_shares_client[0])):\n",
    "          s_x_feature = [s_shares_client[0][feature]]\n",
    "          for i in range(len(s_shares_server[0])):\n",
    "               s_x_feature.append(s_shares_server[feature][i])\n",
    "          lagrange_set.append(s_x_feature)\n",
    "     return lagrange_set\n",
    "\n",
    "\n",
    "def secure_distance_clean(alice_data, server_data, x_points):\n",
    "     # change for subtraction\n",
    "     server_data = [x*-1 for x in server_data]\n",
    "\n",
    "     f = [RandPoly(n=2, R=[(0,alice_data[0]),(1,3),(2,5)]),\n",
    "          RandPoly(n=2, R=[(0,alice_data[1]),(1,10),(2,12)]),\n",
    "          RandPoly(n=2, R=[(0,alice_data[2]),(1,56),(2,43)]),\n",
    "          RandPoly(n=2, R=[(0,alice_data[3]),(1,29),(2,34)])]\n",
    "     \n",
    "     g = [RandPoly(n=2, R=[(0,server_data[0]),(1,7),(2,9)]),\n",
    "          RandPoly(n=2, R=[(0,server_data[1]),(1,13),(2,8)]),\n",
    "          RandPoly(n=2, R=[(0,server_data[2]),(1,42),(2,7)]),\n",
    "          RandPoly(n=2, R=[(0,server_data[3]),(1,8),(2,18)])]\n",
    "     \n",
    "     h = [RandPoly(n=2, R=[(0,0),(1,4),(2,16)]),\n",
    "         RandPoly(n=2, R=[(0,0),(1,14),(2,6)]),\n",
    "         RandPoly(n=2, R=[(0,0),(1,42),(2,78)]),\n",
    "         RandPoly(n=2, R=[(0,0),(1,5),(2,54)])]\n",
    "    \n",
    "     f_shares = generate_shares_clean(f, x_points)\n",
    "     g_shares = generate_shares_clean(g, x_points)\n",
    "     h_shares = generate_shares_clean(h, x_points)\n",
    "\n",
    "     f_shares_client = [[x[0] for x in f_shares]]\n",
    "     f_shares_server = [x[1:] for x in f_shares]\n",
    "\n",
    "     g_shares_client = [[x[0] for x in g_shares]]\n",
    "     g_shares_server = [x[1:] for x in g_shares]\n",
    "\n",
    "     h_shares_client = [[x[0] for x in h_shares]]\n",
    "     h_shares_server = [x[1:] for x in h_shares]\n",
    "\n",
    "     s_shares_server = calc_share_sums(f_shares_server, g_shares_server, h_shares_server)\n",
    "     s_shares_client = calc_share_sums(f_shares_client, g_shares_client, h_shares_client)\n",
    "\n",
    "     lagrange_points_all_s_x = get_set_of_lagrange_points(s_shares_client, s_shares_server)\n",
    "\n",
    "     # client interpolation\n",
    "     s_n_functions = [reconstruct(x_points, shares) for shares in lagrange_points_all_s_x]\n",
    "     all_s0_vals = [f(0) for f in s_n_functions]\n",
    "\n",
    "\n",
    "     # calc distance\n",
    "     distance = 0\n",
    "     for i in range(len(alice_data)):\n",
    "         distance += all_s0_vals[i]**2\n",
    "     distance = sqrt(distance) \n",
    "\n",
    "     return distance\n"
   ]
  },
  {
   "cell_type": "code",
   "execution_count": 7,
   "metadata": {},
   "outputs": [
    {
     "data": {
      "text/plain": [
       "[[13, 31, 59, 97, 145], [29, 75, 145, 239, 357]]"
      ]
     },
     "execution_count": 7,
     "metadata": {},
     "output_type": "execute_result"
    }
   ],
   "source": [
    "f = [RandPoly(n=2, R=[(0,5),(1,3),(2,5)]),\n",
    "          RandPoly(n=2, R=[(0,7),(1,10),(2,12)])]\n",
    "\n",
    "generate_shares_clean(f, [1,2,3,4,5])"
   ]
  },
  {
   "cell_type": "code",
   "execution_count": 8,
   "metadata": {},
   "outputs": [
    {
     "name": "stdout",
     "output_type": "stream",
     "text": [
      "Traditional distance:  47.67598976424087\n",
      "Secure distance:  47.67598976424068\n"
     ]
    }
   ],
   "source": [
    "alice_data = [2,16]\n",
    "server_data = [49,8]\n",
    "\n",
    "print(\"Traditional distance: \", euclidean_distance(alice_data, server_data))\n",
    "\n",
    "x_points = [2,8,13]\n",
    "print(\"Secure distance: \", secure_distance_rough(alice_data, server_data, x_points))"
   ]
  },
  {
   "cell_type": "code",
   "execution_count": 9,
   "metadata": {},
   "outputs": [
    {
     "name": "stdout",
     "output_type": "stream",
     "text": [
      "Traditional distance:  5477.482450907533\n",
      "Secure distance:  5477.482450907534\n"
     ]
    }
   ],
   "source": [
    "alice_data = [42,6,6,12]\n",
    "server_data = [3,458,5464,97]\n",
    "\n",
    "print(\"Traditional distance: \", euclidean_distance(alice_data, server_data))\n",
    "\n",
    "x_points = [2,8,13]\n",
    "print(\"Secure distance: \", secure_distance_clean(alice_data, server_data, x_points))"
   ]
  }
 ],
 "metadata": {
  "kernelspec": {
   "display_name": "sv",
   "language": "python",
   "name": "python3"
  },
  "language_info": {
   "codemirror_mode": {
    "name": "ipython",
    "version": 3
   },
   "file_extension": ".py",
   "mimetype": "text/x-python",
   "name": "python",
   "nbconvert_exporter": "python",
   "pygments_lexer": "ipython3",
   "version": "3.10.4"
  },
  "orig_nbformat": 4,
  "vscode": {
   "interpreter": {
    "hash": "c78a287c5d96b6319afb8ff820d73699c9ea67f71e25ce8473899e0e8b85a2ed"
   }
  }
 },
 "nbformat": 4,
 "nbformat_minor": 2
}
