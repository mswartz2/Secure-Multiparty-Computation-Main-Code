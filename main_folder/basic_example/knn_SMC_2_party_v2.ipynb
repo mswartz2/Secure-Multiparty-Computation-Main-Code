{
 "cells": [
  {
   "cell_type": "code",
   "execution_count": 34,
   "metadata": {},
   "outputs": [],
   "source": [
    "# example from: https://machinelearningmastery.com/tutorial-to-implement-k-nearest-neighbors-in-python-from-scratch/\n",
    "# github: https://github.com/madhug-nadig/Machine-Learning-Algorithms-from-Scratch/blob/master/K%20Means%20Clustering.py"
   ]
  },
  {
   "cell_type": "code",
   "execution_count": 35,
   "metadata": {},
   "outputs": [],
   "source": [
    "import import_ipynb\n",
    "from sklearn.datasets import load_iris\n",
    "from sklearn.utils import shuffle\n",
    "from sklearn.model_selection import StratifiedKFold\n",
    "from sklearn.metrics import f1_score, accuracy_score\n",
    "import pandas as pd\n",
    "import numpy as np\n",
    "from math import sqrt\n",
    "from numpy.linalg import inv\n",
    "from scipy.interpolate import lagrange\n",
    "import random\n",
    "from network import NetworkNode, NetworkShare, merge, reconstruct\n",
    "from smpc_secrets import ShamirSecretSharing, AdditiveSecretSharing, Vandermonde, P, RandPoly\n"
   ]
  },
  {
   "cell_type": "code",
   "execution_count": 36,
   "metadata": {},
   "outputs": [],
   "source": [
    "# calculate the Euclidean distance between two vectors\n",
    "# each row is the set of feataures for a node\n",
    "def euclidean_distance(row1, row2):\n",
    "\tdistance = 0.0\n",
    "\tfor i in range(len(row1)):\n",
    "\t\tdistance += (row1[i] - row2[i])**2\n",
    "\treturn sqrt(distance)"
   ]
  },
  {
   "cell_type": "code",
   "execution_count": 37,
   "metadata": {},
   "outputs": [],
   "source": [
    "def generate_functions(features_arr, R_set=[]):\n",
    "    all_functions = []\n",
    "    for feature in range(len(features_arr)):\n",
    "        # if R_set == []:\n",
    "        func = RandPoly(name=f\"f{feature}\", n=2, \n",
    "                        R=[(i,x) for i, x in enumerate(list(\n",
    "            [features_arr[feature],random.randint(2,250),random.randint(2,250)]))])\n",
    "        all_functions.append(func)\n",
    "        # else:\n",
    "        #     r_arr = R_set[feature]\n",
    "        #     func = RandPoly(name=f\"f{feature}\", n=2, \n",
    "        #                     R=r_arr)\n",
    "        #     all_functions.append(func)\n",
    "    return all_functions\n",
    "\n",
    "def generate_shares(func_array, node_id):\n",
    "    shares = []\n",
    "    for func in func_array:\n",
    "        shares.append(func(node_id))\n",
    "    return shares\n",
    "\n",
    "def get_feature_distances(arr1, arr2):\n",
    "    distances = []\n",
    "    for feature_a, feature_b in zip(arr1, arr2):\n",
    "        dist = (feature_a-feature_b)**2\n",
    "        distances.append(dist)\n",
    "    return distances\n",
    "\n",
    "def sum_distances(arr):\n",
    "    return sum(arr)\n",
    "\n",
    "def reconstruct(shares):\n",
    "    x = np.arange(1, len(shares) + 1)\n",
    "    y = shares\n",
    "    f = lagrange(x, y)\n",
    "    return f(0)\n",
    "    \n",
    "def simplified_calc(alice_data, bob_data):\n",
    "    # Alice's functions\n",
    "    assert len(alice_data) == len(bob_data), \"feature length mismatch!\"\n",
    "\n",
    "    # get private functions\n",
    "    alice_functions_randpoly = [RandPoly(n=2, R=[(0,alice_data[0]),(1,3),(2,5)]),\n",
    "                       RandPoly(n=2, R=[(0,alice_data[1]),(1,4),(2,6)])]\n",
    "    bob_functions_randpoly = [RandPoly(n=2, R=[(0,bob_data[0]),(1,7),(2,9)]),\n",
    "                       RandPoly(n=2, R=[(0,bob_data[1]),(1,8),(2,10)])]\n",
    "    # alice_functions_randpoly = generate_functions(alice_data)\n",
    "    # bob_functions_randpoly = generate_functions(bob_data)\n",
    "\n",
    "    alice_functions = [f.poly for f in alice_functions_randpoly]\n",
    "    bob_functions = [f.poly for f in bob_functions_randpoly]\n",
    "\n",
    "    # get shares\n",
    "    alice_personal_shares = generate_shares(alice_functions, 1)\n",
    "    alice_from_bob = generate_shares(bob_functions, 1)\n",
    "\n",
    "    bob_personal_shares = generate_shares(bob_functions, 2)\n",
    "    bob_from_alice = generate_shares(alice_functions, 2)\n",
    "\n",
    "    server_from_alice = generate_shares(alice_functions, 3)\n",
    "    server_from_bob = generate_shares(bob_functions, 3)\n",
    "\n",
    "    server_from_alice_2 = generate_shares(alice_functions, 4)\n",
    "    server_from_bob_2 = generate_shares(bob_functions, 4)\n",
    "\n",
    "    server_from_alice_3 = generate_shares(alice_functions, 5)\n",
    "    server_from_bob_3 = generate_shares(bob_functions, 5)\n",
    "\n",
    "    server_from_alice_4 = generate_shares(alice_functions, 6)\n",
    "    server_from_bob_4 = generate_shares(bob_functions, 6)\n",
    "\n",
    "    server_from_alice_5 = generate_shares(alice_functions, 7)\n",
    "    server_from_bob_5 = generate_shares(bob_functions, 7)\n",
    "\n",
    "    server_from_alice_6 = generate_shares(alice_functions, 8)\n",
    "    server_from_bob_6 = generate_shares(bob_functions, 8)\n",
    "\n",
    "    # compute differences for each feature\n",
    "    alice_diffrences = get_feature_distances(alice_personal_shares, alice_from_bob)\n",
    "    bob_differences = get_feature_distances(bob_personal_shares, bob_from_alice)\n",
    "    server_differences = get_feature_distances(server_from_alice, server_from_bob)\n",
    "    server_differences_2 = get_feature_distances(server_from_alice_2, server_from_bob_2)\n",
    "    server_differences_3 = get_feature_distances(server_from_alice_3, server_from_bob_3)\n",
    "    server_differences_4 = get_feature_distances(server_from_alice_4, server_from_bob_4)\n",
    "    server_differences_5 = get_feature_distances(server_from_alice_5, server_from_bob_5)\n",
    "    server_differences_6 = get_feature_distances(server_from_alice_6, server_from_bob_6)\n",
    "\n",
    "    # get sum of distances\n",
    "    alice_sum = sum_distances(alice_diffrences)\n",
    "    bob_sum = sum_distances(bob_differences)\n",
    "    server_sum = sum_distances(server_differences)\n",
    "    server_sum_2 = sum_distances(server_differences_2)\n",
    "    server_sum_3 = sum_distances(server_differences_3)\n",
    "    server_sum_4 = sum_distances(server_differences_4)\n",
    "    server_sum_5 = sum_distances(server_differences_5)\n",
    "    server_sum_6 = sum_distances(server_differences_6)\n",
    "    \n",
    "\n",
    "    print(alice_sum, bob_sum, server_sum, server_sum_2)\n",
    "\n",
    "\n",
    "    dist_squared = reconstruct([alice_sum, bob_sum, server_sum, server_sum_2, server_sum_3])\n",
    "\n",
    "    alice_bob_distance = np.sqrt(abs(dist_squared))\n",
    "\n",
    "    return alice_bob_distance"
   ]
  },
  {
   "cell_type": "code",
   "execution_count": 40,
   "metadata": {},
   "outputs": [
    {
     "name": "stdout",
     "output_type": "stream",
     "text": [
      "regular calc:  7.615773105863909 \n",
      "\n",
      "346 1690 5626 14458\n"
     ]
    },
    {
     "data": {
      "text/plain": [
       "7.61577310586367"
      ]
     },
     "execution_count": 40,
     "metadata": {},
     "output_type": "execute_result"
    }
   ],
   "source": [
    "# a = [0,0]\n",
    "# b = [3,3]\n",
    "\n",
    "a = [0,4]\n",
    "b = [3,11]\n",
    "\n",
    "print(\"regular calc: \", euclidean_distance(a,b), \"\\n\")\n",
    "simplified_calc(a,b)\n"
   ]
  }
 ],
 "metadata": {
  "kernelspec": {
   "display_name": "sv",
   "language": "python",
   "name": "python3"
  },
  "language_info": {
   "codemirror_mode": {
    "name": "ipython",
    "version": 3
   },
   "file_extension": ".py",
   "mimetype": "text/x-python",
   "name": "python",
   "nbconvert_exporter": "python",
   "pygments_lexer": "ipython3",
   "version": "3.10.4"
  },
  "orig_nbformat": 4,
  "vscode": {
   "interpreter": {
    "hash": "c78a287c5d96b6319afb8ff820d73699c9ea67f71e25ce8473899e0e8b85a2ed"
   }
  }
 },
 "nbformat": 4,
 "nbformat_minor": 2
}
