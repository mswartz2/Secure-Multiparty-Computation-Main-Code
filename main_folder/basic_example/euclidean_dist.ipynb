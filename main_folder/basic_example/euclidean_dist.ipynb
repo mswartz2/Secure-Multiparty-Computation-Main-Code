{
 "cells": [
  {
   "cell_type": "code",
   "execution_count": 2,
   "metadata": {},
   "outputs": [],
   "source": [
    "from math import sqrt"
   ]
  },
  {
   "cell_type": "code",
   "execution_count": 3,
   "metadata": {},
   "outputs": [],
   "source": [
    "def euclidean_distance(row1, row2):\n",
    "\tdistance = 0.0\n",
    "\tfor i in range(len(row1)):\n",
    "\t\tdistance += (row1[i] - row2[i])**2\n",
    "\treturn sqrt(distance)"
   ]
  },
  {
   "cell_type": "code",
   "execution_count": 5,
   "metadata": {},
   "outputs": [
    {
     "name": "stdout",
     "output_type": "stream",
     "text": [
      "14.273339525843276\n",
      "93.94141264586136\n",
      "167.22418415061858\n",
      "104.9048389865787\n",
      "177.34130060394844\n",
      "75.37254717004063\n"
     ]
    }
   ],
   "source": [
    "norm_1 = [59.41, 62.72, 60.9, 60.81, 1.029, 0.2822, -1.054]\n",
    "norm_2 = [51.28, 57.51, 53.66, 53.25, 1.537, 0.4861, -0.2689]\n",
    "af_1 = [67.42, 139.5, 98.15, 95.5, 17.59, 0.3183, -0.3953]\n",
    "af_2 = [55.21, 193.5, 126.1, 132.4, 39.32, -0.4306, -1.004]\n",
    "\n",
    "print(euclidean_distance(norm_1, norm_2))\n",
    "print(euclidean_distance(norm_1, af_1))\n",
    "print(euclidean_distance(norm_1, af_2))\n",
    "print(euclidean_distance(norm_2, af_1))\n",
    "print(euclidean_distance(norm_2, af_2))\n",
    "print(euclidean_distance(af_1, af_2))\n"
   ]
  }
 ],
 "metadata": {
  "kernelspec": {
   "display_name": "sv",
   "language": "python",
   "name": "python3"
  },
  "language_info": {
   "codemirror_mode": {
    "name": "ipython",
    "version": 3
   },
   "file_extension": ".py",
   "mimetype": "text/x-python",
   "name": "python",
   "nbconvert_exporter": "python",
   "pygments_lexer": "ipython3",
   "version": "3.10.4"
  },
  "orig_nbformat": 4
 },
 "nbformat": 4,
 "nbformat_minor": 2
}
