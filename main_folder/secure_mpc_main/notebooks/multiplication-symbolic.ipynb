{
 "cells": [
  {
   "cell_type": "code",
   "execution_count": 2,
   "metadata": {},
   "outputs": [],
   "source": [
    "from secrets import ShamirSecretSharing, AdditiveSecretSharing, Vandermonde, P, RandPoly"
   ]
  },
  {
   "cell_type": "code",
   "execution_count": 119,
   "metadata": {},
   "outputs": [],
   "source": [
    "from sympy import *"
   ]
  },
  {
   "cell_type": "code",
   "execution_count": 120,
   "metadata": {},
   "outputs": [],
   "source": [
    "import numpy as np\n",
    "from numpy.linalg import inv\n",
    "from scipy.interpolate import lagrange"
   ]
  },
  {
   "cell_type": "markdown",
   "metadata": {},
   "source": [
    "## Description"
   ]
  },
  {
   "cell_type": "code",
   "execution_count": 121,
   "metadata": {},
   "outputs": [],
   "source": [
    "# parameters\n",
    "#n=7 # number of parties\n",
    "#t=3 # 2t+1 <= n, subset of the parties that would reconstruct the secret of the multiplication\n",
    "p=11 # suposed to be large integer value"
   ]
  },
  {
   "cell_type": "code",
   "execution_count": 122,
   "metadata": {},
   "outputs": [
    {
     "data": {
      "text/plain": [
       "(f(x)=1+2x+3x^2, g(x)=2+3x+4x^2, h(x)=3+4x+5x^2)"
      ]
     },
     "execution_count": 122,
     "metadata": {},
     "output_type": "execute_result"
    }
   ],
   "source": [
    "# Parties\n",
    "Alice = RandPoly(name=\"f\", n=3, R=[(i,x) for i, x in enumerate(list([1,2,3]))])\n",
    "Bob = RandPoly(name=\"g\", n=3, R=[(i,x) for i, x in enumerate(list([2,3,4]))])\n",
    "Charlie = RandPoly(name=\"h\", n=3, R=[(i,x) for i, x in enumerate(list([3,4,5]))])\n",
    "Alice, Bob, Charlie"
   ]
  },
  {
   "cell_type": "markdown",
   "metadata": {},
   "source": [
    "## Generate Shares"
   ]
  },
  {
   "cell_type": "code",
   "execution_count": 123,
   "metadata": {},
   "outputs": [
    {
     "data": {
      "text/plain": [
       "(1, 2, 3)"
      ]
     },
     "execution_count": 123,
     "metadata": {},
     "output_type": "execute_result"
    }
   ],
   "source": [
    "f=Alice.poly\n",
    "g=Bob.poly\n",
    "h=Charlie.poly\n",
    "f(0), g(0), h(0)"
   ]
  },
  {
   "cell_type": "code",
   "execution_count": 124,
   "metadata": {},
   "outputs": [
    {
     "data": {
      "text/plain": [
       "(((6, 9, 12), (57, 78, 99)),\n",
       " ((17, 24, 31), (86, 117, 148)),\n",
       " ((34, 47, 60), (121, 164, 207)),\n",
       " (162, 219, 276))"
      ]
     },
     "execution_count": 124,
     "metadata": {},
     "output_type": "execute_result"
    }
   ],
   "source": [
    "# Shares\n",
    "alice_shares = (f(1), g(1), h(1)), (f(4), g(4), h(4))\n",
    "bob_shares = (f(2), g(2), h(2)), (f(5), g(5), h(5))\n",
    "charlie_shares = (f(3), g(3), h(3)), (f(6), g(6),h(6))\n",
    "\n",
    "# honest-but-curuous\n",
    "server_shares = f(7), g(7), h(7)\n",
    "\n",
    "alice_shares, bob_shares, charlie_shares, server_shares"
   ]
  },
  {
   "cell_type": "code",
   "execution_count": 125,
   "metadata": {},
   "outputs": [
    {
     "data": {
      "text/plain": [
       "(array([   648, 440154]),\n",
       " array([  12648, 1489176]),\n",
       " array([  95880, 4107708]),\n",
       " array(9791928))"
      ]
     },
     "execution_count": 125,
     "metadata": {},
     "output_type": "execute_result"
    }
   ],
   "source": [
    "# Product of shares\n",
    "alice_prod = np.array([f(1)*g(1)*h(1), f(4)*g(4)*h(4)])\n",
    "bob_prod = np.array([f(2)*g(2)*h(2), f(5)*g(5)*h(5)])\n",
    "charlie_prod = np.array([f(3)*g(3)*h(3), f(6)*g(6)*h(6)])\n",
    "server_prod = np.array(f(7)*g(7)*h(7))\n",
    "\n",
    "alice_prod, bob_prod, charlie_prod, server_prod"
   ]
  },
  {
   "cell_type": "markdown",
   "metadata": {},
   "source": [
    "## Re-randomization"
   ]
  },
  {
   "cell_type": "code",
   "execution_count": 126,
   "metadata": {},
   "outputs": [
    {
     "data": {
      "text/plain": [
       "(q(x)=1x+3x^2+2x^3+5x^4+4x^5+1x^6,\n",
       " q(x)=2x+1x^2+3x^3+2x^4+7x^5+3x^6,\n",
       " q(x)=3x+1x^2+4x^3+1x^4+1x^5+2x^6)"
      ]
     },
     "execution_count": 126,
     "metadata": {},
     "output_type": "execute_result"
    }
   ],
   "source": [
    "alice_rand = RandPoly(name=\"q\", fzc=False, n=6, R=[(i,x) for i, x in enumerate(list([0,1,3,2,5,4,1]))])\n",
    "bob_rand = RandPoly(name=\"q\", fzc=False, n=6, R=[(i,x) for i, x in enumerate(list([0,2,1,3,2,7,3]))])\n",
    "charlie_rand = RandPoly(name=\"q\", fzc=False, n=6, R=[(i,x) for i, x in enumerate(list([0,3,1,4,1,1,2]))])\n",
    "alice_rand, bob_rand, charlie_rand"
   ]
  },
  {
   "cell_type": "code",
   "execution_count": 127,
   "metadata": {},
   "outputs": [],
   "source": [
    "q1 = alice_rand.poly\n",
    "q2 = bob_rand.poly\n",
    "q3 = charlie_rand.poly"
   ]
  },
  {
   "cell_type": "code",
   "execution_count": 128,
   "metadata": {},
   "outputs": [
    {
     "data": {
      "text/plain": [
       "(array([   46, 39592]),\n",
       " array([  1000, 137530]),\n",
       " array([  8244, 385776]),\n",
       " array([930160]))"
      ]
     },
     "execution_count": 128,
     "metadata": {},
     "output_type": "execute_result"
    }
   ],
   "source": [
    "alice_q = np.array([q1(1) + q2(1) + q3(1), q1(4) + q2(4) + q3(4)])\n",
    "bob_q = np.array([q1(2) + q2(2) + q3(2), q1(5) + q2(5) + q3(5)])\n",
    "charlie_q = np.array([q1(3) + q2(3) + q3(3), q1(6) + q2(6) + q3(6)])\n",
    "server_q = np.array([q1(7) + q2(7) + q3(7)])\n",
    "\n",
    "alice_q, bob_q, charlie_q, server_q"
   ]
  },
  {
   "cell_type": "code",
   "execution_count": 129,
   "metadata": {},
   "outputs": [
    {
     "data": {
      "text/plain": [
       "(array([   694, 479746]),\n",
       " array([  13648, 1626706]),\n",
       " array([ 104124, 4493484]),\n",
       " array([10722088]))"
      ]
     },
     "execution_count": 129,
     "metadata": {},
     "output_type": "execute_result"
    }
   ],
   "source": [
    "alice_s = alice_prod + alice_q\n",
    "bob_s = bob_prod + bob_q\n",
    "charlie_s = charlie_prod + charlie_q\n",
    "\n",
    "server_s = server_prod + server_q\n",
    "\n",
    "alice_s, bob_s, charlie_s, server_s"
   ]
  },
  {
   "cell_type": "code",
   "execution_count": 130,
   "metadata": {},
   "outputs": [
    {
     "data": {
      "text/latex": [
       "$\\displaystyle \\left[\\begin{matrix}694\\\\13648\\\\104124\\\\479746\\\\1626706\\\\4493484\\\\10722088\\end{matrix}\\right]$"
      ],
      "text/plain": [
       "Matrix([\n",
       "[     694],\n",
       "[   13648],\n",
       "[  104124],\n",
       "[  479746],\n",
       "[ 1626706],\n",
       "[ 4493484],\n",
       "[10722088]])"
      ]
     },
     "execution_count": 130,
     "metadata": {},
     "output_type": "execute_result"
    }
   ],
   "source": [
    "S = np.array([alice_s[0], bob_s[0], charlie_s[0], alice_s[1], bob_s[1], charlie_s[1]])\n",
    "S = np.append(S, server_s)\n",
    "# S, S.shape\n",
    "S = Matrix(S.tolist())\n",
    "S"
   ]
  },
  {
   "cell_type": "markdown",
   "metadata": {},
   "source": [
    "## Degree Reduction"
   ]
  },
  {
   "cell_type": "code",
   "execution_count": 131,
   "metadata": {},
   "outputs": [
    {
     "data": {
      "text/plain": [
       "(Matrix([\n",
       " [1, 1,  1,   1,    1,     1,      1],\n",
       " [1, 2,  4,   8,   16,    32,     64],\n",
       " [1, 3,  9,  27,   81,   243,    729],\n",
       " [1, 4, 16,  64,  256,  1024,   4096],\n",
       " [1, 5, 25, 125,  625,  3125,  15625],\n",
       " [1, 6, 36, 216, 1296,  7776,  46656],\n",
       " [1, 7, 49, 343, 2401, 16807, 117649]]),\n",
       " Matrix([\n",
       " [      7,       -21,       35,      -35,      21,        -7,      1],\n",
       " [-223/20,    879/20,  -949/12,       82,  -201/4,   1019/60, -49/20],\n",
       " [ 319/45, -3929/120,    389/6, -2545/36,   134/3, -1849/120, 203/90],\n",
       " [ -37/16,      71/6, -1219/48,     88/3, -925/48,      41/6, -49/48],\n",
       " [ 59/144,      -9/4,   247/48,  -113/18,   69/16,    -19/12, 35/144],\n",
       " [  -3/80,     13/60,   -25/48,      2/3,  -23/48,     11/60, -7/240],\n",
       " [  1/720,    -1/120,     1/48,    -1/36,    1/48,    -1/120,  1/720]]))"
      ]
     },
     "execution_count": 131,
     "metadata": {},
     "output_type": "execute_result"
    }
   ],
   "source": [
    "# Vandermonde Matrix\n",
    "# B = np.array(Vandermonde(n=7))\n",
    "# B = np.vander(np.array([1,2,3,4,5,6,7]), increasing=True)\n",
    "B= Matrix(Vandermonde(n=7))\n",
    "\n",
    "# Inverse Vandermonde Matrix\n",
    "# Binv = inv(B)\n",
    "Binv = B ** -1\n",
    "# B, Binv\n",
    "B, Binv"
   ]
  },
  {
   "cell_type": "markdown",
   "metadata": {},
   "source": [
    "## Linear Projection Matrix"
   ]
  },
  {
   "cell_type": "code",
   "execution_count": 132,
   "metadata": {},
   "outputs": [
    {
     "data": {
      "text/latex": [
       "$\\displaystyle \\left[\\begin{matrix}1 & 0 & 0 & 0 & 0 & 0 & 0\\\\0 & 1 & 0 & 0 & 0 & 0 & 0\\\\0 & 0 & 1 & 0 & 0 & 0 & 0\\\\0 & 0 & 0 & 0 & 0 & 0 & 0\\\\0 & 0 & 0 & 0 & 0 & 0 & 0\\\\0 & 0 & 0 & 0 & 0 & 0 & 0\\\\0 & 0 & 0 & 0 & 0 & 0 & 0\\end{matrix}\\right]$"
      ],
      "text/plain": [
       "Matrix([\n",
       "[1, 0, 0, 0, 0, 0, 0],\n",
       "[0, 1, 0, 0, 0, 0, 0],\n",
       "[0, 0, 1, 0, 0, 0, 0],\n",
       "[0, 0, 0, 0, 0, 0, 0],\n",
       "[0, 0, 0, 0, 0, 0, 0],\n",
       "[0, 0, 0, 0, 0, 0, 0],\n",
       "[0, 0, 0, 0, 0, 0, 0]])"
      ]
     },
     "execution_count": 132,
     "metadata": {},
     "output_type": "execute_result"
    }
   ],
   "source": [
    "# Proj = np.array(P(n=n,t=t))\n",
    "# P(n=7,t=3)\n",
    "Proj = Matrix(P(n=7,t=3))\n",
    "Proj"
   ]
  },
  {
   "cell_type": "markdown",
   "metadata": {},
   "source": [
    "## Matrix of product points reduction "
   ]
  },
  {
   "cell_type": "code",
   "execution_count": 133,
   "metadata": {},
   "outputs": [
    {
     "data": {
      "text/latex": [
       "$\\displaystyle \\left[\\begin{matrix}\\frac{529}{180} & - \\frac{235}{24} & \\frac{83}{4} & - \\frac{853}{36} & \\frac{185}{12} & - \\frac{217}{40} & \\frac{29}{36}\\\\\\frac{235}{18} & - \\frac{961}{15} & \\frac{817}{6} & - \\frac{1384}{9} & \\frac{595}{6} & - \\frac{104}{3} & \\frac{461}{90}\\\\\\frac{747}{20} & - \\frac{7353}{40} & \\frac{1525}{4} & - \\frac{1701}{4} & \\frac{1089}{4} & - \\frac{3789}{40} & \\frac{279}{20}\\\\\\frac{3412}{45} & - \\frac{5536}{15} & 756 & - \\frac{7543}{9} & \\frac{1604}{3} & - \\frac{928}{5} & \\frac{1228}{45}\\\\\\frac{4625}{36} & - \\frac{14875}{24} & \\frac{15125}{12} & - \\frac{50125}{36} & \\frac{10637}{12} & - \\frac{7375}{24} & \\frac{1625}{36}\\\\\\frac{1953}{10} & -936 & \\frac{3789}{2} & -2088 & \\frac{2655}{2} & - \\frac{2299}{5} & \\frac{135}{2}\\\\\\frac{9947}{36} & - \\frac{158123}{120} & \\frac{10633}{4} & - \\frac{105301}{36} & \\frac{22295}{12} & - \\frac{5145}{8} & \\frac{16987}{180}\\end{matrix}\\right]$"
      ],
      "text/plain": [
       "Matrix([\n",
       "[529/180,     -235/24,     83/4,    -853/36,   185/12,  -217/40,     29/36],\n",
       "[ 235/18,     -961/15,    817/6,    -1384/9,    595/6,   -104/3,    461/90],\n",
       "[ 747/20,    -7353/40,   1525/4,    -1701/4,   1089/4, -3789/40,    279/20],\n",
       "[3412/45,    -5536/15,      756,    -7543/9,   1604/3,   -928/5,   1228/45],\n",
       "[4625/36,   -14875/24, 15125/12,  -50125/36, 10637/12, -7375/24,   1625/36],\n",
       "[1953/10,        -936,   3789/2,      -2088,   2655/2,  -2299/5,     135/2],\n",
       "[9947/36, -158123/120,  10633/4, -105301/36, 22295/12,  -5145/8, 16987/180]])"
      ]
     },
     "execution_count": 133,
     "metadata": {},
     "output_type": "execute_result"
    }
   ],
   "source": [
    "# A = B @ Proj @ Binv\n",
    "# A, A.shape, S.shape\n",
    "A = B * Proj * Binv\n",
    "A"
   ]
  },
  {
   "cell_type": "markdown",
   "metadata": {},
   "source": [
    "## Randomized polynomial outputs"
   ]
  },
  {
   "cell_type": "code",
   "execution_count": 134,
   "metadata": {},
   "outputs": [
    {
     "data": {
      "text/latex": [
       "$\\displaystyle \\left[\\begin{matrix}132\\\\440\\\\930\\\\1602\\\\2456\\\\3492\\\\4710\\end{matrix}\\right]$"
      ],
      "text/plain": [
       "Matrix([\n",
       "[ 132],\n",
       "[ 440],\n",
       "[ 930],\n",
       "[1602],\n",
       "[2456],\n",
       "[3492],\n",
       "[4710]])"
      ]
     },
     "execution_count": 134,
     "metadata": {},
     "output_type": "execute_result"
    }
   ],
   "source": [
    "R = A * S\n",
    "R"
   ]
  },
  {
   "cell_type": "markdown",
   "metadata": {},
   "source": [
    "## Lagrange Interpolation"
   ]
  },
  {
   "cell_type": "code",
   "execution_count": 135,
   "metadata": {},
   "outputs": [
    {
     "data": {
      "text/plain": [
       "(132,\n",
       " [(1, [132]),\n",
       "  (2, [440]),\n",
       "  (3, [930]),\n",
       "  (4, [1602]),\n",
       "  (5, [2456]),\n",
       "  (6, [3492]),\n",
       "  (7, [4710])],\n",
       " [(1, [132]), (2, [440]), (3, [930])])"
      ]
     },
     "execution_count": 135,
     "metadata": {},
     "output_type": "execute_result"
    }
   ],
   "source": [
    "shares = [(i+1, r) for (i, r) in enumerate(R.tolist())]\n",
    "R[0], shares, shares[0:3]"
   ]
  },
  {
   "cell_type": "code",
   "execution_count": 136,
   "metadata": {},
   "outputs": [
    {
     "data": {
      "text/plain": [
       "(array([1, 2, 3]),\n",
       " [132, 440, 930],\n",
       " poly1d([91.0000000000000, 35.0000000000000, 6.00000000000000], dtype=object))"
      ]
     },
     "execution_count": 136,
     "metadata": {},
     "output_type": "execute_result"
    }
   ],
   "source": [
    "# Lagrange Interpolation for Multiplication \n",
    "x = np.arange(1,len(shares[0:3])+1) # prod points indices\n",
    "y = R[0:3]      # prod points values\n",
    "f = lagrange(x, y)\n",
    "x, y, f"
   ]
  },
  {
   "cell_type": "markdown",
   "metadata": {},
   "source": [
    "## Degree reduced (and Randomized) polynomial"
   ]
  },
  {
   "cell_type": "code",
   "execution_count": 137,
   "metadata": {},
   "outputs": [
    {
     "data": {
      "text/plain": [
       "6.00000000000000+35.0000000000000x+91.0000000000000x^2"
      ]
     },
     "execution_count": 137,
     "metadata": {},
     "output_type": "execute_result"
    }
   ],
   "source": [
    "coef = [(i, r) for (i,r) in enumerate(np.flip(f.coef).tolist())]\n",
    "p = RandPoly(n=t, R=coef)\n",
    "p"
   ]
  },
  {
   "cell_type": "markdown",
   "metadata": {},
   "source": [
    "## Secret Multiplication Result"
   ]
  },
  {
   "cell_type": "code",
   "execution_count": 138,
   "metadata": {},
   "outputs": [
    {
     "data": {
      "text/latex": [
       "$\\displaystyle 6.0$"
      ],
      "text/plain": [
       "6.00000000000000"
      ]
     },
     "execution_count": 138,
     "metadata": {},
     "output_type": "execute_result"
    }
   ],
   "source": [
    "p.poly(0)"
   ]
  },
  {
   "cell_type": "code",
   "execution_count": null,
   "metadata": {},
   "outputs": [],
   "source": []
  }
 ],
 "metadata": {
  "kernelspec": {
   "display_name": "Python 3",
   "language": "python",
   "name": "python3"
  },
  "language_info": {
   "codemirror_mode": {
    "name": "ipython",
    "version": 3
   },
   "file_extension": ".py",
   "mimetype": "text/x-python",
   "name": "python",
   "nbconvert_exporter": "python",
   "pygments_lexer": "ipython3",
   "version": "3.8.5"
  }
 },
 "nbformat": 4,
 "nbformat_minor": 4
}
