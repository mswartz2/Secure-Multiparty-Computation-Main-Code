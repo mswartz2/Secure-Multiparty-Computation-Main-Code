{
 "cells": [
  {
   "cell_type": "code",
   "execution_count": 1,
   "metadata": {},
   "outputs": [],
   "source": [
    "import os\n",
    "os.chdir(\"c:\\\\Users\\\\swart\\\\Desktop\\\\secure-mpc-main\\\\secure_mpc_main\")\n",
    "from smpc_secrets import ShamirSecretSharing, AdditiveSecretSharing, Vandermonde, P, RandPoly"
   ]
  },
  {
   "cell_type": "code",
   "execution_count": 2,
   "metadata": {},
   "outputs": [],
   "source": [
    "import numpy as np\n",
    "from numpy.linalg import inv\n",
    "from scipy.interpolate import lagrange"
   ]
  },
  {
   "cell_type": "code",
   "execution_count": 3,
   "metadata": {},
   "outputs": [],
   "source": [
    "# Alice's point\n",
    "Ax,Ay = 1,3\n",
    "# Bob's point\n",
    "Bx,By = 4,2\n"
   ]
  },
  {
   "cell_type": "code",
   "execution_count": 36,
   "metadata": {},
   "outputs": [
    {
     "data": {
      "text/plain": [
       "(<bound method RandPoly.poly of f1(x)=1+6x>,\n",
       " <bound method RandPoly.poly of f2(x)=3+6x>,\n",
       " <bound method RandPoly.poly of g1(x)=4+89x>,\n",
       " <bound method RandPoly.poly of g2(x)=2+456x>)"
      ]
     },
     "execution_count": 36,
     "metadata": {},
     "output_type": "execute_result"
    }
   ],
   "source": [
    "# Alice's polynomials\n",
    "# f is for each feature\n",
    "f1 = RandPoly(name=\"f1\", n=1, R=[(i,x) for i, x in enumerate(list([Ax,2]))]).poly\n",
    "f2 = RandPoly(name=\"f2\", n=1, R=[(i,x) for i, x in enumerate(list([Ay,3]))]).poly\n",
    "\n",
    "# Bob's polynomials\n",
    "g1 = RandPoly(name=\"g1\", n=1, R=[(i,x) for i, x in enumerate(list([Bx,4]))]).poly\n",
    "g2 = RandPoly(name=\"g2\", n=1, R=[(i,x) for i, x in enumerate(list([By,5]))]).poly\n",
    "f1,f2,g1,g2"
   ]
  },
  {
   "cell_type": "code",
   "execution_count": 37,
   "metadata": {},
   "outputs": [
    {
     "data": {
      "text/plain": [
       "((7, 9, 93, 458), (13, 15, 182, 914))"
      ]
     },
     "execution_count": 37,
     "metadata": {},
     "output_type": "execute_result"
    }
   ],
   "source": [
    "# Alice's shares\n",
    "alice_shares = f1(1),f2(1),g1(1),g2(1)\n",
    "\n",
    "# Bob's shares\n",
    "bob_shares = f1(2),f2(2),g1(2),g2(2)\n",
    "\n",
    "alice_shares, bob_shares"
   ]
  },
  {
   "cell_type": "code",
   "execution_count": 38,
   "metadata": {},
   "outputs": [
    {
     "data": {
      "text/plain": [
       "(7396, 201601, 28561, 808201)"
      ]
     },
     "execution_count": 38,
     "metadata": {},
     "output_type": "execute_result"
    }
   ],
   "source": [
    "# Alice computes d1(1)^2 and d2(1)^2\n",
    "alice_d12 = (f1(1)-g1(1))**2\n",
    "alice_d22 = (f2(1)-g2(1))**2\n",
    "\n",
    "# Bob computes d1(2)^2 and d2(2)^2\n",
    "bob_d12 = (f1(2)-g1(2))**2\n",
    "bob_d22 = (f2(2)-g2(2))**2\n",
    "\n",
    "alice_d12, alice_d22, bob_d12, bob_d22"
   ]
  },
  {
   "cell_type": "code",
   "execution_count": 39,
   "metadata": {},
   "outputs": [
    {
     "data": {
      "text/plain": [
       "(208997, 836762)"
      ]
     },
     "execution_count": 39,
     "metadata": {},
     "output_type": "execute_result"
    }
   ],
   "source": [
    "# Alice computes dAB(1)^2\n",
    "alice_dAB = alice_d12 + alice_d22\n",
    "\n",
    "# Bob computes dAB(2)^2\n",
    "bob_dAB = bob_d12 + bob_d22\n",
    "\n",
    "alice_dAB, bob_dAB"
   ]
  },
  {
   "cell_type": "code",
   "execution_count": 40,
   "metadata": {},
   "outputs": [
    {
     "data": {
      "text/plain": [
       "1883305"
      ]
     },
     "execution_count": 40,
     "metadata": {},
     "output_type": "execute_result"
    }
   ],
   "source": [
    "# Server computes dAB(3)^2\n",
    "server_dAB = (f1(3)-g1(3))**2 + (f2(3)-g2(3))**2\n",
    "server_dAB"
   ]
  },
  {
   "cell_type": "code",
   "execution_count": 41,
   "metadata": {},
   "outputs": [
    {
     "data": {
      "text/plain": [
       "(array([1, 2, 3]),\n",
       " [208997, 836762, 1883305],\n",
       " poly1d([ 2.09389e+05, -4.02000e+02,  1.00000e+01]))"
      ]
     },
     "execution_count": 41,
     "metadata": {},
     "output_type": "execute_result"
    }
   ],
   "source": [
    "# Alice's find dAB^2(x) using Lagrange interpolation from shares receives from Bob and the server (alice_dAB, bob_dAB, server_dAB)\n",
    "# Lagrange Interpolation\n",
    "X = [alice_dAB, bob_dAB, server_dAB]\n",
    "x = np.arange(1,len(X)+1) # indices\n",
    "y = X      # prod points values\n",
    "f = lagrange(x, y)\n",
    "x, y, f"
   ]
  },
  {
   "cell_type": "code",
   "execution_count": 43,
   "metadata": {},
   "outputs": [
    {
     "data": {
      "text/plain": [
       "(10.0, 3.1622776601683795)"
      ]
     },
     "execution_count": 43,
     "metadata": {},
     "output_type": "execute_result"
    }
   ],
   "source": [
    "# Alice computes distance between Alice and Bob dAB\n",
    "dAB_square = f(0)\n",
    "dAB = np.sqrt(f(0))\n",
    "dAB_square, dAB"
   ]
  },
  {
   "cell_type": "code",
   "execution_count": null,
   "metadata": {},
   "outputs": [],
   "source": []
  }
 ],
 "metadata": {
  "kernelspec": {
   "display_name": "sv",
   "language": "python",
   "name": "python3"
  },
  "language_info": {
   "codemirror_mode": {
    "name": "ipython",
    "version": 3
   },
   "file_extension": ".py",
   "mimetype": "text/x-python",
   "name": "python",
   "nbconvert_exporter": "python",
   "pygments_lexer": "ipython3",
   "version": "3.10.4"
  },
  "vscode": {
   "interpreter": {
    "hash": "c78a287c5d96b6319afb8ff820d73699c9ea67f71e25ce8473899e0e8b85a2ed"
   }
  }
 },
 "nbformat": 4,
 "nbformat_minor": 4
}
