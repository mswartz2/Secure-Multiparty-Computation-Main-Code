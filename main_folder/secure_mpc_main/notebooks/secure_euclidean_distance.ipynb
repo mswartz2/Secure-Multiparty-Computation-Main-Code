{
 "cells": [
  {
   "cell_type": "code",
   "execution_count": 1,
   "metadata": {},
   "outputs": [],
   "source": [
    "from smpc_secrets import ShamirSecretSharing, AdditiveSecretSharing, Vandermonde, P, RandPoly"
   ]
  },
  {
   "cell_type": "code",
   "execution_count": 2,
   "metadata": {},
   "outputs": [],
   "source": [
    "import numpy as np\n",
    "from numpy.linalg import inv\n",
    "from scipy.interpolate import lagrange"
   ]
  },
  {
   "cell_type": "code",
   "execution_count": 3,
   "metadata": {},
   "outputs": [],
   "source": [
    "class ShamirShare:\n",
    "    def __init__(self,id, t, n, secrets):\n",
    "        self.computations = []\n",
    "        self.all_shares = []\n",
    "        self.id = id\n",
    "        for secret in secrets:\n",
    "            shamir = ShamirSecretSharing(n=n, t=t)\n",
    "            shares = shamir.generate(s=secret)\n",
    "            self.all_shares.append(shares)\n",
    "            self.computations.append((shamir, shares))\n",
    "        self.shares = self.get_share(id)\n",
    "        \n",
    "    \n",
    "    def get_share(self,id):\n",
    "        return [shares[id][1] for shares in self.all_shares]\n",
    "        \n",
    "    def reconstruct(self):\n",
    "        secrets = []\n",
    "        for shamir, shares in self.computations:\n",
    "            secrets.append(shamir.reconstruct(shares=shares))\n",
    "        return secrets\n",
    "    \n",
    "    def _compute(self, other, op):\n",
    "        assert len(self.shares) == len(other)\n",
    "        for i in range(len(self.shares)):\n",
    "            self.shares[i] = op(self.shares[i], other[i])\n",
    "    \n",
    "    def __add__(self,other):\n",
    "        op = lambda x,y: x+y\n",
    "        self._compute(self.shares, other, op)\n",
    "        \n",
    "    def __sub__(self,other):\n",
    "        op = lambda x,y: x-y\n",
    "        self._compute(self.shares, other, op)\n",
    "        \n",
    "    def __pow__(self, other):\n",
    "        for i in range(len(self.shares)):\n",
    "            self.shares[i] **= 2"
   ]
  },
  {
   "cell_type": "code",
   "execution_count": 4,
   "metadata": {},
   "outputs": [],
   "source": [
    "class PeerToPeer:\n",
    "    def __init__(self):\n",
    "        pass\n",
    "        \n",
    "    def get_shares(self,X,Y):\n",
    "        n=2\n",
    "        t=2\n",
    "        # Alice\n",
    "        alice = ShamirShare(id=1, t=t, n=n, secrets=X)\n",
    "        # Bob\n",
    "        bob = ShamirShare(id=2, t=t, n=n, secrets=Y)\n",
    "\n",
    "        # polynomials\n",
    "        f = [alice.computations[i][0].poly for i in range(n)]\n",
    "        g = [bob.computations[i][0].poly for i in range(n)]\n",
    "\n",
    "        alice_id = 1\n",
    "        alice_points = np.array([(f[i](alice_id), g[i](alice_id)) for i in range(n)])\n",
    "\n",
    "        # Bob's polynomials\n",
    "        bob_id = 2\n",
    "        bob_points = np.array([(f[i](bob_id), g[i](bob_id)) for i in range(n)])\n",
    "\n",
    "        # server computes d1(1)^2 and d2(1)^2\n",
    "        server_id=3\n",
    "        server_points = np.array([(f[i](server_id),g[i](server_id)) for i in range(n)])\n",
    "        return np.stack((alice_points, bob_points, server_points))\n",
    "    \n",
    "    "
   ]
  },
  {
   "cell_type": "code",
   "execution_count": 5,
   "metadata": {},
   "outputs": [
    {
     "name": "stdout",
     "output_type": "stream",
     "text": [
      "(0, 1)\n",
      "(2, 3)\n",
      "(4, 5)\n",
      "(6, 7)\n",
      "(8, 9)\n"
     ]
    }
   ],
   "source": [
    "for i in range(0,10,2):\n",
    "    print((i, i+1))"
   ]
  },
  {
   "cell_type": "code",
   "execution_count": 6,
   "metadata": {},
   "outputs": [],
   "source": [
    "class SecureEuclideanDistance:\n",
    "    def __init__(self, k, shares = []):\n",
    "        self.k = k\n",
    "        self.shares = np.array([])\n",
    "        self.shares = np.append(self.shares, X)\n",
    "        \n",
    "    def add_shares(shares):\n",
    "        self.shares = np.append(self.shares, shares)\n",
    "        \n",
    "    def compute(self,shares):\n",
    "        d = [[np.power(point[0] - point[1],2) for point in share] for share in shares]\n",
    "        dist = np.sum(d, axis=1)\n",
    "        x = np.arange(1,len(dist)+1)\n",
    "        y = dist\n",
    "        f = lagrange(x, y)\n",
    "        return f(0), np.sqrt(f(0))"
   ]
  },
  {
   "cell_type": "code",
   "execution_count": 7,
   "metadata": {},
   "outputs": [],
   "source": [
    "class PeerToPeer:\n",
    "    def __init__(self, k):\n",
    "        self.k=k\n",
    "        self.shares = np.array([])\n",
    "        \n",
    "       \n",
    "    def get_shares(self,data):\n",
    "        n=len(data)\n",
    "        t=self.k\n",
    "        for point in data:\n",
    "            X = data[0]\n",
    "            Y = data[1]\n",
    "            shares = self._get_shares(X,Y)\n",
    "            print(shares)\n",
    "            self.shares = np.append(self.shares, shares)\n",
    "        \n",
    "        return shares\n",
    "            \n",
    "            \n",
    "            \n",
    "    def _get_shares(self,X,Y):\n",
    "        n=2\n",
    "        t=2\n",
    "        # Alice\n",
    "        alice = ShamirShare(id=1, t=t, n=n, secrets=X)\n",
    "        # Bob\n",
    "        bob = ShamirShare(id=2, t=t, n=n, secrets=Y)\n",
    "\n",
    "        # polynomials\n",
    "        f = [alice.computations[i][0].poly for i in range(n)]\n",
    "        g = [bob.computations[i][0].poly for i in range(n)]\n",
    "\n",
    "        alice_id = 1\n",
    "        alice_points = np.array([(f[i](alice_id), g[i](alice_id)) for i in range(n)])\n",
    "\n",
    "        # Bob's polynomials\n",
    "        bob_id = 2\n",
    "        bob_points = np.array([(f[i](bob_id), g[i](bob_id)) for i in range(n)])\n",
    "\n",
    "        # server computes d1(1)^2 and d2(1)^2\n",
    "        server_id=3\n",
    "        server_points = np.array([(f[i](server_id),g[i](server_id)) for i in range(n)])\n",
    "        return np.stack((alice_points, bob_points, server_points))"
   ]
  },
  {
   "cell_type": "code",
   "execution_count": 8,
   "metadata": {},
   "outputs": [
    {
     "data": {
      "text/plain": [
       "array([[1, 3],\n",
       "       [4, 2]])"
      ]
     },
     "execution_count": 8,
     "metadata": {},
     "output_type": "execute_result"
    }
   ],
   "source": [
    "X=[1,3]\n",
    "Y=[4,2]\n",
    "data_point = np.array([X, Y])\n",
    "data_point"
   ]
  },
  {
   "cell_type": "code",
   "execution_count": 9,
   "metadata": {},
   "outputs": [
    {
     "name": "stdout",
     "output_type": "stream",
     "text": [
      "[[[ 177  213]\n",
      "  [ 432  394]]\n",
      "\n",
      " [[ 353  422]\n",
      "  [ 861  786]]\n",
      "\n",
      " [[ 529  631]\n",
      "  [1290 1178]]]\n",
      "[[[ 197 1260]\n",
      "  [ 591  791]]\n",
      "\n",
      " [[ 393 2516]\n",
      "  [1179 1580]]\n",
      "\n",
      " [[ 589 3772]\n",
      "  [1767 2369]]]\n"
     ]
    },
    {
     "data": {
      "text/plain": [
       "(array([[[ 197, 1260],\n",
       "         [ 591,  791]],\n",
       " \n",
       "        [[ 393, 2516],\n",
       "         [1179, 1580]],\n",
       " \n",
       "        [[ 589, 3772],\n",
       "         [1767, 2369]]]),\n",
       " (10.0, 3.1622776601683795))"
      ]
     },
     "execution_count": 9,
     "metadata": {},
     "output_type": "execute_result"
    }
   ],
   "source": [
    "p2p = PeerToPeer(k=2)\n",
    "shares = p2p.get_shares(data_point)\n",
    "dist = SecureEuclideanDistance(k=3)\n",
    "shares, dist.compute(shares)"
   ]
  },
  {
   "cell_type": "code",
   "execution_count": null,
   "metadata": {},
   "outputs": [],
   "source": []
  }
 ],
 "metadata": {
  "kernelspec": {
   "display_name": "sv",
   "language": "python",
   "name": "python3"
  },
  "language_info": {
   "codemirror_mode": {
    "name": "ipython",
    "version": 3
   },
   "file_extension": ".py",
   "mimetype": "text/x-python",
   "name": "python",
   "nbconvert_exporter": "python",
   "pygments_lexer": "ipython3",
   "version": "3.10.4"
  },
  "vscode": {
   "interpreter": {
    "hash": "c78a287c5d96b6319afb8ff820d73699c9ea67f71e25ce8473899e0e8b85a2ed"
   }
  }
 },
 "nbformat": 4,
 "nbformat_minor": 4
}
