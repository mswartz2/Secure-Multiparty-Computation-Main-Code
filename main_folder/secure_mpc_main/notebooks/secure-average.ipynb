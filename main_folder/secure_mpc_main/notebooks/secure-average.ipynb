{
 "cells": [
  {
   "cell_type": "code",
   "execution_count": 1,
   "metadata": {
    "collapsed": true
   },
   "outputs": [],
   "source": [
    "import numpy as np\n",
    "from network import ShamirShare, merge_sum, interpolate"
   ]
  },
  {
   "cell_type": "code",
   "execution_count": 2,
   "metadata": {
    "collapsed": false,
    "pycharm": {
     "name": "#%%\n"
    }
   },
   "outputs": [
    {
     "name": "stdout",
     "output_type": "stream",
     "text": [
      "f\n",
      "f\n"
     ]
    },
    {
     "data": {
      "text/plain": [
       "({'f': array([[ 398,  700,  673,  219,  974],\n",
       "         [ 795, 1398, 1343,  434, 1943]])},\n",
       " {'f': array([[ 757,  328,  169, 1023, 1186],\n",
       "         [1508,  649,  330, 2037, 2362]])})"
      ]
     },
     "execution_count": 2,
     "metadata": {},
     "output_type": "execute_result"
    }
   ],
   "source": [
    "alice = ShamirShare(name=\"Alice\", n=2, k=2, node_id=1)\n",
    "bob = ShamirShare(name=\"Bob\", n=2, k=2, node_id=2)\n",
    "alice.create_shares(data=[1, 2, 3, 4, 5])\n",
    "bob.create_shares(data=[6, 7, 8, 9, 10])\n",
    "alice.shares, bob.shares"
   ]
  },
  {
   "cell_type": "code",
   "execution_count": 4,
   "metadata": {
    "collapsed": false,
    "pycharm": {
     "name": "#%%\n"
    }
   },
   "outputs": [
    {
     "data": {
      "text/plain": [
       "array([372, 972, 536, 348, 276])"
      ]
     },
     "execution_count": 4,
     "metadata": {},
     "output_type": "execute_result"
    }
   ],
   "source": [
    "alice_received_from_bob = bob.get_shares_for(node_id=1, share_type=\"f\")\n",
    "alice_received_from_bob"
   ]
  },
  {
   "cell_type": "code",
   "execution_count": 5,
   "metadata": {
    "collapsed": false,
    "pycharm": {
     "name": "#%%\n"
    }
   },
   "outputs": [
    {
     "data": {
      "text/plain": [
       "{'f': array([[  34,  398,  646,  998,  854],\n",
       "        [  67,  794, 1289, 1992, 1703]]),\n",
       " 'd': array([ 406, 1370, 1182, 1346, 1130])}"
      ]
     },
     "execution_count": 5,
     "metadata": {},
     "output_type": "execute_result"
    }
   ],
   "source": [
    "alice.merge_shares(shares=alice_received_from_bob, by=merge_sum)\n",
    "alice.shares"
   ]
  },
  {
   "cell_type": "code",
   "execution_count": 6,
   "metadata": {
    "collapsed": false,
    "pycharm": {
     "name": "#%%\n"
    }
   },
   "outputs": [
    {
     "data": {
      "text/plain": [
       "array([  67,  794, 1289, 1992, 1703])"
      ]
     },
     "execution_count": 6,
     "metadata": {},
     "output_type": "execute_result"
    }
   ],
   "source": [
    "bob_received_from_alice = alice.get_shares_for(node_id=2, share_type=\"f\")\n",
    "bob_received_from_alice\n"
   ]
  },
  {
   "cell_type": "code",
   "execution_count": 7,
   "metadata": {
    "collapsed": false,
    "pycharm": {
     "name": "#%%\n"
    }
   },
   "outputs": [
    {
     "data": {
      "text/plain": [
       "{'f': array([[ 372,  972,  536,  348,  276],\n",
       "        [ 738, 1937, 1064,  687,  542]]),\n",
       " 'd': array([ 805, 2731, 2353, 2679, 2245])}"
      ]
     },
     "execution_count": 7,
     "metadata": {},
     "output_type": "execute_result"
    }
   ],
   "source": [
    "bob.merge_shares(shares=bob_received_from_alice, by=merge_sum)\n",
    "bob.shares"
   ]
  },
  {
   "cell_type": "code",
   "execution_count": 8,
   "metadata": {
    "collapsed": false,
    "pycharm": {
     "name": "#%%\n"
    }
   },
   "outputs": [
    {
     "data": {
      "text/plain": [
       "(array([ 406, 1370, 1182, 1346, 1130]), array([ 805, 2731, 2353, 2679, 2245]))"
      ]
     },
     "execution_count": 8,
     "metadata": {},
     "output_type": "execute_result"
    }
   ],
   "source": [
    "alice_d = alice.get_shares(\"d\")\n",
    "bob_d = bob.get_shares(\"d\")\n",
    "alice_d, bob_d\n"
   ]
  },
  {
   "cell_type": "code",
   "execution_count": 9,
   "metadata": {
    "collapsed": false,
    "pycharm": {
     "name": "#%%\n"
    }
   },
   "outputs": [
    {
     "data": {
      "text/plain": [
       "(array([[ 406,  805],\n",
       "        [1370, 2731],\n",
       "        [1182, 2353],\n",
       "        [1346, 2679],\n",
       "        [1130, 2245]]),\n",
       " array([[ 406, 1370, 1182, 1346, 1130],\n",
       "        [ 805, 2731, 2353, 2679, 2245]]))"
      ]
     },
     "execution_count": 9,
     "metadata": {},
     "output_type": "execute_result"
    }
   ],
   "source": [
    "d = np.vstack((alice_d, bob_d)).T\n",
    "d, d.T\n",
    "# output"
   ]
  },
  {
   "cell_type": "code",
   "execution_count": 10,
   "metadata": {
    "collapsed": false,
    "pycharm": {
     "name": "#%%\n"
    }
   },
   "outputs": [
    {
     "data": {
      "text/plain": [
       "array([ 7.,  9., 11., 13., 15.])"
      ]
     },
     "execution_count": 10,
     "metadata": {},
     "output_type": "execute_result"
    }
   ],
   "source": [
    "total = interpolate(d)\n",
    "total"
   ]
  },
  {
   "cell_type": "code",
   "execution_count": 10,
   "metadata": {
    "collapsed": false,
    "pycharm": {
     "name": "#%%\n"
    }
   },
   "outputs": [],
   "source": []
  },
  {
   "cell_type": "code",
   "execution_count": null,
   "metadata": {
    "collapsed": false,
    "pycharm": {
     "name": "#%%\n"
    }
   },
   "outputs": [],
   "source": []
  }
 ],
 "metadata": {
  "kernelspec": {
   "display_name": "Python 3",
   "language": "python",
   "name": "python3"
  },
  "language_info": {
   "codemirror_mode": {
    "name": "ipython",
    "version": 3
   },
   "file_extension": ".py",
   "mimetype": "text/x-python",
   "name": "python",
   "nbconvert_exporter": "python",
   "pygments_lexer": "ipython3",
   "version": "3.10.4 (tags/v3.10.4:9d38120, Mar 23 2022, 23:13:41) [MSC v.1929 64 bit (AMD64)]"
  },
  "vscode": {
   "interpreter": {
    "hash": "e0b5b4d307bc6574c8822294f7ca3d9169c900760f4b3fc5626c02c523851fa3"
   }
  }
 },
 "nbformat": 4,
 "nbformat_minor": 0
}
