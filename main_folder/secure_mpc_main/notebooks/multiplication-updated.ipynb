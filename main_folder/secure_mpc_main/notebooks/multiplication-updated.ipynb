{
 "cells": [
  {
   "cell_type": "code",
   "execution_count": 2,
   "metadata": {},
   "outputs": [],
   "source": [
    "from smpc_secrets import ShamirSecretSharing, AdditiveSecretSharing, Vandermonde, P, RandPoly"
   ]
  },
  {
   "cell_type": "code",
   "execution_count": null,
   "metadata": {},
   "outputs": [],
   "source": [
    "import numpy as np\n",
    "from numpy.linalg import inv\n",
    "from scipy.interpolate import lagrange"
   ]
  },
  {
   "cell_type": "markdown",
   "metadata": {},
   "source": [
    "## Description"
   ]
  },
  {
   "cell_type": "code",
   "execution_count": 4,
   "metadata": {},
   "outputs": [],
   "source": [
    "# parameters\n",
    "n=7 # number of parties\n",
    "t=3 # 2t+1 <= n, subset of the parties that would reconstruct the secret of the multiplication\n",
    "p=11 # suposed to be large integer value"
   ]
  },
  {
   "cell_type": "code",
   "execution_count": 6,
   "metadata": {},
   "outputs": [
    {
     "data": {
      "text/plain": [
       "<bound method ShamirSecretSharing.poly of <secrets.ShamirSecretSharing object at 0x7ff508d9b2e0>>"
      ]
     },
     "execution_count": 6,
     "metadata": {},
     "output_type": "execute_result"
    }
   ],
   "source": [
    "# Parties\n",
    "Alice = ShamirSecretSharing(n=n, t=t, p=p)\n",
    "Bob = ShamirSecretSharing(n=n, t=t, p=p)\n",
    "Charlie = ShamirSecretSharing(n=n, t=t, p=p)"
   ]
  },
  {
   "cell_type": "markdown",
   "metadata": {},
   "source": [
    "## Generate Shares"
   ]
  },
  {
   "cell_type": "code",
   "execution_count": 56,
   "metadata": {},
   "outputs": [
    {
     "data": {
      "text/plain": [
       "([(0, 2), (1, 14), (2, 44), (3, 92), (4, 158), (5, 242), (6, 344), (7, 464)],\n",
       " [(0, 3), (1, 16), (2, 33), (3, 54), (4, 79), (5, 108), (6, 141), (7, 178)],\n",
       " [(0, 4), (1, 10), (2, 24), (3, 46), (4, 76), (5, 114), (6, 160), (7, 214)])"
      ]
     },
     "execution_count": 56,
     "metadata": {},
     "output_type": "execute_result"
    }
   ],
   "source": [
    "a=Alice.generate(2)\n",
    "b=Bob.generate(3)\n",
    "c=Charlie.generate(4)\n",
    "a,b,c"
   ]
  },
  {
   "cell_type": "code",
   "execution_count": 58,
   "metadata": {},
   "outputs": [
    {
     "data": {
      "text/plain": [
       "(a(x)=2+3x+9x^2, b(x)=3+11x+2x^2, c(x)=4+2x+4x^2)"
      ]
     },
     "execution_count": 58,
     "metadata": {},
     "output_type": "execute_result"
    }
   ],
   "source": [
    "# Polynomials\n",
    "alice_poly = RandPoly(name=\"a\", n=t,p=p, R=Alice.R)\n",
    "bob_poly = RandPoly(name=\"b\", n=t,p=p, R=Bob.R)\n",
    "charlie_poly = RandPoly(name=\"c\", n=t,p=p, R=Charlie.R)\n",
    "\n",
    "alice_poly, bob_poly, charlie_poly"
   ]
  },
  {
   "cell_type": "code",
   "execution_count": 59,
   "metadata": {},
   "outputs": [
    {
     "data": {
      "text/plain": [
       "((((1, 14), (1, 16), (1, 10)), ((4, 158), (4, 79), (4, 76))),\n",
       " (((2, 44), (2, 33), (2, 24)), ((5, 242), (5, 108), (5, 114))),\n",
       " (((3, 92), (3, 54), (3, 46)), ((6, 344), (6, 141), (6, 160))),\n",
       " ((7, 464), (7, 178), (7, 214)))"
      ]
     },
     "execution_count": 59,
     "metadata": {},
     "output_type": "execute_result"
    }
   ],
   "source": [
    "# Shares\n",
    "alice_shares = (a[1], b[1], c[1]), (a[4], b[4], c[4])\n",
    "bob_shares = (a[2], b[2], c[2]), (a[5], b[5], c[5])\n",
    "charlie_shares = (a[3], b[3], c[3]), (a[6], b[6], c[6])\n",
    "\n",
    "# honest-but-curuous\n",
    "server_shares = (a[7], b[7], c[7])\n",
    "\n",
    "alice_shares, bob_shares, charlie_shares, server_shares"
   ]
  },
  {
   "cell_type": "code",
   "execution_count": 60,
   "metadata": {},
   "outputs": [
    {
     "data": {
      "text/plain": [
       "(array([  2240, 948632]),\n",
       " array([  34848, 2979504]),\n",
       " array([ 228528, 7760640]),\n",
       " array(17674688))"
      ]
     },
     "execution_count": 60,
     "metadata": {},
     "output_type": "execute_result"
    }
   ],
   "source": [
    "# Product of shares\n",
    "alice_prod = np.array([a[1][1] * b[1][1] * c[1][1], a[4][1] * b[4][1] * c[4][1]])\n",
    "bob_prod = np.array([a[2][1] * b[2][1] * c[2][1], a[5][1] * b[5][1] * c[5][1]])\n",
    "charlie_prod = np.array([a[3][1] * b[3][1] * c[3][1], a[6][1] * b[6][1] * c[6][1]])\n",
    "server_prod = np.array(a[7][1] * b[7][1] * c[7][1])\n",
    "\n",
    "alice_prod, bob_prod, charlie_prod, server_prod"
   ]
  },
  {
   "cell_type": "markdown",
   "metadata": {},
   "source": [
    "## Re-randomization"
   ]
  },
  {
   "cell_type": "code",
   "execution_count": 61,
   "metadata": {},
   "outputs": [
    {
     "data": {
      "text/plain": [
       "(q1(x)=9x+7x^2+4x^3+1x^4+5x^5+9x^6,\n",
       " q2(x)=3x+7x^2+7x^3+9x^4+1x^5+8x^6,\n",
       " q3(x)=7x+7x^2+10x^3+7x^4+9x^5+2x^6)"
      ]
     },
     "execution_count": 61,
     "metadata": {},
     "output_type": "execute_result"
    }
   ],
   "source": [
    "alice_rand = RandPoly(name=\"q1\", n=2*t, p=p, fzc=True)\n",
    "bob_rand = RandPoly(name=\"q2\", n=2*t, p=p, fzc=True)\n",
    "charlie_rand = RandPoly(name=\"q3\", n=2*t, p=p, fzc=True)\n",
    "\n",
    "alice_rand, bob_rand, charlie_rand"
   ]
  },
  {
   "cell_type": "code",
   "execution_count": 62,
   "metadata": {},
   "outputs": [],
   "source": [
    "q1 = alice_rand.poly\n",
    "q2 = bob_rand.poly\n",
    "q3 = charlie_rand.poly"
   ]
  },
  {
   "cell_type": "code",
   "execution_count": 63,
   "metadata": {},
   "outputs": [
    {
     "data": {
      "text/plain": [
       "(array([  112, 99292]),\n",
       " array([  2258, 357620]),\n",
       " array([  19686, 1030542]),\n",
       " array([2536618]))"
      ]
     },
     "execution_count": 63,
     "metadata": {},
     "output_type": "execute_result"
    }
   ],
   "source": [
    "alice_q = np.array([q1(1) + q2(1) + q3(1), q1(4) + q2(4) + q3(4)])\n",
    "bob_q = np.array([q1(2) + q2(2) + q3(2), q1(5) + q2(5) + q3(5)])\n",
    "charlie_q = np.array([q1(3) + q2(3) + q3(3), q1(6) + q2(6) + q3(6)])\n",
    "server_q = np.array([q1(7) + q2(7) + q3(7)])\n",
    "\n",
    "alice_q, bob_q, charlie_q, server_q"
   ]
  },
  {
   "cell_type": "code",
   "execution_count": 64,
   "metadata": {},
   "outputs": [
    {
     "data": {
      "text/plain": [
       "(array([   2352, 1047924]),\n",
       " array([  37106, 3337124]),\n",
       " array([ 248214, 8791182]),\n",
       " array([20211306]))"
      ]
     },
     "execution_count": 64,
     "metadata": {},
     "output_type": "execute_result"
    }
   ],
   "source": [
    "alice_s = alice_prod + alice_q\n",
    "bob_s = bob_prod + bob_q\n",
    "charlie_s = charlie_prod + charlie_q\n",
    "\n",
    "server_s = server_prod + server_q\n",
    "\n",
    "alice_s, bob_s, charlie_s, server_s"
   ]
  },
  {
   "cell_type": "code",
   "execution_count": 65,
   "metadata": {},
   "outputs": [
    {
     "data": {
      "text/plain": [
       "(array([    2352,    37106,   248214,  1047924,  3337124,  8791182,\n",
       "        20211306]),\n",
       " (7,))"
      ]
     },
     "execution_count": 65,
     "metadata": {},
     "output_type": "execute_result"
    }
   ],
   "source": [
    "# S = np.concatenate((alice_s, bob_s, charlie_s))\n",
    "S = np.array([alice_s[0], bob_s[0], charlie_s[0], alice_s[1], bob_s[1], charlie_s[1]])\n",
    "S = np.append(S, server_s)\n",
    "S, S.shape"
   ]
  },
  {
   "cell_type": "markdown",
   "metadata": {},
   "source": [
    "## Degree Reduction"
   ]
  },
  {
   "cell_type": "code",
   "execution_count": 66,
   "metadata": {},
   "outputs": [
    {
     "data": {
      "text/plain": [
       "(array([[     1,      1,      1,      1,      1,      1,      1],\n",
       "        [     1,      2,      4,      8,     16,     32,     64],\n",
       "        [     1,      3,      9,     27,     81,    243,    729],\n",
       "        [     1,      4,     16,     64,    256,   1024,   4096],\n",
       "        [     1,      5,     25,    125,    625,   3125,  15625],\n",
       "        [     1,      6,     36,    216,   1296,   7776,  46656],\n",
       "        [     1,      7,     49,    343,   2401,  16807, 117649]]),\n",
       " array([[ 7.00000000e+00, -2.10000000e+01,  3.50000000e+01,\n",
       "         -3.50000000e+01,  2.10000000e+01, -7.00000000e+00,\n",
       "          1.00000000e+00],\n",
       "        [-1.11500000e+01,  4.39500000e+01, -7.90833333e+01,\n",
       "          8.20000000e+01, -5.02500000e+01,  1.69833333e+01,\n",
       "         -2.45000000e+00],\n",
       "        [ 7.08888889e+00, -3.27416667e+01,  6.48333333e+01,\n",
       "         -7.06944444e+01,  4.46666667e+01, -1.54083333e+01,\n",
       "          2.25555556e+00],\n",
       "        [-2.31250000e+00,  1.18333333e+01, -2.53958333e+01,\n",
       "          2.93333333e+01, -1.92708333e+01,  6.83333333e+00,\n",
       "         -1.02083333e+00],\n",
       "        [ 4.09722222e-01, -2.25000000e+00,  5.14583333e+00,\n",
       "         -6.27777778e+00,  4.31250000e+00, -1.58333333e+00,\n",
       "          2.43055556e-01],\n",
       "        [-3.75000000e-02,  2.16666667e-01, -5.20833333e-01,\n",
       "          6.66666667e-01, -4.79166667e-01,  1.83333333e-01,\n",
       "         -2.91666667e-02],\n",
       "        [ 1.38888889e-03, -8.33333333e-03,  2.08333333e-02,\n",
       "         -2.77777778e-02,  2.08333333e-02, -8.33333333e-03,\n",
       "          1.38888889e-03]]))"
      ]
     },
     "execution_count": 66,
     "metadata": {},
     "output_type": "execute_result"
    }
   ],
   "source": [
    "# Vandermonde Matrix\n",
    "B = np.array(Vandermonde(n=n))\n",
    "\n",
    "# Inverse Vandermonde Matrix\n",
    "Binv = inv(B)\n",
    "B, Binv"
   ]
  },
  {
   "cell_type": "markdown",
   "metadata": {},
   "source": [
    "## Linear Projection Matrix"
   ]
  },
  {
   "cell_type": "code",
   "execution_count": 67,
   "metadata": {},
   "outputs": [
    {
     "data": {
      "text/plain": [
       "[[1, 0, 0, 0, 0, 0, 0],\n",
       " [0, 1, 0, 0, 0, 0, 0],\n",
       " [0, 0, 1, 0, 0, 0, 0],\n",
       " [0, 0, 0, 0, 0, 0, 0],\n",
       " [0, 0, 0, 0, 0, 0, 0],\n",
       " [0, 0, 0, 0, 0, 0, 0],\n",
       " [0, 0, 0, 0, 0, 0, 0]]"
      ]
     },
     "execution_count": 67,
     "metadata": {},
     "output_type": "execute_result"
    }
   ],
   "source": [
    "Proj = np.array(P(n=n,t=t))\n",
    "P(n=7,t=3)"
   ]
  },
  {
   "cell_type": "markdown",
   "metadata": {},
   "source": [
    "## Matrix of product points reduction "
   ]
  },
  {
   "cell_type": "code",
   "execution_count": 68,
   "metadata": {},
   "outputs": [
    {
     "data": {
      "text/plain": [
       "array([[ 2.93888889e+00, -9.79166667e+00,  2.07500000e+01,\n",
       "        -2.36944444e+01,  1.54166667e+01, -5.42500000e+00,\n",
       "         8.05555556e-01],\n",
       "       [ 1.30555556e+01, -6.40666667e+01,  1.36166667e+02,\n",
       "        -1.53777778e+02,  9.91666667e+01, -3.46666667e+01,\n",
       "         5.12222222e+00],\n",
       "       [ 3.73500000e+01, -1.83825000e+02,  3.81250000e+02,\n",
       "        -4.25250000e+02,  2.72250000e+02, -9.47250000e+01,\n",
       "         1.39500000e+01],\n",
       "       [ 7.58222222e+01, -3.69066667e+02,  7.56000000e+02,\n",
       "        -8.38111111e+02,  5.34666667e+02, -1.85600000e+02,\n",
       "         2.72888889e+01],\n",
       "       [ 1.28472222e+02, -6.19791667e+02,  1.26041667e+03,\n",
       "        -1.39236111e+03,  8.86416667e+02, -3.07291667e+02,\n",
       "         4.51388889e+01],\n",
       "       [ 1.95300000e+02, -9.36000000e+02,  1.89450000e+03,\n",
       "        -2.08800000e+03,  1.32750000e+03, -4.59800000e+02,\n",
       "         6.75000000e+01],\n",
       "       [ 2.76305556e+02, -1.31769167e+03,  2.65825000e+03,\n",
       "        -2.92502778e+03,  1.85791667e+03, -6.43125000e+02,\n",
       "         9.43722222e+01]])"
      ]
     },
     "execution_count": 68,
     "metadata": {},
     "output_type": "execute_result"
    }
   ],
   "source": [
    "A = B @ Proj @ Binv\n",
    "A"
   ]
  },
  {
   "cell_type": "markdown",
   "metadata": {},
   "source": [
    "## Randomized polynomial outputs"
   ]
  },
  {
   "cell_type": "code",
   "execution_count": 69,
   "metadata": {},
   "outputs": [
    {
     "data": {
      "text/plain": [
       "array([  542.00000006,  1786.00000042,  3756.00000149,  6452.00000286,\n",
       "        9874.00000548, 14022.00000834, 18896.00001287])"
      ]
     },
     "execution_count": 69,
     "metadata": {},
     "output_type": "execute_result"
    }
   ],
   "source": [
    "R = A @ S\n",
    "R"
   ]
  },
  {
   "cell_type": "markdown",
   "metadata": {},
   "source": [
    "## Lagrange Interpolation"
   ]
  },
  {
   "cell_type": "code",
   "execution_count": 70,
   "metadata": {},
   "outputs": [
    {
     "data": {
      "text/plain": [
       "(542.0000000558794,\n",
       " [(1, 542.0000000558794),\n",
       "  (2, 1786.0000004172325),\n",
       "  (3, 3756.000001490116),\n",
       "  (4, 6452.000002861023),\n",
       "  (5, 9874.000005483627),\n",
       "  (6, 14022.00000834465),\n",
       "  (7, 18896.000012874603)],\n",
       " [(1, 542.0000000558794), (2, 1786.0000004172325), (3, 3756.000001490116)])"
      ]
     },
     "execution_count": 70,
     "metadata": {},
     "output_type": "execute_result"
    }
   ],
   "source": [
    "shares = [(i+1, r) for (i, r) in enumerate(R.tolist())]\n",
    "R[0], shares, shares[0:3]"
   ]
  },
  {
   "cell_type": "code",
   "execution_count": 71,
   "metadata": {},
   "outputs": [
    {
     "data": {
      "text/plain": [
       "(array([1, 2, 3]),\n",
       " array([ 542.00000006, 1786.00000042, 3756.00000149]),\n",
       " poly1d([363.00000036, 154.99999929,  24.00000041]))"
      ]
     },
     "execution_count": 71,
     "metadata": {},
     "output_type": "execute_result"
    }
   ],
   "source": [
    "# Lagrange Interpolation for Multiplication \n",
    "x = np.arange(1,len(shares[0:3])+1) # prod points indices\n",
    "y = R[0:3]      # prod points values\n",
    "f = lagrange(x, y)\n",
    "x, y, f"
   ]
  },
  {
   "cell_type": "markdown",
   "metadata": {},
   "source": [
    "## Degree reduced (and Randomized) polynomial"
   ]
  },
  {
   "cell_type": "code",
   "execution_count": 72,
   "metadata": {},
   "outputs": [
    {
     "data": {
      "text/plain": [
       "24.000000406056643+154.9999992940575x+363.0000003557652x^2"
      ]
     },
     "execution_count": 72,
     "metadata": {},
     "output_type": "execute_result"
    }
   ],
   "source": [
    "coef = [(i, r) for (i,r) in enumerate(np.flip(f.coef).tolist())]\n",
    "p = RandPoly(n=t, R=coef)\n",
    "p"
   ]
  },
  {
   "cell_type": "markdown",
   "metadata": {},
   "source": [
    "## Secret Multiplication Result"
   ]
  },
  {
   "cell_type": "code",
   "execution_count": 73,
   "metadata": {},
   "outputs": [
    {
     "data": {
      "text/plain": [
       "24.0"
      ]
     },
     "execution_count": 73,
     "metadata": {},
     "output_type": "execute_result"
    }
   ],
   "source": [
    "np.floor(p.poly(0))"
   ]
  },
  {
   "cell_type": "code",
   "execution_count": null,
   "metadata": {},
   "outputs": [],
   "source": []
  }
 ],
 "metadata": {
  "kernelspec": {
   "display_name": "sv",
   "language": "python",
   "name": "python3"
  },
  "language_info": {
   "codemirror_mode": {
    "name": "ipython",
    "version": 3
   },
   "file_extension": ".py",
   "mimetype": "text/x-python",
   "name": "python",
   "nbconvert_exporter": "python",
   "pygments_lexer": "ipython3",
   "version": "3.10.4 | packaged by conda-forge | (main, Mar 30 2022, 08:38:02) [MSC v.1916 64 bit (AMD64)]"
  },
  "vscode": {
   "interpreter": {
    "hash": "c78a287c5d96b6319afb8ff820d73699c9ea67f71e25ce8473899e0e8b85a2ed"
   }
  }
 },
 "nbformat": 4,
 "nbformat_minor": 4
}
