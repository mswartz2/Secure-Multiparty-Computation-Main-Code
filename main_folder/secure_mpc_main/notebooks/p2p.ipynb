{
 "cells": [
  {
   "cell_type": "code",
   "execution_count": 1,
   "metadata": {},
   "outputs": [
    {
     "ename": "ModuleNotFoundError",
     "evalue": "No module named 'umsgpack'",
     "output_type": "error",
     "traceback": [
      "\u001b[0;31m---------------------------------------------------------------------------\u001b[0m",
      "\u001b[0;31mModuleNotFoundError\u001b[0m                       Traceback (most recent call last)",
      "\u001b[0;32m<ipython-input-1-13e26822671b>\u001b[0m in \u001b[0;36m<module>\u001b[0;34m\u001b[0m\n\u001b[1;32m      1\u001b[0m \u001b[0;32mfrom\u001b[0m \u001b[0mpyp2p\u001b[0m\u001b[0;34m.\u001b[0m\u001b[0mnet\u001b[0m \u001b[0;32mimport\u001b[0m \u001b[0;34m*\u001b[0m\u001b[0;34m\u001b[0m\u001b[0;34m\u001b[0m\u001b[0m\n\u001b[1;32m      2\u001b[0m \u001b[0;32mfrom\u001b[0m \u001b[0mpyp2p\u001b[0m\u001b[0;34m.\u001b[0m\u001b[0munl\u001b[0m \u001b[0;32mimport\u001b[0m \u001b[0mUNL\u001b[0m\u001b[0;34m\u001b[0m\u001b[0;34m\u001b[0m\u001b[0m\n\u001b[0;32m----> 3\u001b[0;31m \u001b[0;32mfrom\u001b[0m \u001b[0mpyp2p\u001b[0m\u001b[0;34m.\u001b[0m\u001b[0mdht_msg\u001b[0m \u001b[0;32mimport\u001b[0m \u001b[0mDHT\u001b[0m\u001b[0;34m\u001b[0m\u001b[0;34m\u001b[0m\u001b[0m\n\u001b[0m\u001b[1;32m      4\u001b[0m \u001b[0;32mimport\u001b[0m \u001b[0mtime\u001b[0m\u001b[0;34m\u001b[0m\u001b[0;34m\u001b[0m\u001b[0m\n",
      "\u001b[0;32m~/opt/anaconda3/lib/python3.8/site-packages/pyp2p/dht_msg.py\u001b[0m in \u001b[0;36m<module>\u001b[0;34m\u001b[0m\n\u001b[1;32m      3\u001b[0m \u001b[0;32mimport\u001b[0m \u001b[0mrequests\u001b[0m\u001b[0;34m\u001b[0m\u001b[0;34m\u001b[0m\u001b[0m\n\u001b[1;32m      4\u001b[0m \u001b[0;32mimport\u001b[0m \u001b[0mbinascii\u001b[0m\u001b[0;34m\u001b[0m\u001b[0;34m\u001b[0m\u001b[0m\n\u001b[0;32m----> 5\u001b[0;31m \u001b[0;32mimport\u001b[0m \u001b[0mumsgpack\u001b[0m\u001b[0;34m\u001b[0m\u001b[0;34m\u001b[0m\u001b[0m\n\u001b[0m\u001b[1;32m      6\u001b[0m \u001b[0;32mfrom\u001b[0m \u001b[0mast\u001b[0m \u001b[0;32mimport\u001b[0m \u001b[0mliteral_eval\u001b[0m\u001b[0;34m\u001b[0m\u001b[0;34m\u001b[0m\u001b[0m\n\u001b[1;32m      7\u001b[0m \u001b[0;32mfrom\u001b[0m \u001b[0mfuture\u001b[0m\u001b[0;34m.\u001b[0m\u001b[0mmoves\u001b[0m\u001b[0;34m.\u001b[0m\u001b[0murllib\u001b[0m\u001b[0;34m.\u001b[0m\u001b[0mparse\u001b[0m \u001b[0;32mimport\u001b[0m \u001b[0murlencode\u001b[0m\u001b[0;34m\u001b[0m\u001b[0;34m\u001b[0m\u001b[0m\n",
      "\u001b[0;31mModuleNotFoundError\u001b[0m: No module named 'umsgpack'"
     ]
    }
   ],
   "source": [
    "from pyp2p.net import *\n",
    "from pyp2p.unl import UNL\n",
    "from pyp2p.dht_msg import DHT\n",
    "import time"
   ]
  },
  {
   "cell_type": "code",
   "execution_count": null,
   "metadata": {},
   "outputs": [],
   "source": [
    "#Start Alice's direct server.\n",
    "alice_dht = DHT()\n",
    "alice_direct = Net(passive_bind=\"192.168.0.45\", passive_port=44444, interface=\"eth0:2\", net_type=\"direct\", dht_node=alice_dht, debug=1)\n",
    "alice_direct.start()\n",
    "\n",
    "#Start Bob's direct server.\n",
    "bob_dht = DHT()\n",
    "bob_direct = Net(passive_bind=\"192.168.0.44\", passive_port=44445, interface=\"eth0:1\", net_type=\"direct\", node_type=\"active\", dht_node=bob_dht, debug=1)\n",
    "bob_direct.start()\n",
    "\n",
    "#Callbacks.\n",
    "def success(con):\n",
    "    print(\"Alice successfully connected to Bob.\")\n",
    "    con.send_line(\"Sup Bob.\")\n",
    "\n",
    "def failure(con):\n",
    "print(\"Alice failed to connec to Bob\\a\")\n",
    "\n",
    "events = {\n",
    "    \"success\": success,\n",
    "    \"failure\": failure\n",
    "}\n",
    "\n",
    "#Have Alice connect to Bob.\n",
    "alice_direct.unl.connect(bob_direct.unl.construct(), events)\n",
    "\n",
    "#Event loop.\n",
    "while 1:\n",
    "#Bob get reply.\n",
    "for con in bob_direct:\n",
    "    for reply in con:\n",
    "        print(reply)\n",
    "\n",
    "#Alice accept con.\n",
    "for con in alice_direct:\n",
    "    x = 1\n",
    "\n",
    "time.sleep(0.5)"
   ]
  }
 ],
 "metadata": {
  "kernelspec": {
   "display_name": "Python 3",
   "language": "python",
   "name": "python3"
  },
  "language_info": {
   "codemirror_mode": {
    "name": "ipython",
    "version": 3
   },
   "file_extension": ".py",
   "mimetype": "text/x-python",
   "name": "python",
   "nbconvert_exporter": "python",
   "pygments_lexer": "ipython3",
   "version": "3.8.5"
  }
 },
 "nbformat": 4,
 "nbformat_minor": 4
}
