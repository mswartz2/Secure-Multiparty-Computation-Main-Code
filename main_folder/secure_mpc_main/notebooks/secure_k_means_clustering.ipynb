{
 "cells": [
  {
   "cell_type": "code",
   "execution_count": null,
   "metadata": {},
   "outputs": [],
   "source": [
    "# example taken from http://madhugnadig.com/articles/machine-learning/2017/03/04/implementing-k-means-clustering-from-scratch-in-python.html\n",
    "# github: https://github.com/madhug-nadig/Machine-Learning-Algorithms-from-Scratch/blob/master/K%20Means%20Clustering.py"
   ]
  },
  {
   "cell_type": "code",
   "execution_count": 31,
   "metadata": {},
   "outputs": [],
   "source": [
    "import math\n",
    "import numpy as np\n",
    "import matplotlib.pyplot as plt\n",
    "from matplotlib import style\n",
    "import pandas as pd \n",
    "from scipy.interpolate import lagrange\n",
    "\n",
    "from smpc_secrets import ShamirSecretSharing, AdditiveSecretSharing, Vandermonde, P, RandPoly\n",
    "\n",
    "style.use('ggplot')\n",
    "%matplotlib inline"
   ]
  },
  {
   "cell_type": "code",
   "execution_count": 100,
   "metadata": {},
   "outputs": [],
   "source": [
    "class PeerToPeer:\n",
    "    def __init__(self, k):\n",
    "        self.k=k\n",
    "        self.shares = np.array([])\n",
    "        \n",
    "       \n",
    "    def get_shares(self,data):\n",
    "        n=len(data)\n",
    "        t=self.k\n",
    "        for point in data:\n",
    "            X = data[0]\n",
    "            Y = data[1]\n",
    "            shares = self._get_shares(X,Y)\n",
    "            self.shares = np.append(self.shares, shares)\n",
    "        \n",
    "        return shares\n",
    "            \n",
    "            \n",
    "            \n",
    "    def _get_shares(self,X,Y):\n",
    "        n=2\n",
    "        t=2\n",
    "        # Alice\n",
    "        alice = ShamirShare(id=1, t=t, n=n, secrets=X)\n",
    "        # Bob\n",
    "        bob = ShamirShare(id=2, t=t, n=n, secrets=Y)\n",
    "\n",
    "        # polynomials\n",
    "        f = [alice.computations[i][0].poly for i in range(n)]\n",
    "        g = [bob.computations[i][0].poly for i in range(n)]\n",
    "\n",
    "        alice_id = 1\n",
    "        alice_points = np.array([(f[i](alice_id), g[i](alice_id)) for i in range(n)])\n",
    "\n",
    "        # Bob's polynomials\n",
    "        bob_id = 2\n",
    "        bob_points = np.array([(f[i](bob_id), g[i](bob_id)) for i in range(n)])\n",
    "\n",
    "        # server computes d1(1)^2 and d2(1)^2\n",
    "        server_id=3\n",
    "        server_points = np.array([(f[i](server_id),g[i](server_id)) for i in range(n)])\n",
    "        return np.stack((alice_points, bob_points, server_points))"
   ]
  },
  {
   "cell_type": "code",
   "execution_count": 65,
   "metadata": {},
   "outputs": [],
   "source": [
    "class ShamirShare:\n",
    "    def __init__(self,id, t, n, secrets):\n",
    "        self.computations = []\n",
    "        self.all_shares = []\n",
    "        self.id = id\n",
    "        for secret in secrets:\n",
    "            shamir = ShamirSecretSharing(n=n, t=t)\n",
    "            shares = shamir.generate(s=secret)\n",
    "            self.all_shares.append(shares)\n",
    "            self.computations.append((shamir, shares))\n",
    "        self.shares = self.get_share(id)\n",
    "        \n",
    "    \n",
    "    def get_share(self,id):\n",
    "        return [shares[id][1] for shares in self.all_shares]\n",
    "        \n",
    "    def reconstruct(self):\n",
    "        secrets = []\n",
    "        for shamir, shares in self.computations:\n",
    "            secrets.append(shamir.reconstruct(shares=shares))\n",
    "        return secrets\n",
    "    \n",
    "    def _compute(self, other, op):\n",
    "        assert len(self.shares) == len(other)\n",
    "        for i in range(len(self.shares)):\n",
    "            self.shares[i] = op(self.shares[i], other[i])\n",
    "    \n",
    "    def __add__(self,other):\n",
    "        op = lambda x,y: x+y\n",
    "        self._compute(self.shares, other, add)\n",
    "        \n",
    "    def __sub__(self,other):\n",
    "        op = lambda x,y: x-y\n",
    "        self._compute(self.shares, other, add)\n",
    "        \n",
    "    def __pow__(self, other):\n",
    "        for i in range(len(self.shares)):\n",
    "            self.shares[i] **= 2"
   ]
  },
  {
   "cell_type": "code",
   "execution_count": 76,
   "metadata": {},
   "outputs": [],
   "source": [
    "def secure_euclidean_distance(shares):\n",
    "        d = [[np.power(point[0] - point[1],2) for point in share] for share in shares]\n",
    "        dist = np.sum(d, axis=1)\n",
    "        x = np.arange(1,len(dist)+1)\n",
    "        y = dist\n",
    "        f = lagrange(x, y)\n",
    "        return np.sqrt(f(0))"
   ]
  },
  {
   "cell_type": "code",
   "execution_count": 77,
   "metadata": {},
   "outputs": [],
   "source": [
    "def euclidean_distance(X, Y):\n",
    "    dist = 0\n",
    "    for i in range(len(X)):\n",
    "        dist += (X[i] - Y[i]) ** 2\n",
    "    return np.sqrt(dist)\n",
    "\n",
    "def norm(X, Y):\n",
    "    return np.linalg.norm(X-Y)"
   ]
  },
  {
   "cell_type": "code",
   "execution_count": 78,
   "metadata": {},
   "outputs": [
    {
     "data": {
      "text/plain": [
       "3.1622776601683795"
      ]
     },
     "execution_count": 78,
     "metadata": {},
     "output_type": "execute_result"
    }
   ],
   "source": [
    "X=[1,3]\n",
    "Y=[4,2]\n",
    "data_point = np.array([X, Y])\n",
    "data_point\n",
    "p2p = PeerToPeer(k=2)\n",
    "shares = p2p.get_shares(data_point)\n",
    "secure_euclidean_distance(shares)"
   ]
  },
  {
   "cell_type": "code",
   "execution_count": 79,
   "metadata": {},
   "outputs": [],
   "source": [
    "class KMeans:\n",
    "    def __init__(self, k=3, distance_function=norm, epsilon=1e-3, max_iter=500):\n",
    "        self.k = k # number of clusters\n",
    "        self.epsilon = epsilon # tolerance\n",
    "        self.max_iter = max_iter # max iterations\n",
    "#         self.distance_function = distance_function\n",
    "        \n",
    "    def fit(self, data):\n",
    "        # shares data: features and centroids\n",
    "        self.centroids = {}\n",
    "        \n",
    "        # initialize centroids\n",
    "        for i in range(self.k):\n",
    "            self.centroids[i] = data[i]\n",
    "        \n",
    "        # iterative clustering\n",
    "        for i in range(self.max_iter):\n",
    "            self.classes = {}\n",
    "            for i in range(self.k):\n",
    "                self.classes[i] = []\n",
    "            # find nearest centroid\n",
    "            for features in data:\n",
    "                # step 1: compute squared distances (features, centroids)\n",
    "#                 distances = [self.distance_function(features, self.centroids[centroid]) for centroid in self.centroids]\n",
    "                distances = [secure_euclidean_distance(p2p.get_shares([features, self.centroids[centroid]])) for centroid in self.centroids]\n",
    "                \n",
    "                classification = np.argmin(distances)\n",
    "                self.classes[classification].append(features)\n",
    "                \n",
    "            previous = dict(self.centroids)\n",
    "            \n",
    "            for classification in self.classes:\n",
    "                # maybe secure average\n",
    "                self.centroids[classification] = np.average(self.classes[classification], axis=0)\n",
    "                \n",
    "            is_optimal = True\n",
    "            \n",
    "            # reconstruct\n",
    "            for centroid in self.centroids:\n",
    "                original_centroid = previous[centroid]\n",
    "                current_centroid = self.centroids[centroid]\n",
    "                \n",
    "                # not sure we need to do it securely\n",
    "                if np.sum((current_centroid  - original_centroid)/original_centroid * 100.0) > self.epsilon:\n",
    "                    is_optimal = False\n",
    "                    \n",
    "            if is_optimal:\n",
    "                break\n",
    "              \n",
    "            \n",
    "    def pred(self, data):\n",
    "        # nearest centroid\n",
    "        distances = [self.distance_function(data, self.centroids[centroid]) for centroid in self.centroids]\n",
    "        classification = np.argmin(distances)\n",
    "        return classification\n",
    "    "
   ]
  },
  {
   "cell_type": "code",
   "execution_count": 93,
   "metadata": {},
   "outputs": [],
   "source": [
    "df = pd.read_csv(\"./data/ipl.csv\")"
   ]
  },
  {
   "cell_type": "code",
   "execution_count": 94,
   "metadata": {},
   "outputs": [],
   "source": [
    "df = df[['one', 'two']]"
   ]
  },
  {
   "cell_type": "code",
   "execution_count": 95,
   "metadata": {},
   "outputs": [],
   "source": [
    "X = df.values\n",
    "km = KMeans(k=3)"
   ]
  },
  {
   "cell_type": "code",
   "execution_count": 96,
   "metadata": {},
   "outputs": [],
   "source": [
    "alice_X = X[:30]\n",
    "bob_X = X[31:]"
   ]
  },
  {
   "cell_type": "code",
   "execution_count": 97,
   "metadata": {},
   "outputs": [],
   "source": [
    "km.fit(X)"
   ]
  },
  {
   "cell_type": "code",
   "execution_count": 98,
   "metadata": {},
   "outputs": [],
   "source": [
    "colors = 10*[\"r\", \"g\", \"c\", \"b\", \"k\"]"
   ]
  },
  {
   "cell_type": "code",
   "execution_count": 99,
   "metadata": {},
   "outputs": [
    {
     "data": {
      "image/png": "[encoded data removed]",
      "text/plain": [
       "<Figure size 432x288 with 1 Axes>"
      ]
     },
     "metadata": {
      "needs_background": "light"
     },
     "output_type": "display_data"
    }
   ],
   "source": [
    "for centroid in km.centroids:\n",
    "    plt.scatter(km.centroids[centroid][0], km.centroids[centroid][1], s=130, marker=\"x\")\n",
    "    \n",
    "for classification in km.classes:\n",
    "    color = colors[classification]\n",
    "    for features in km.classes[classification]:\n",
    "        plt.scatter(features[0], features[1], color=color, s=30)"
   ]
  },
  {
   "cell_type": "code",
   "execution_count": null,
   "metadata": {},
   "outputs": [],
   "source": []
  },
  {
   "cell_type": "code",
   "execution_count": null,
   "metadata": {},
   "outputs": [],
   "source": []
  }
 ],
 "metadata": {
  "kernelspec": {
   "display_name": "Python 3",
   "language": "python",
   "name": "python3"
  },
  "language_info": {
   "codemirror_mode": {
    "name": "ipython",
    "version": 3
   },
   "file_extension": ".py",
   "mimetype": "text/x-python",
   "name": "python",
   "nbconvert_exporter": "python",
   "pygments_lexer": "ipython3",
   "version": "3.10.4 (tags/v3.10.4:9d38120, Mar 23 2022, 23:13:41) [MSC v.1929 64 bit (AMD64)]"
  },
  "vscode": {
   "interpreter": {
    "hash": "e0b5b4d307bc6574c8822294f7ca3d9169c900760f4b3fc5626c02c523851fa3"
   }
  }
 },
 "nbformat": 4,
 "nbformat_minor": 4
}
