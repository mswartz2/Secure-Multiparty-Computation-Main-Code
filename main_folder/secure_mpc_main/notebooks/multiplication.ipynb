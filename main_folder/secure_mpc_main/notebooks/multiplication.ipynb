{
 "cells": [
  {
   "cell_type": "code",
   "execution_count": null,
   "metadata": {},
   "outputs": [],
   "source": [
    "from smpc_secrets import ShamirSecretSharing, AdditiveSecretSharing, Vandermonde, P, RandPoly"
   ]
  },
  {
   "cell_type": "code",
   "execution_count": 1,
   "metadata": {},
   "outputs": [
    {
     "ename": "ModuleNotFoundError",
     "evalue": "No module named 'numpy'",
     "output_type": "error",
     "traceback": [
      "\u001b[1;31m---------------------------------------------------------------------------\u001b[0m",
      "\u001b[1;31mModuleNotFoundError\u001b[0m                       Traceback (most recent call last)",
      "\u001b[1;32mc:\\Users\\swart\\Desktop\\secure-mpc-main\\secure-mpc-main\\notebooks\\multiplication.ipynb Cell 2\u001b[0m in \u001b[0;36m<cell line: 1>\u001b[1;34m()\u001b[0m\n\u001b[1;32m----> <a href='vscode-notebook-cell:/c%3A/Users/swart/Desktop/secure-mpc-main/secure-mpc-main/notebooks/multiplication.ipynb#W1sZmlsZQ%3D%3D?line=0'>1</a>\u001b[0m \u001b[39mimport\u001b[39;00m \u001b[39mnumpy\u001b[39;00m \u001b[39mas\u001b[39;00m \u001b[39mnp\u001b[39;00m\n\u001b[0;32m      <a href='vscode-notebook-cell:/c%3A/Users/swart/Desktop/secure-mpc-main/secure-mpc-main/notebooks/multiplication.ipynb#W1sZmlsZQ%3D%3D?line=1'>2</a>\u001b[0m \u001b[39mfrom\u001b[39;00m \u001b[39mnumpy\u001b[39;00m\u001b[39m.\u001b[39;00m\u001b[39mlinalg\u001b[39;00m \u001b[39mimport\u001b[39;00m inv\n\u001b[0;32m      <a href='vscode-notebook-cell:/c%3A/Users/swart/Desktop/secure-mpc-main/secure-mpc-main/notebooks/multiplication.ipynb#W1sZmlsZQ%3D%3D?line=2'>3</a>\u001b[0m \u001b[39mfrom\u001b[39;00m \u001b[39mscipy\u001b[39;00m\u001b[39m.\u001b[39;00m\u001b[39minterpolate\u001b[39;00m \u001b[39mimport\u001b[39;00m lagrange\n",
      "\u001b[1;31mModuleNotFoundError\u001b[0m: No module named 'numpy'"
     ]
    }
   ],
   "source": [
    "import numpy as np\n",
    "from numpy.linalg import inv\n",
    "from scipy.interpolate import lagrange"
   ]
  },
  {
   "cell_type": "markdown",
   "metadata": {},
   "source": [
    "## Description"
   ]
  },
  {
   "cell_type": "code",
   "execution_count": 41,
   "metadata": {},
   "outputs": [],
   "source": [
    "# parameters\n",
    "n=7 # number of parties\n",
    "t=3 # 2t+1 <= n, subset of the parties that would reconstruct the secret of the multiplication\n",
    "p=17 # suposed to be large integer value"
   ]
  },
  {
   "cell_type": "code",
   "execution_count": 42,
   "metadata": {},
   "outputs": [],
   "source": [
    "# Parties\n",
    "Alice = ShamirSecretSharing(n=n, t=t, p=p)\n",
    "Bob = ShamirSecretSharing(n=n, t=t, p=p)\n",
    "Charlie = ShamirSecretSharing(n=n, t=t, p=p)\n",
    "Daniel = ShamirSecretSharing(n=n, t=t, p=p)\n",
    "Edward = ShamirSecretSharing(n=n, t=t, p=p)\n",
    "Fauster = ShamirSecretSharing(n=n, t=t, p=p)\n",
    "Gary = ShamirSecretSharing(n=n, t=t, p=p)"
   ]
  },
  {
   "cell_type": "markdown",
   "metadata": {},
   "source": [
    "## Generate Shares"
   ]
  },
  {
   "cell_type": "code",
   "execution_count": 43,
   "metadata": {},
   "outputs": [
    {
     "data": {
      "text/plain": [
       "([(0, 1), (1, 4), (2, 9), (3, 16), (4, 25), (5, 36), (6, 49), (7, 64)],\n",
       " [(0, 2), (1, 14), (2, 48), (3, 104), (4, 182), (5, 282), (6, 404), (7, 548)],\n",
       " [(0, 3), (1, 12), (2, 27), (3, 48), (4, 75), (5, 108), (6, 147), (7, 192)],\n",
       " [(0, 4), (1, 26), (2, 70), (3, 136), (4, 224), (5, 334), (6, 466), (7, 620)],\n",
       " [(0, 5), (1, 33), (2, 85), (3, 161), (4, 261), (5, 385), (6, 533), (7, 705)],\n",
       " [(0, 6), (1, 30), (2, 78), (3, 150), (4, 246), (5, 366), (6, 510), (7, 678)],\n",
       " [(0, 7), (1, 21), (2, 61), (3, 127), (4, 219), (5, 337), (6, 481), (7, 651)])"
      ]
     },
     "execution_count": 43,
     "metadata": {},
     "output_type": "execute_result"
    }
   ],
   "source": [
    "a=Alice.generate(1)\n",
    "b=Bob.generate(2)\n",
    "c=Charlie.generate(3)\n",
    "d=Daniel.generate(4)\n",
    "e=Edward.generate(5)\n",
    "f=Fauster.generate(6)\n",
    "g=Gary.generate(7)\n",
    "a,b,c,d,e,f,g"
   ]
  },
  {
   "cell_type": "code",
   "execution_count": 44,
   "metadata": {},
   "outputs": [
    {
     "data": {
      "text/plain": [
       "(a(x)=1+2x+1x^2,\n",
       " b(x)=2+1x+11x^2,\n",
       " c(x)=3+6x+3x^2,\n",
       " d(x)=4+11x+11x^2,\n",
       " e(x)=5+16x+12x^2,\n",
       " f(x)=6+12x+12x^2,\n",
       " g(x)=7+1x+13x^2)"
      ]
     },
     "execution_count": 44,
     "metadata": {},
     "output_type": "execute_result"
    }
   ],
   "source": [
    "# Polynomials\n",
    "alice_poly = RandPoly(name=\"a\", n=t,p=p, R=Alice.R)\n",
    "bob_poly = RandPoly(name=\"b\", n=t,p=p, R=Bob.R)\n",
    "charlie_poly = RandPoly(name=\"c\", n=t,p=p, R=Charlie.R)\n",
    "daniel_poly = RandPoly(name=\"d\", n=t,p=p, R=Daniel.R)\n",
    "edward_poly = RandPoly(name=\"e\", n=t,p=p, R=Edward.R)\n",
    "fauster_poly = RandPoly(name=\"f\", n=t,p=p, R=Fauster.R)\n",
    "gary_poly = RandPoly(name=\"g\", n=t,p=p, R=Gary.R)\n",
    "\n",
    "alice_poly, bob_poly, charlie_poly, daniel_poly, edward_poly, fauster_poly, gary_poly"
   ]
  },
  {
   "cell_type": "code",
   "execution_count": 45,
   "metadata": {},
   "outputs": [
    {
     "data": {
      "text/plain": [
       "(((1, 4), (1, 14), (1, 12), (1, 26), (1, 33), (1, 30), (1, 21)),\n",
       " ((2, 9), (2, 48), (2, 27), (2, 70), (2, 85), (2, 78), (2, 61)),\n",
       " ((3, 16), (3, 104), (3, 48), (3, 136), (3, 161), (3, 150), (3, 127)),\n",
       " ((4, 25), (4, 182), (4, 75), (4, 224), (4, 261), (4, 246), (4, 219)),\n",
       " ((5, 36), (5, 282), (5, 108), (5, 334), (5, 385), (5, 366), (5, 337)),\n",
       " ((6, 49), (6, 404), (6, 147), (6, 466), (6, 533), (6, 510), (6, 481)),\n",
       " ((7, 64), (7, 548), (7, 192), (7, 620), (7, 705), (7, 678), (7, 651)))"
      ]
     },
     "execution_count": 45,
     "metadata": {},
     "output_type": "execute_result"
    }
   ],
   "source": [
    "# Shares\n",
    "alice_shares = a[1], b[1], c[1], d[1], e[1] , f[1], g[1]\n",
    "bob_shares = a[2], b[2], c[2], d[2], e[2] , f[2], g[2]\n",
    "charlie_shares = a[3], b[3], c[3], d[3], e[3] , f[3], g[3]\n",
    "daniel_shares = a[4], b[4], c[4], d[4], e[4] , f[4], g[4]\n",
    "edward_shares = a[5], b[5], c[5], d[5], e[5] , f[5], g[5]\n",
    "fauster_shares = a[6], b[6], c[6], d[6], e[6] , f[6], g[6]\n",
    "gary_shares = a[7], b[7], c[7], d[7], e[7] , f[7], g[7]\n",
    "\n",
    "alice_shares, bob_shares, charlie_shares, daniel_shares, edward_shares, fauster_shares, gary_shares"
   ]
  },
  {
   "cell_type": "code",
   "execution_count": 46,
   "metadata": {},
   "outputs": [
    {
     "data": {
      "text/plain": [
       "(363242880,\n",
       " 330209006400,\n",
       " 33316112793600,\n",
       " 1074831554160000,\n",
       " 17389758354756480,\n",
       " 177305888049086160,\n",
       " 1299131909436211200)"
      ]
     },
     "execution_count": 46,
     "metadata": {},
     "output_type": "execute_result"
    }
   ],
   "source": [
    "# Product of shares\n",
    "alice_prod = a[1][1] * b[1][1] * c[1][1] * d[1][1] * e[1][1] * f[1][1] * g[1][1]\n",
    "bob_prod = a[2][1] * b[2][1] * c[2][1] * d[2][1] * e[2][1] * f[2][1] * g[2][1]\n",
    "charlie_prod = a[3][1] * b[3][1] * c[3][1] * d[3][1] * e[3][1] * f[3][1] * g[3][1]\n",
    "daniel_prod = a[4][1] * b[4][1] * c[4][1] * d[4][1] * e[4][1] * f[4][1] * g[4][1]\n",
    "edward_prod = a[5][1] * b[5][1] * c[5][1] * d[5][1] * e[5][1] * f[5][1] * g[5][1]\n",
    "fauster_prod = a[6][1] * b[6][1] * c[6][1] * d[6][1] * e[6][1] * f[6][1] * g[6][1]\n",
    "gary_prod = a[7][1] * b[7][1] * c[7][1] * d[7][1] * e[7][1] * f[7][1] * g[7][1]\n",
    "\n",
    "alice_prod, bob_prod, charlie_prod, daniel_prod, edward_prod, fauster_prod, gary_prod"
   ]
  },
  {
   "cell_type": "markdown",
   "metadata": {},
   "source": [
    "## Re-randomization"
   ]
  },
  {
   "cell_type": "code",
   "execution_count": 47,
   "metadata": {},
   "outputs": [
    {
     "data": {
      "text/plain": [
       "(q1(x)=4x+10x^2+2x^3+10x^4+7x^5+15x^6,\n",
       " q2(x)=14x+8x^2+14x^3+2x^4+12x^5+3x^6,\n",
       " q3(x)=5x+7x^2+5x^3+4x^4+3x^5+16x^6,\n",
       " q4(x)=10x+11x^2+12x^3+6x^4+2x^5+6x^6,\n",
       " q5(x)=12x+13x^2+9x^3+15x^4+11x^5+15x^6,\n",
       " q6(x)=4x+12x^2+8x^3+17x^4+2x^5+14x^6,\n",
       " q7(x)=7x+10x^2+4x^3+11x^4+11x^5+17x^6)"
      ]
     },
     "execution_count": 47,
     "metadata": {},
     "output_type": "execute_result"
    }
   ],
   "source": [
    "alice_rand = RandPoly(name=\"q1\", n=2*t, p=p, fzc=True)\n",
    "bob_rand = RandPoly(name=\"q2\", n=2*t, p=p, fzc=True)\n",
    "charlie_rand = RandPoly(name=\"q3\", n=2*t, p=p, fzc=True)\n",
    "daniel_rand = RandPoly(name=\"q4\", n=2*t, p=p, fzc=True)\n",
    "edward_rand = RandPoly(name=\"q5\", n=2*t, p=p, fzc=True)\n",
    "fauster_rand = RandPoly(name=\"q6\", n=2*t, p=p, fzc=True)\n",
    "gary_rand = RandPoly(name=\"q7\", n=2*t, p=p, fzc=True)\n",
    "\n",
    "alice_rand, bob_rand, charlie_rand, daniel_rand, edward_rand, fauster_rand, gary_rand"
   ]
  },
  {
   "cell_type": "code",
   "execution_count": 48,
   "metadata": {},
   "outputs": [],
   "source": [
    "q1 = alice_rand.poly\n",
    "q2 = bob_rand.poly\n",
    "q3 = charlie_rand.poly\n",
    "q4 = daniel_rand.poly\n",
    "q5 = edward_rand.poly\n",
    "q6 = fauster_rand.poly\n",
    "q7 = gary_rand.poly"
   ]
  },
  {
   "cell_type": "code",
   "execution_count": 49,
   "metadata": {},
   "outputs": [
    {
     "data": {
      "text/plain": [
       "(380, 8908, 81888, 422864, 1543180, 4484460, 11103008)"
      ]
     },
     "execution_count": 49,
     "metadata": {},
     "output_type": "execute_result"
    }
   ],
   "source": [
    "alice_q = q1(1) + q2(1) + q3(1) + q4(1) + q5(1) + q6(1) + q7(1)\n",
    "bob_q = q1(2) + q2(2) + q3(2) + q4(2) + q5(2) + q6(2) + q7(2)\n",
    "charlie_q = q1(3) + q2(3) + q3(3) + q4(3) + q5(3) + q6(3) + q7(3)\n",
    "daniel_q = q1(4) + q2(4) + q3(4) + q4(4) + q5(4) + q6(4) + q7(4)\n",
    "edward_q = q1(5) + q2(5) + q3(5) + q4(5) + q5(5) + q6(5) + q7(5)\n",
    "fauster_q = q1(6) + q2(6) + q3(6) + q4(6) + q5(6) + q6(6) + q7(6)\n",
    "gary_q = q1(7) + q2(7) + q3(7) + q4(7) + q5(7) + q6(7) + q7(7)\n",
    "\n",
    "alice_q, bob_q, charlie_q, daniel_q, edward_q, fauster_q, gary_q"
   ]
  },
  {
   "cell_type": "code",
   "execution_count": 50,
   "metadata": {},
   "outputs": [
    {
     "data": {
      "text/plain": [
       "(363243260,\n",
       " 330209015308,\n",
       " 33316112875488,\n",
       " 1074831554582864,\n",
       " 17389758356299660,\n",
       " 177305888053570620,\n",
       " 1299131909447314208)"
      ]
     },
     "execution_count": 50,
     "metadata": {},
     "output_type": "execute_result"
    }
   ],
   "source": [
    "alice_s = alice_prod + alice_q\n",
    "bob_s = bob_prod + bob_q\n",
    "charlie_s = charlie_prod + charlie_q\n",
    "daniel_s = daniel_prod + daniel_q\n",
    "edward_s = edward_prod + edward_q\n",
    "fauster_s = fauster_prod + fauster_q\n",
    "gary_s = gary_prod + gary_q\n",
    "\n",
    "alice_s, bob_s, charlie_s, daniel_s, edward_s, fauster_s, gary_s"
   ]
  },
  {
   "cell_type": "code",
   "execution_count": 51,
   "metadata": {},
   "outputs": [
    {
     "data": {
      "text/plain": [
       "(array([          363243260,        330209015308,      33316112875488,\n",
       "           1074831554582864,   17389758356299660,  177305888053570620,\n",
       "        1299131909447314208]),\n",
       " (7,))"
      ]
     },
     "execution_count": 51,
     "metadata": {},
     "output_type": "execute_result"
    }
   ],
   "source": [
    "S = np.array([alice_s, bob_s, charlie_s, daniel_s, edward_s, fauster_s, gary_s])\n",
    "S, S.shape"
   ]
  },
  {
   "cell_type": "markdown",
   "metadata": {},
   "source": [
    "## Degree Reduction"
   ]
  },
  {
   "cell_type": "code",
   "execution_count": 52,
   "metadata": {},
   "outputs": [
    {
     "data": {
      "text/plain": [
       "(array([[     1,      1,      1,      1,      1,      1,      1],\n",
       "        [     1,      2,      4,      8,     16,     32,     64],\n",
       "        [     1,      3,      9,     27,     81,    243,    729],\n",
       "        [     1,      4,     16,     64,    256,   1024,   4096],\n",
       "        [     1,      5,     25,    125,    625,   3125,  15625],\n",
       "        [     1,      6,     36,    216,   1296,   7776,  46656],\n",
       "        [     1,      7,     49,    343,   2401,  16807, 117649]]),\n",
       " array([[ 7.00000000e+00, -2.10000000e+01,  3.50000000e+01,\n",
       "         -3.50000000e+01,  2.10000000e+01, -7.00000000e+00,\n",
       "          1.00000000e+00],\n",
       "        [-1.11500000e+01,  4.39500000e+01, -7.90833333e+01,\n",
       "          8.20000000e+01, -5.02500000e+01,  1.69833333e+01,\n",
       "         -2.45000000e+00],\n",
       "        [ 7.08888889e+00, -3.27416667e+01,  6.48333333e+01,\n",
       "         -7.06944444e+01,  4.46666667e+01, -1.54083333e+01,\n",
       "          2.25555556e+00],\n",
       "        [-2.31250000e+00,  1.18333333e+01, -2.53958333e+01,\n",
       "          2.93333333e+01, -1.92708333e+01,  6.83333333e+00,\n",
       "         -1.02083333e+00],\n",
       "        [ 4.09722222e-01, -2.25000000e+00,  5.14583333e+00,\n",
       "         -6.27777778e+00,  4.31250000e+00, -1.58333333e+00,\n",
       "          2.43055556e-01],\n",
       "        [-3.75000000e-02,  2.16666667e-01, -5.20833333e-01,\n",
       "          6.66666667e-01, -4.79166667e-01,  1.83333333e-01,\n",
       "         -2.91666667e-02],\n",
       "        [ 1.38888889e-03, -8.33333333e-03,  2.08333333e-02,\n",
       "         -2.77777778e-02,  2.08333333e-02, -8.33333333e-03,\n",
       "          1.38888889e-03]]))"
      ]
     },
     "execution_count": 52,
     "metadata": {},
     "output_type": "execute_result"
    }
   ],
   "source": [
    "# Vandermonde Matrix\n",
    "B = np.array(Vandermonde(n=n))\n",
    "\n",
    "# Inverse Vandermonde Matrix\n",
    "Binv = inv(B)\n",
    "B, Binv"
   ]
  },
  {
   "cell_type": "markdown",
   "metadata": {},
   "source": [
    "## Linear Projection Matrix"
   ]
  },
  {
   "cell_type": "code",
   "execution_count": 53,
   "metadata": {},
   "outputs": [
    {
     "data": {
      "text/plain": [
       "array([[1, 0, 0, 0, 0, 0, 0],\n",
       "       [0, 1, 0, 0, 0, 0, 0],\n",
       "       [0, 0, 1, 0, 0, 0, 0],\n",
       "       [0, 0, 0, 0, 0, 0, 0],\n",
       "       [0, 0, 0, 0, 0, 0, 0],\n",
       "       [0, 0, 0, 0, 0, 0, 0],\n",
       "       [0, 0, 0, 0, 0, 0, 0]])"
      ]
     },
     "execution_count": 53,
     "metadata": {},
     "output_type": "execute_result"
    }
   ],
   "source": [
    "Proj = np.array(P(n=n,t=t))\n",
    "Proj"
   ]
  },
  {
   "cell_type": "markdown",
   "metadata": {},
   "source": [
    "## Matrix of product points reduction "
   ]
  },
  {
   "cell_type": "code",
   "execution_count": 54,
   "metadata": {},
   "outputs": [
    {
     "data": {
      "text/plain": [
       "array([ 3.86715646e+17, -9.59947590e+17,  9.01183077e+17, -4.19035849e+17,\n",
       "        1.03443381e+17, -1.30185867e+16,  6.59922342e+14])"
      ]
     },
     "execution_count": 54,
     "metadata": {},
     "output_type": "execute_result"
    }
   ],
   "source": [
    "# A = Binv @ Proj @ B\n",
    "# A\n",
    "A = B @ Proj @ Binv\n",
    "Binv @ S"
   ]
  },
  {
   "cell_type": "markdown",
   "metadata": {},
   "source": [
    "## Randomized polynomial outputs"
   ]
  },
  {
   "cell_type": "code",
   "execution_count": 55,
   "metadata": {},
   "outputs": [
    {
     "data": {
      "text/plain": [
       "array([3.27951133e+17, 2.07155277e+18, 5.61752057e+18, 1.09658545e+19,\n",
       "       1.81165546e+19, 2.70696209e+19, 3.78250533e+19])"
      ]
     },
     "execution_count": 55,
     "metadata": {},
     "output_type": "execute_result"
    }
   ],
   "source": [
    "# R = S @ A\n",
    "R = A @ S\n",
    "R"
   ]
  },
  {
   "cell_type": "markdown",
   "metadata": {},
   "source": [
    "## Lagrange Interpolation"
   ]
  },
  {
   "cell_type": "code",
   "execution_count": 56,
   "metadata": {},
   "outputs": [
    {
     "data": {
      "text/plain": [
       "(3.279511329130456e+17,\n",
       " [(0, 3.279511329130456e+17),\n",
       "  (1, 2.0715527727506862e+18),\n",
       "  (2, 5.6175205657612e+18)])"
      ]
     },
     "execution_count": 56,
     "metadata": {},
     "output_type": "execute_result"
    }
   ],
   "source": [
    "shares = [(i, r) for (i, r) in enumerate(R[0:t].tolist())]\n",
    "R[0], shares"
   ]
  },
  {
   "cell_type": "code",
   "execution_count": 57,
   "metadata": {},
   "outputs": [
    {
     "data": {
      "text/plain": [
       "(array([1, 2, 3]),\n",
       " array([3.27951133e+17, 2.07155277e+18, 5.61752057e+18, 1.09658545e+19,\n",
       "        1.81165546e+19, 2.70696209e+19, 3.78250533e+19]),\n",
       " poly1d([ 9.01183077e+17, -9.59947590e+17,  3.86715646e+17]))"
      ]
     },
     "execution_count": 57,
     "metadata": {},
     "output_type": "execute_result"
    }
   ],
   "source": [
    "# Lagrange Interpolation for Multiplication \n",
    "x = np.arange(1,len(shares)+1) # prod points indices\n",
    "y = R      # prod points values\n",
    "f = lagrange(x, y)\n",
    "x, y, f"
   ]
  },
  {
   "cell_type": "markdown",
   "metadata": {},
   "source": [
    "## Degree reduced (and Randomized) polynomial"
   ]
  },
  {
   "cell_type": "code",
   "execution_count": 58,
   "metadata": {},
   "outputs": [
    {
     "data": {
      "text/plain": [
       "3.86715646248278e+17+-9.599475899216691e+17x+9.011830765864366e+17x^2"
      ]
     },
     "execution_count": 58,
     "metadata": {},
     "output_type": "execute_result"
    }
   ],
   "source": [
    "coef = [(i, r) for (i,r) in enumerate(np.flip(f.coef).tolist())]\n",
    "p = RandPoly(n=t, R=coef)\n",
    "p"
   ]
  },
  {
   "cell_type": "markdown",
   "metadata": {},
   "source": [
    "## Secret Multiplication Result"
   ]
  },
  {
   "cell_type": "code",
   "execution_count": 21,
   "metadata": {},
   "outputs": [
    {
     "data": {
      "text/plain": [
       "3863629550214392.0"
      ]
     },
     "execution_count": 21,
     "metadata": {},
     "output_type": "execute_result"
    }
   ],
   "source": [
    "p.poly(0)"
   ]
  },
  {
   "cell_type": "code",
   "execution_count": null,
   "metadata": {},
   "outputs": [],
   "source": []
  }
 ],
 "metadata": {
  "kernelspec": {
   "display_name": "Python 3",
   "language": "python",
   "name": "python3"
  },
  "language_info": {
   "codemirror_mode": {
    "name": "ipython",
    "version": 3
   },
   "file_extension": ".py",
   "mimetype": "text/x-python",
   "name": "python",
   "nbconvert_exporter": "python",
   "pygments_lexer": "ipython3",
   "version": "3.10.4"
  },
  "vscode": {
   "interpreter": {
    "hash": "e0b5b4d307bc6574c8822294f7ca3d9169c900760f4b3fc5626c02c523851fa3"
   }
  }
 },
 "nbformat": 4,
 "nbformat_minor": 4
}
