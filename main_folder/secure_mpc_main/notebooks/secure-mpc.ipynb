{
 "cells": [
  {
   "cell_type": "code",
   "execution_count": 1,
   "metadata": {},
   "outputs": [],
   "source": [
    "from smpc_secrets import ShamirSecretSharing, AdditiveSecretSharing, Vandermonde, P"
   ]
  },
  {
   "cell_type": "code",
   "execution_count": 2,
   "metadata": {},
   "outputs": [],
   "source": [
    "import numpy as np\n",
    "from numpy.linalg import inv\n",
    "from scipy.interpolate import lagrange"
   ]
  },
  {
   "cell_type": "code",
   "execution_count": 3,
   "metadata": {},
   "outputs": [
    {
     "data": {
      "text/plain": [
       "(array([1, 2, 3]), [132, 440, 930], poly1d([91., 35.,  6.]))"
      ]
     },
     "execution_count": 3,
     "metadata": {},
     "output_type": "execute_result"
    }
   ],
   "source": [
    "x = np.arange(1,4) # sum points indices 1, 2, 3\n",
    "y = [132, 440, 930]       # sum points values s(1), s(2), s(3)\n",
    "f = lagrange(x, y)\n",
    "x, y, f"
   ]
  },
  {
   "cell_type": "code",
   "execution_count": 3,
   "metadata": {},
   "outputs": [
    {
     "data": {
      "text/plain": [
       "(poly1d([12.,  9.,  6.]), 6.0, 27.0, 72.0, 141.0)"
      ]
     },
     "execution_count": 3,
     "metadata": {},
     "output_type": "execute_result"
    }
   ],
   "source": [
    "# Lagrange Interpolation for Addition section\n",
    "def s(x):\n",
    "    return 6+9*x+12*x**2\n",
    "S=[s(x) for x in range(1,4)]\n",
    "x = np.arange(1,4) # sum points indices 1, 2, 3\n",
    "y = S       # sum points values s(1), s(2), s(3)\n",
    "f = lagrange(x, y)\n",
    "f, f(0), f(1), f(2), f(3)"
   ]
  },
  {
   "cell_type": "code",
   "execution_count": 4,
   "metadata": {},
   "outputs": [],
   "source": [
    "def additive(secret, n):\n",
    "    additive_sharing = AdditiveSecretSharing(n=n)\n",
    "    shares = additive_sharing.generate(s=secret)\n",
    "    s = additive_sharing.reconstruct(shares=shares)\n",
    "    print(f\"secret: {secret}\")\n",
    "    print(f\"shares: {shares}\")\n",
    "    print(f\"reconstructed: {s}\")\n",
    "\n",
    "def shamir(secret, n, t):\n",
    "    shamir = ShamirSecretSharing(n=n, t=t)\n",
    "    shares = shamir.generate(s=secret)\n",
    "    s = shamir.reconstruct(shares=shares)\n",
    "    print(f\"secret: {secret}\")\n",
    "    print(f\"shares: {shares}\")\n",
    "    print(f\"reconstructed: {s}\")\n",
    "\n",
    "def main():\n",
    "    print(\"-------- Additive Secret Sharing ---------\")\n",
    "    additive(secret=22, n=5)\n",
    "\n",
    "    print(\"\\n-------- Shamir Secret Sharing ---------\")\n",
    "    shamir(secret=20, n=5, t=3)"
   ]
  },
  {
   "cell_type": "code",
   "execution_count": 5,
   "metadata": {},
   "outputs": [
    {
     "name": "stdout",
     "output_type": "stream",
     "text": [
      "-------- Additive Secret Sharing ---------\n",
      "secret: 22\n",
      "shares: [(1, 183), (2, 1043), (3, 1220), (4, 490), (5, -2914)]\n",
      "reconstructed: 22\n",
      "\n",
      "-------- Shamir Secret Sharing ---------\n",
      "secret: 20\n",
      "shares: [(0, 20), (1, 1530), (2, 4272), (3, 8246), (4, 13452), (5, 19890)]\n",
      "reconstructed: 20\n"
     ]
    }
   ],
   "source": [
    "main()"
   ]
  },
  {
   "cell_type": "code",
   "execution_count": 6,
   "metadata": {},
   "outputs": [],
   "source": [
    "shamir = ShamirSecretSharing(n=7, t=3)"
   ]
  },
  {
   "cell_type": "code",
   "execution_count": 7,
   "metadata": {},
   "outputs": [],
   "source": [
    "def s(x):\n",
    "    return 6 + 35*x+ 91*x**2+ 159*x**3+ 192*x**4+ 145*x**5+ 66*x**6"
   ]
  },
  {
   "cell_type": "code",
   "execution_count": 8,
   "metadata": {},
   "outputs": [
    {
     "data": {
      "text/plain": [
       "array([   694,  13648, 104124])"
      ]
     },
     "execution_count": 8,
     "metadata": {},
     "output_type": "execute_result"
    }
   ],
   "source": [
    "n=3\n",
    "np.array([s(x) for x in range(1,n+1)])"
   ]
  },
  {
   "cell_type": "code",
   "execution_count": 9,
   "metadata": {},
   "outputs": [],
   "source": [
    "# S=np.array([694,   13648,  104124])\n",
    "S=np.array([s(x) for x in range(1,n+1)])\n",
    "n = len(S)\n",
    "B = np.array(Vandermonde(n))\n",
    "Binv = inv(B)"
   ]
  },
  {
   "cell_type": "code",
   "execution_count": 10,
   "metadata": {},
   "outputs": [
    {
     "data": {
      "text/plain": [
       "(array([   694,  13648, 104124]),\n",
       " array([[1, 1, 1],\n",
       "        [1, 2, 4],\n",
       "        [1, 3, 9]]),\n",
       " array([[ 3. , -3. ,  1. ],\n",
       "        [-2.5,  4. , -1.5],\n",
       "        [ 0.5, -1. ,  0.5]]),\n",
       " [[1, 0, 0], [0, 1, 0], [0, 0, 0]])"
      ]
     },
     "execution_count": 10,
     "metadata": {},
     "output_type": "execute_result"
    }
   ],
   "source": [
    "t=1\n",
    "S, B, Binv, P(n,t+1)"
   ]
  },
  {
   "cell_type": "code",
   "execution_count": 11,
   "metadata": {},
   "outputs": [
    {
     "data": {
      "text/plain": [
       "(array([[ 0.5,  1. , -0.5],\n",
       "        [-2. ,  5. , -2. ],\n",
       "        [-4.5,  9. , -3.5]]),\n",
       " array([ -38067., -141396., -244725.]))"
      ]
     },
     "execution_count": 11,
     "metadata": {},
     "output_type": "execute_result"
    }
   ],
   "source": [
    "A = B @ P(n,t+1) @ Binv\n",
    "R = A @ S\n",
    "A, R"
   ]
  },
  {
   "cell_type": "code",
   "execution_count": 12,
   "metadata": {},
   "outputs": [
    {
     "data": {
      "text/plain": [
       "(array([1, 2, 3]),\n",
       " array([ -38067., -141396., -244725.]),\n",
       " poly1d([-103329.,   65262.]))"
      ]
     },
     "execution_count": 12,
     "metadata": {},
     "output_type": "execute_result"
    }
   ],
   "source": [
    "# Lagrange Interpolation for Multiplication \n",
    "x = np.arange(1,len(R)+1) # prod points indices\n",
    "y = R      # prod points values\n",
    "f = lagrange(x, y)\n",
    "x, y, f"
   ]
  },
  {
   "cell_type": "code",
   "execution_count": 13,
   "metadata": {},
   "outputs": [
    {
     "data": {
      "text/plain": [
       "(65262.0, -38067.0, -141396.0, -244725.0)"
      ]
     },
     "execution_count": 13,
     "metadata": {},
     "output_type": "execute_result"
    }
   ],
   "source": [
    "f(0), f(1), f(2), f(3)"
   ]
  },
  {
   "cell_type": "code",
   "execution_count": null,
   "metadata": {},
   "outputs": [],
   "source": []
  },
  {
   "cell_type": "code",
   "execution_count": null,
   "metadata": {},
   "outputs": [],
   "source": []
  }
 ],
 "metadata": {
  "kernelspec": {
   "display_name": "sv",
   "language": "python",
   "name": "python3"
  },
  "language_info": {
   "codemirror_mode": {
    "name": "ipython",
    "version": 3
   },
   "file_extension": ".py",
   "mimetype": "text/x-python",
   "name": "python",
   "nbconvert_exporter": "python",
   "pygments_lexer": "ipython3",
   "version": "3.10.4"
  },
  "vscode": {
   "interpreter": {
    "hash": "c78a287c5d96b6319afb8ff820d73699c9ea67f71e25ce8473899e0e8b85a2ed"
   }
  }
 },
 "nbformat": 4,
 "nbformat_minor": 4
}
