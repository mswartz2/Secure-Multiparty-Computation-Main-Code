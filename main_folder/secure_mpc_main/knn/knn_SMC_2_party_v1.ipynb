{
 "cells": [
  {
   "cell_type": "code",
   "execution_count": 1,
   "metadata": {},
   "outputs": [],
   "source": [
    "# example from: https://machinelearningmastery.com/tutorial-to-implement-k-nearest-neighbors-in-python-from-scratch/\n",
    "# github: https://github.com/madhug-nadig/Machine-Learning-Algorithms-from-Scratch/blob/master/K%20Means%20Clustering.py"
   ]
  },
  {
   "cell_type": "code",
   "execution_count": 5,
   "metadata": {},
   "outputs": [],
   "source": [
    "import import_ipynb\n",
    "\n",
    "from sklearn.datasets import load_iris\n",
    "from sklearn.utils import shuffle\n",
    "from sklearn.model_selection import StratifiedKFold\n",
    "from sklearn.metrics import f1_score, accuracy_score\n",
    "import pandas as pd\n",
    "import numpy as np\n",
    "from math import sqrt\n",
    "import os\n",
    "os.chdir(\"c:\\\\Users\\\\swart\\\\Desktop\\\\secure-mpc-main\\\\secure_mpc_main\")\n",
    "from network import NetworkNode, NetworkShare, merge, reconstruct\n"
   ]
  },
  {
   "cell_type": "code",
   "execution_count": 6,
   "metadata": {},
   "outputs": [],
   "source": [
    "# get iris dataset\n",
    "X_class,y_class = load_iris().data, load_iris().target\n",
    "\n",
    "# we just want binary classification\n",
    "X_class = X_class[:100]\n",
    "y_class = y_class[:100]\n",
    "\n",
    "X_class,y_class = shuffle(X_class, y_class, random_state=20)\n",
    "\n",
    "x_df = pd.DataFrame(X_class)\n",
    "y_df = pd.DataFrame(y_class)"
   ]
  },
  {
   "cell_type": "code",
   "execution_count": 7,
   "metadata": {},
   "outputs": [],
   "source": [
    "# separate data for alice, bob, server\n",
    "X_class_server, y_class_server = X_class[:90], y_class[:90]\n",
    "X_class_alice, y_class_alice = X_class[90:95], y_class[90:95]\n",
    "X_class_bob, y_class_bob = X_class[95:100], y_class[95:100]"
   ]
  },
  {
   "cell_type": "code",
   "execution_count": 8,
   "metadata": {},
   "outputs": [],
   "source": [
    "# calculate the Euclidean distance between two vectors\n",
    "# each row is the set of feataures for a node\n",
    "def euclidean_distance(row1, row2):\n",
    "\tdistance = 0.0\n",
    "\tfor i in range(len(row1)):\n",
    "\t\tdistance += (row1[i] - row2[i])**2\n",
    "\treturn sqrt(distance)"
   ]
  },
  {
   "cell_type": "code",
   "execution_count": 10,
   "metadata": {},
   "outputs": [],
   "source": [
    "def secure_euclidean_distance(data1, data2):\n",
    "    node1 = NetworkShare(\"Node1\", node_id=1, k=3)\n",
    "    node2 = NetworkShare(\"Node2\", node_id=2, k=3)\n",
    "    server = NetworkShare(\"Server\", node_id=3, k=3)\n",
    "\n",
    "    node1_shares = node1.create_shares(data=data1)\n",
    "    node2_shares = node2.create_shares(data=data2)\n",
    "    server_shares = server.create_shares([0]*len(data1))\n",
    "\n",
    "    print(node1_shares, node2_shares, server_shares)\n",
    "    \n",
    "    node1_received_from_node2 = node2.get_shares_for(node_id=1, share_type=\"f\")\n",
    "    node1_received_from_server = server.get_shares_for(node_id=1, share_type=\"f\")\n",
    "    node2_received_from_node1 = node1.get_shares_for(node_id=2, share_type=\"f\") \n",
    "    node2_received_from_server = server.get_shares_for(node_id=2, share_type=\"f\")\n",
    "    server_received_from_node1 = node1.get_shares_for(node_id=3, share_type=\"f\")\n",
    "    server_received_from_node2 = node2.get_shares_for(node_id=3, share_type=\"f\")\n",
    "\n",
    "    node1_merged = node1.merge_shares(shares=[node1_received_from_node2, node1_received_from_server], by=merge)\n",
    "    node2_merged = node2.merge_shares(shares=[node2_received_from_node1, node2_received_from_server], by=merge)   \n",
    "    server_merged = node2.merge_shares(shares=[server_received_from_node1, server_received_from_node2], by=merge)  \n",
    "\n",
    "    print(node1_merged, node2_merged, server_merged) \n",
    "\n",
    "    distance = reconstruct([node1_merged, node2_merged, server_merged])\n",
    "    print(distance)\n",
    "\n",
    "    return np.sqrt(abs(distance))\n",
    "    \n"
   ]
  },
  {
   "cell_type": "code",
   "execution_count": 11,
   "metadata": {},
   "outputs": [],
   "source": [
    "# Locate the most similar neighbors\n",
    "def get_neighbors(X_train, y_train, test_row, num_neighbors):\n",
    "\tdistances = list()\n",
    "\tfor i in range(len(X_train)):\n",
    "\t\tdist = secure_euclidean_distance(X_train[i], test_row)\n",
    "\t\tdistances.append((X_train[i], dist, y_train[i]))\n",
    "\tdistances.sort(key=lambda tup: tup[1])\n",
    "\tneighbors = list()\n",
    "\tfor i in range(num_neighbors):\n",
    "\t\tneighbors.append([distances[i][0], distances[i][2]])\n",
    "\treturn neighbors"
   ]
  },
  {
   "cell_type": "code",
   "execution_count": 12,
   "metadata": {},
   "outputs": [],
   "source": [
    "# Make a classification prediction with neighbors\n",
    "def predict_classification(X_train, y_train, test_row, num_neighbors):\n",
    "\tneighbors = get_neighbors(X_train, y_train, test_row, num_neighbors)\n",
    "\toutput_values = [row[-1] for row in neighbors]\n",
    "\tprediction = max(set(output_values), key=output_values.count)\n",
    "\treturn prediction"
   ]
  },
  {
   "cell_type": "code",
   "execution_count": 17,
   "metadata": {},
   "outputs": [
    {
     "name": "stdout",
     "output_type": "stream",
     "text": [
      "regular calc:  4.242640687119285 \n",
      "\n",
      "[1300 1272] [1271 1965] [ 336 2586]\n",
      "2053125 6475932 14354627\n",
      "1086206.0\n"
     ]
    },
    {
     "data": {
      "text/plain": [
       "1042.2120705499433"
      ]
     },
     "execution_count": 17,
     "metadata": {},
     "output_type": "execute_result"
    }
   ],
   "source": [
    "a = [0,0]\n",
    "b = [3,3]\n",
    "\n",
    "print(\"regular calc: \", euclidean_distance(a,b), \"\\n\")\n",
    "secure_euclidean_distance(a,b)\n"
   ]
  },
  {
   "cell_type": "code",
   "execution_count": 74,
   "metadata": {},
   "outputs": [
    {
     "name": "stdout",
     "output_type": "stream",
     "text": [
      "Alice shares: [ 156 1131]\n"
     ]
    }
   ],
   "source": [
    "alice = NetworkShare(\"Alice\", node_id=1, k=2)\n",
    "alice_shares = alice.create_shares(data=[4,2])\n",
    "print(\"Alice shares:\", alice_shares)\n",
    "\n",
    "# server = NetworkNode(\"Server\", node_id=2, k=2)\n",
    "# # server_shares = server.create_shares(data = b)\n",
    "# # print(\"Server's shares:\", server_shares)\n",
    "\n",
    "# alice_received_from_server = server.get_shares_for(node_id=1, share_type=\"f\")\n",
    "# server_received_from_alice = alice.get_shares_for(node_id=2, share_type=\"f\")\n",
    "\n",
    "# # alice_received_from_server = server.get_shares_for(node_id=1, share_type=\"f\")\n",
    "# # # print(alice.merge_shares([alice_shares[1], server_shares[1]]))\n",
    "# # # # alice.get_shares('d')\n",
    "\n",
    "# # alice.merge_shares(shares=alice_received_from_server, by=merge)\n",
    "\n",
    "# alice_merged = alice.merge_shares(shares=alice_received_from_server, by=merge)\n",
    "# server_merged = server.merge_shares(shares=server_received_from_alice, by=merge)\n",
    "\n",
    "\n",
    "# reconstruct(shares=[alice_merged, server_merged])\n",
    "# server = NetworkNode(\"Server\", k=3, node_id=2, port=9997)\n",
    "\n",
    "# server_received_from_alice = alice.get_shares_for(node_id=2, share_type=\"f\")\n",
    "# print(f\"server received: {server_received_from_alice}\")\n",
    "# distance = server.merge_shares_with(shares=server_received_from_alice, own_shares=server.get_shares_for(node_id=2, share_type=\"f\"))\n",
    "\n",
    "# # distance = int(server.merge_shares(node_id=1, shares=server_received_from_alice, share_type=\"f\").get('data'))\n",
    "# print(\"distance:\", distance)\n",
    "\n",
    "\n"
   ]
  },
  {
   "cell_type": "code",
   "execution_count": 12,
   "metadata": {},
   "outputs": [
    {
     "name": "stdout",
     "output_type": "stream",
     "text": [
      "Alice shares: [1141 1062]\n",
      "[2278 2122]\n"
     ]
    }
   ],
   "source": [
    "alice = NetworkShare(\"Alice\", node_id=1, k=2)\n",
    "alice_shares = alice.create_shares(data=[4,2])\n",
    "print(\"Alice shares:\", alice_shares)\n",
    "server_received_from_alice = alice.get_shares_for(node_id=2, share_type=\"f\")\n",
    "print(server_received_from_alice)\n"
   ]
  },
  {
   "cell_type": "code",
   "execution_count": 13,
   "metadata": {},
   "outputs": [
    {
     "ename": "ConnectionRefusedError",
     "evalue": "[WinError 10061] No connection could be made because the target machine actively refused it",
     "output_type": "error",
     "traceback": [
      "\u001b[1;31m---------------------------------------------------------------------------\u001b[0m",
      "\u001b[1;31mConnectionRefusedError\u001b[0m                    Traceback (most recent call last)",
      "\u001b[1;32mc:\\Users\\swart\\Desktop\\secure-mpc-main\\secure-mpc-main\\knn\\knn_SMC_2_party.ipynb Cell 13\u001b[0m in \u001b[0;36m<cell line: 2>\u001b[1;34m()\u001b[0m\n\u001b[0;32m      <a href='vscode-notebook-cell:/c%3A/Users/swart/Desktop/secure-mpc-main/secure-mpc-main/knn/knn_SMC_2_party.ipynb#X15sZmlsZQ%3D%3D?line=0'>1</a>\u001b[0m server \u001b[39m=\u001b[39m NetworkNode(\u001b[39m\"\u001b[39m\u001b[39mServer\u001b[39m\u001b[39m\"\u001b[39m, node_id\u001b[39m=\u001b[39m\u001b[39m2\u001b[39m, k\u001b[39m=\u001b[39m\u001b[39m2\u001b[39m)\n\u001b[1;32m----> <a href='vscode-notebook-cell:/c%3A/Users/swart/Desktop/secure-mpc-main/secure-mpc-main/knn/knn_SMC_2_party.ipynb#X15sZmlsZQ%3D%3D?line=1'>2</a>\u001b[0m alice_received_from_server \u001b[39m=\u001b[39m server\u001b[39m.\u001b[39;49mget_shares_for(node_id\u001b[39m=\u001b[39;49m\u001b[39m2\u001b[39;49m, share_type\u001b[39m=\u001b[39;49m\u001b[39m\"\u001b[39;49m\u001b[39mf\u001b[39;49m\u001b[39m\"\u001b[39;49m)\n\u001b[0;32m      <a href='vscode-notebook-cell:/c%3A/Users/swart/Desktop/secure-mpc-main/secure-mpc-main/knn/knn_SMC_2_party.ipynb#X15sZmlsZQ%3D%3D?line=2'>3</a>\u001b[0m \u001b[39mprint\u001b[39m(\u001b[39mf\u001b[39m\u001b[39m\"\u001b[39m\u001b[39mreceived: \u001b[39m\u001b[39m{\u001b[39;00malice_received_from_server\u001b[39m}\u001b[39;00m\u001b[39m\"\u001b[39m)\n",
      "File \u001b[1;32mc:\\Users\\swart\\Desktop\\secure-mpc-main\\secure-mpc-main\\knn\\network_knn.py:413\u001b[0m, in \u001b[0;36mNetworkNode.get_shares_for\u001b[1;34m(self, node_id, share_type)\u001b[0m\n\u001b[0;32m    411\u001b[0m \u001b[39mdef\u001b[39;00m \u001b[39mget_shares_for\u001b[39m(\u001b[39mself\u001b[39m, node_id, share_type\u001b[39m=\u001b[39m\u001b[39m\"\u001b[39m\u001b[39mf\u001b[39m\u001b[39m\"\u001b[39m):\n\u001b[0;32m    412\u001b[0m     msg \u001b[39m=\u001b[39m \u001b[39mf\u001b[39m\u001b[39m\"\u001b[39m\u001b[39mmethod=get_shares_for;node_id=\u001b[39m\u001b[39m{\u001b[39;00mnode_id\u001b[39m}\u001b[39;00m\u001b[39m;share_type=\u001b[39m\u001b[39m{\u001b[39;00mshare_type\u001b[39m}\u001b[39;00m\u001b[39m\"\u001b[39m\n\u001b[1;32m--> 413\u001b[0m     response \u001b[39m=\u001b[39m \u001b[39mself\u001b[39;49m\u001b[39m.\u001b[39;49msend(msg)\n\u001b[0;32m    414\u001b[0m     \u001b[39mreturn\u001b[39;00m json\u001b[39m.\u001b[39mloads(response)\n",
      "File \u001b[1;32mc:\\Users\\swart\\Desktop\\secure-mpc-main\\secure-mpc-main\\knn\\network_knn.py:409\u001b[0m, in \u001b[0;36mNetworkNode.send\u001b[1;34m(self, data)\u001b[0m\n\u001b[0;32m    405\u001b[0m \u001b[39mdef\u001b[39;00m \u001b[39msend\u001b[39m(\u001b[39mself\u001b[39m, data):\n\u001b[0;32m    406\u001b[0m     \u001b[39m\"\"\"\u001b[39;00m\n\u001b[0;32m    407\u001b[0m \u001b[39m    Send shares\u001b[39;00m\n\u001b[0;32m    408\u001b[0m \u001b[39m    \"\"\"\u001b[39;00m\n\u001b[1;32m--> 409\u001b[0m     \u001b[39mreturn\u001b[39;00m \u001b[39mself\u001b[39;49m\u001b[39m.\u001b[39;49mclient\u001b[39m.\u001b[39;49msend(data)\n",
      "File \u001b[1;32mc:\\Users\\swart\\Desktop\\secure-mpc-main\\secure-mpc-main\\knn\\network_knn.py:152\u001b[0m, in \u001b[0;36mClient.send\u001b[1;34m(self, data)\u001b[0m\n\u001b[0;32m    150\u001b[0m \u001b[39mdef\u001b[39;00m \u001b[39msend\u001b[39m(\u001b[39mself\u001b[39m, data):\n\u001b[0;32m    151\u001b[0m     \u001b[39mself\u001b[39m\u001b[39m.\u001b[39mclient_socket \u001b[39m=\u001b[39m socket\u001b[39m.\u001b[39msocket(socket\u001b[39m.\u001b[39mAF_INET, socket\u001b[39m.\u001b[39mSOCK_STREAM)\n\u001b[1;32m--> 152\u001b[0m     \u001b[39mself\u001b[39;49m\u001b[39m.\u001b[39;49mclient_socket\u001b[39m.\u001b[39;49mconnect((\u001b[39mself\u001b[39;49m\u001b[39m.\u001b[39;49mip, \u001b[39mself\u001b[39;49m\u001b[39m.\u001b[39;49mport))\n\u001b[0;32m    154\u001b[0m     \u001b[39mtry\u001b[39;00m:\n\u001b[0;32m    155\u001b[0m         \u001b[39mself\u001b[39m\u001b[39m.\u001b[39mclient_socket\u001b[39m.\u001b[39msendall(\u001b[39mbytes\u001b[39m(data\u001b[39m.\u001b[39mencode(\u001b[39m\"\u001b[39m\u001b[39mutf-8\u001b[39m\u001b[39m\"\u001b[39m)))\n",
      "\u001b[1;31mConnectionRefusedError\u001b[0m: [WinError 10061] No connection could be made because the target machine actively refused it"
     ]
    }
   ],
   "source": [
    "server = NetworkShare(\"Server\", node_id=2, k=2)\n",
    "alice_received_from_server = server.get_shares_for(node_id=2, share_type=\"f\")\n",
    "print(f\"received: {alice_received_from_server}\")\n",
    "# alice.merge_shares(shares=alice_received_from_bob, by=merge)\n",
    "# print(f\"alice shares: {alice.shares}\")\n",
    "# print(f\"alice d: {alice.get_shares('d')}\")"
   ]
  },
  {
   "cell_type": "code",
   "execution_count": null,
   "metadata": {},
   "outputs": [],
   "source": []
  },
  {
   "cell_type": "code",
   "execution_count": null,
   "metadata": {},
   "outputs": [],
   "source": [
    "# Alice submits her shares in a secure way\n",
    "\n",
    "\n",
    "\n",
    "# Server calcs shares and distance\n",
    "\n",
    "\n",
    "\n",
    "# Server returns predictions for Alice\n",
    "\n",
    "\n"
   ]
  },
  {
   "cell_type": "code",
   "execution_count": null,
   "metadata": {},
   "outputs": [],
   "source": [
    "class ShamirShare:\n",
    "    def __init__(self,id, t, n, secrets):\n",
    "        self.computations = []\n",
    "        self.all_shares = []\n",
    "        self.id = id\n",
    "        for secret in secrets:\n",
    "            shamir = ShamirSecretSharing(n=n, t=t)\n",
    "            shares = shamir.generate(s=secret)\n",
    "            self.all_shares.append(shares)\n",
    "            self.computations.append((shamir, shares))\n",
    "        self.shares = self.get_share(id)\n",
    "        \n",
    "    \n",
    "    def get_share(self,id):\n",
    "        return [shares[id][1] for shares in self.all_shares]\n",
    "        \n",
    "    def reconstruct(self):\n",
    "        secrets = []\n",
    "        for shamir, shares in self.computations:\n",
    "            secrets.append(shamir.reconstruct(shares=shares))\n",
    "        return secrets\n",
    "    \n",
    "    def _compute(self, other, op):\n",
    "        assert len(self.shares) == len(other)\n",
    "        for i in range(len(self.shares)):\n",
    "            self.shares[i] = op(self.shares[i], other[i])"
   ]
  },
  {
   "cell_type": "code",
   "execution_count": null,
   "metadata": {},
   "outputs": [],
   "source": []
  },
  {
   "cell_type": "code",
   "execution_count": null,
   "metadata": {},
   "outputs": [],
   "source": [
    "\n",
    "class CustomKNN:\n",
    "\t\n",
    "\tdef __init__(self):\n",
    "\t\tself.accurate_predictions = 0\n",
    "\t\tself.total_predictions = 0\n",
    "\t\tself.accuracy = 0.0\n",
    "\n",
    "\tdef predict(self, training_data, to_predict, k = 3):\n",
    "\t\tif len(training_data) >= k:\n",
    "\t\t\tprint(\"K cannot be smaller than the total voting groups(ie. number of training data points)\")\n",
    "\t\t\treturn\n",
    "\t\t\n",
    "\t\tdistributions = []\n",
    "\t\tfor group in training_data:\n",
    "\t\t\tfor features in training_data[group]:\n",
    "\t\t\t\teuclidean_distance = np.linalg.norm(np.array(features)- np.array(to_predict))\n",
    "\t\t\t\tdistributions.append([euclidean_distance, group])\n",
    "\t\t\n",
    "\t\tresults = [i[1] for i in sorted(distributions)[:k]]\n",
    "\t\tresult = Counter(results).most_common(1)[0][0]\n",
    "\t\tconfidence = Counter(results).most_common(1)[0][1]/k\n",
    "\t\t\n",
    "\t\treturn result, confidence\n",
    "\t\n",
    "\tdef test(self, test_set, training_set):\n",
    "\t\tfor group in test_set:\n",
    "\t\t\tfor data in test_set[group]:\n",
    "\t\t\t\tpredicted_class,confidence = self.predict(training_set, data, k =3)\n",
    "\t\t\t\tif predicted_class == group:\n",
    "\t\t\t\t\tself.accurate_predictions += 1\n",
    "\t\t\t\telse:\n",
    "\t\t\t\t\tprint(\"Wrong classification with confidence \" + str(confidence * 100) + \" and class \" + str(predicted_class))\n",
    "\t\t\t\tself.total_predictions += 1\n",
    "\t\tself.accuracy = 100*(self.accurate_predictions/self.total_predictions)\n",
    "\t\tprint(\"\\nAcurracy :\", str(self.accuracy) + \"%\")"
   ]
  },
  {
   "cell_type": "code",
   "execution_count": null,
   "metadata": {},
   "outputs": [],
   "source": []
  },
  {
   "cell_type": "code",
   "execution_count": null,
   "metadata": {},
   "outputs": [],
   "source": []
  },
  {
   "cell_type": "code",
   "execution_count": null,
   "metadata": {},
   "outputs": [
    {
     "data": {
      "text/html": [
       "<div>\n",
       "<style scoped>\n",
       "    .dataframe tbody tr th:only-of-type {\n",
       "        vertical-align: middle;\n",
       "    }\n",
       "\n",
       "    .dataframe tbody tr th {\n",
       "        vertical-align: top;\n",
       "    }\n",
       "\n",
       "    .dataframe thead th {\n",
       "        text-align: right;\n",
       "    }\n",
       "</style>\n",
       "<table border=\"1\" class=\"dataframe\">\n",
       "  <thead>\n",
       "    <tr style=\"text-align: right;\">\n",
       "      <th></th>\n",
       "      <th>0</th>\n",
       "    </tr>\n",
       "  </thead>\n",
       "  <tbody>\n",
       "    <tr>\n",
       "      <th>0</th>\n",
       "      <td>2</td>\n",
       "    </tr>\n",
       "    <tr>\n",
       "      <th>1</th>\n",
       "      <td>2</td>\n",
       "    </tr>\n",
       "    <tr>\n",
       "      <th>2</th>\n",
       "      <td>1</td>\n",
       "    </tr>\n",
       "    <tr>\n",
       "      <th>3</th>\n",
       "      <td>2</td>\n",
       "    </tr>\n",
       "    <tr>\n",
       "      <th>4</th>\n",
       "      <td>0</td>\n",
       "    </tr>\n",
       "    <tr>\n",
       "      <th>5</th>\n",
       "      <td>0</td>\n",
       "    </tr>\n",
       "    <tr>\n",
       "      <th>6</th>\n",
       "      <td>1</td>\n",
       "    </tr>\n",
       "    <tr>\n",
       "      <th>7</th>\n",
       "      <td>0</td>\n",
       "    </tr>\n",
       "    <tr>\n",
       "      <th>8</th>\n",
       "      <td>2</td>\n",
       "    </tr>\n",
       "    <tr>\n",
       "      <th>9</th>\n",
       "      <td>0</td>\n",
       "    </tr>\n",
       "    <tr>\n",
       "      <th>10</th>\n",
       "      <td>1</td>\n",
       "    </tr>\n",
       "    <tr>\n",
       "      <th>11</th>\n",
       "      <td>1</td>\n",
       "    </tr>\n",
       "    <tr>\n",
       "      <th>12</th>\n",
       "      <td>2</td>\n",
       "    </tr>\n",
       "    <tr>\n",
       "      <th>13</th>\n",
       "      <td>0</td>\n",
       "    </tr>\n",
       "    <tr>\n",
       "      <th>14</th>\n",
       "      <td>2</td>\n",
       "    </tr>\n",
       "  </tbody>\n",
       "</table>\n",
       "</div>"
      ],
      "text/plain": [
       "    0\n",
       "0   2\n",
       "1   2\n",
       "2   1\n",
       "3   2\n",
       "4   0\n",
       "5   0\n",
       "6   1\n",
       "7   0\n",
       "8   2\n",
       "9   0\n",
       "10  1\n",
       "11  1\n",
       "12  2\n",
       "13  0\n",
       "14  2"
      ]
     },
     "execution_count": 13,
     "metadata": {},
     "output_type": "execute_result"
    }
   ],
   "source": [
    "def knn_from_scratch_secure(X_train, X_test, y_train, y_test, num_neighbors):\n",
    "\ty_pred = []\n",
    "\tfor test_row in X_test:\n",
    "\t\ty_pred.append(predict_classification(X_train, y_train, test_row, num_neighbors))\n",
    "\n",
    "\tf1_binary = f1_score(y_test, y_pred, average=\"binary\")\n",
    "\taccuracy = accuracy_score(y_test, y_pred)\n",
    "\n",
    "\t# print(\"ypred:\", y_pred)\n",
    "\t# print(\"ytest:\", y_test)\n",
    "\n",
    "\treturn f1_binary, accuracy"
   ]
  },
  {
   "cell_type": "code",
   "execution_count": null,
   "metadata": {},
   "outputs": [],
   "source": [
    "#testing\n",
    "\n",
    "numFolds = 10\n",
    "num_neighbors = 9\n",
    "stratifiedKFold = StratifiedKFold(\n",
    "    n_splits=numFolds, shuffle=True, random_state=86\n",
    ")\n",
    "\n",
    "count = 1\n",
    "avgF1 = 0\n",
    "avgAcc = 0\n",
    "\n",
    "X = X_class\n",
    "y = y_class\n",
    "\n",
    "for train_index, test_index in stratifiedKFold.split(X, y):\n",
    "    X_train, X_test = X[train_index], X[test_index]\n",
    "    y_train, y_test = y[train_index], y[test_index]\n",
    "    f1, acc = knn_from_scratch(X_train, X_test, y_train, y_test, num_neighbors)\n",
    "    avgF1 += f1\n",
    "    avgAcc += acc\n",
    "\n",
    "    # print(f\"\\tFold {count}:: Average accuracy: {avgAcc}, Average F1 score: {avgF1}\")\n",
    "\n",
    "    count += 1\n",
    "\n",
    "avgF1 = avgF1/numFolds\n",
    "avgAcc = avgAcc/numFolds\n",
    "\n",
    "print(f\"Average accuracy: {avgAcc}, Average F1 score: {avgF1}\")"
   ]
  },
  {
   "cell_type": "code",
   "execution_count": null,
   "metadata": {},
   "outputs": [],
   "source": []
  },
  {
   "cell_type": "code",
   "execution_count": null,
   "metadata": {},
   "outputs": [],
   "source": [
    "def main():\n",
    "\t#20% of the available data will be used for testing\n",
    "\ttest_size = 0.2\n",
    "\n",
    "\t#The keys of the dict are the classes that the data is classfied into\n",
    "\ttraining_set = {2: [], 4:[]}\n",
    "\ttest_set = {2: [], 4:[]}\n",
    "\t\n",
    "\t#Split data into training and test for cross validation\n",
    "\ttraining_data = x_df[:-int(test_size * len(x_df))]\n",
    "\ttest_data = y_df[-int(test_size * len(y_df)):]\n",
    "\t\n",
    "\t#Insert data into the training set\n",
    "\tfor record in training_data:\n",
    "\t\ttraining_set[record[-1]].append(record[:-1]) # Append the list in the dict will all the elements of the record except the class\n",
    "\n",
    "\t#Insert data into the test set\n",
    "\tfor record in test_data:\n",
    "\t\ttest_set[record[-1]].append(record[:-1]) # Append the list in the dict will all the elements of the record except the class\n",
    "\n",
    "\t# split into test and training sets\n",
    "\n",
    "\t\n",
    "\n",
    "\n",
    "\ts = time.clock()\n",
    "\tknn = CustomKNN()\n",
    "\tknn.test(test_set, training_set)\n",
    "\te = time.clock()\n",
    "\tprint(\"Exec Time:\" ,e-s)"
   ]
  }
 ],
 "metadata": {
  "kernelspec": {
   "display_name": "sv",
   "language": "python",
   "name": "python3"
  },
  "language_info": {
   "codemirror_mode": {
    "name": "ipython",
    "version": 3
   },
   "file_extension": ".py",
   "mimetype": "text/x-python",
   "name": "python",
   "nbconvert_exporter": "python",
   "pygments_lexer": "ipython3",
   "version": "3.10.4"
  },
  "orig_nbformat": 4,
  "vscode": {
   "interpreter": {
    "hash": "c78a287c5d96b6319afb8ff820d73699c9ea67f71e25ce8473899e0e8b85a2ed"
   }
  }
 },
 "nbformat": 4,
 "nbformat_minor": 2
}
