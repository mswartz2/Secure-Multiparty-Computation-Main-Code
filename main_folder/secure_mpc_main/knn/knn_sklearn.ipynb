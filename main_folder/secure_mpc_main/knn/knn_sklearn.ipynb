{
 "cells": [
  {
   "cell_type": "code",
   "execution_count": 10,
   "metadata": {},
   "outputs": [],
   "source": [
    "from sklearn.datasets import load_iris\n",
    "from sklearn.utils import shuffle\n",
    "from sklearn.neighbors import KNeighborsClassifier\n",
    "from sklearn.model_selection import StratifiedKFold\n",
    "from sklearn.metrics import f1_score, accuracy_score\n",
    "import pandas as pd\n",
    "import numpy as np"
   ]
  },
  {
   "cell_type": "code",
   "execution_count": 21,
   "metadata": {},
   "outputs": [],
   "source": [
    "# get iris dataset\n",
    "X_class,y_class = load_iris().data, load_iris().target\n",
    "\n",
    "# we just want binary classification\n",
    "X_class = X_class[:100]\n",
    "y_class = y_class[:100]\n",
    "\n",
    "X_class,y_class = shuffle(X_class, y_class)\n",
    "\n",
    "x_df = pd.DataFrame(X_class)\n",
    "y_df = pd.DataFrame(y_class)"
   ]
  },
  {
   "cell_type": "code",
   "execution_count": 30,
   "metadata": {},
   "outputs": [],
   "source": [
    "# sklearn knn model\n",
    "def knn(X_train, X_test, y_train, y_test, num_neighbors):\n",
    "\tknnModel = KNeighborsClassifier(\n",
    "\t\tn_neighbors=num_neighbors, p=2, weights=\"uniform\", algorithm=\"auto\"\n",
    "\t)\n",
    "\tknnModel.fit(X_train, y_train)\n",
    "\ty_pred = knnModel.predict(X_test)\n",
    "\tf1_binary = f1_score(y_test, y_pred, average=\"binary\")\n",
    "\taccuracy = accuracy_score(y_test, y_pred)\n",
    "\n",
    "\t# print(\"ypred:\", y_pred)\n",
    "\t# print(\"ytest:\", y_test)\n",
    "\n",
    "\treturn f1_binary, accuracy"
   ]
  },
  {
   "cell_type": "code",
   "execution_count": 32,
   "metadata": {},
   "outputs": [
    {
     "name": "stdout",
     "output_type": "stream",
     "text": [
      "Average accuracy: 1.0, Average F1 score: 1.0\n"
     ]
    }
   ],
   "source": [
    "#testing\n",
    "\n",
    "numFolds = 10\n",
    "num_neighbors = 9\n",
    "stratifiedKFold = StratifiedKFold(\n",
    "    n_splits=numFolds, shuffle=True, random_state=86\n",
    ")\n",
    "\n",
    "count = 1\n",
    "avgF1 = 0\n",
    "avgAcc = 0\n",
    "\n",
    "X = X_class\n",
    "y = y_class\n",
    "\n",
    "for train_index, test_index in stratifiedKFold.split(X, y):\n",
    "    X_train, X_test = X[train_index], X[test_index]\n",
    "    y_train, y_test = y[train_index], y[test_index]\n",
    "    f1, acc = knn(X_train, X_test, y_train, y_test, num_neighbors)\n",
    "    avgF1 += f1\n",
    "    avgAcc += acc\n",
    "\n",
    "    # print(f\"\\tFold {count}:: Average accuracy: {avgAcc}, Average F1 score: {avgF1}\")\n",
    "\n",
    "    count += 1\n",
    "\n",
    "avgF1 = avgF1/numFolds\n",
    "avgAcc = avgAcc/numFolds\n",
    "\n",
    "print(f\"Average accuracy: {avgAcc}, Average F1 score: {avgF1}\")"
   ]
  }
 ],
 "metadata": {
  "kernelspec": {
   "display_name": "sv",
   "language": "python",
   "name": "python3"
  },
  "language_info": {
   "codemirror_mode": {
    "name": "ipython",
    "version": 3
   },
   "file_extension": ".py",
   "mimetype": "text/x-python",
   "name": "python",
   "nbconvert_exporter": "python",
   "pygments_lexer": "ipython3",
   "version": "3.10.4"
  },
  "orig_nbformat": 4,
  "vscode": {
   "interpreter": {
    "hash": "c78a287c5d96b6319afb8ff820d73699c9ea67f71e25ce8473899e0e8b85a2ed"
   }
  }
 },
 "nbformat": 4,
 "nbformat_minor": 2
}
