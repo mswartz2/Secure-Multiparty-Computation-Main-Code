{
 "cells": [
  {
   "cell_type": "code",
   "execution_count": 6,
   "metadata": {},
   "outputs": [],
   "source": [
    "# example from: https://machinelearningmastery.com/tutorial-to-implement-k-nearest-neighbors-in-python-from-scratch/\n",
    "# github: https://github.com/madhug-nadig/Machine-Learning-Algorithms-from-Scratch/blob/master/K%20Means%20Clustering.py"
   ]
  },
  {
   "cell_type": "code",
   "execution_count": 1,
   "metadata": {},
   "outputs": [],
   "source": [
    "from sklearn.datasets import load_iris\n",
    "from sklearn.utils import shuffle\n",
    "from sklearn.model_selection import StratifiedKFold\n",
    "from sklearn.metrics import f1_score, accuracy_score\n",
    "import pandas as pd\n",
    "import numpy as np\n",
    "from math import sqrt"
   ]
  },
  {
   "cell_type": "code",
   "execution_count": 8,
   "metadata": {},
   "outputs": [],
   "source": [
    "# get iris dataset\n",
    "X_class,y_class = load_iris().data, load_iris().target\n",
    "\n",
    "# we just want binary classification\n",
    "X_class = X_class[:100]\n",
    "y_class = y_class[:100]\n",
    "\n",
    "X_class,y_class = shuffle(X_class, y_class)\n",
    "\n",
    "x_df = pd.DataFrame(X_class)\n",
    "y_df = pd.DataFrame(y_class)"
   ]
  },
  {
   "cell_type": "code",
   "execution_count": 13,
   "metadata": {},
   "outputs": [],
   "source": [
    "# calculate the Euclidean distance between two vectors\n",
    "# each row is the set of feataures for a node\n",
    "def euclidean_distance(row1, row2):\n",
    "\tdistance = 0.0\n",
    "\tfor i in range(len(row1)):\n",
    "\t\tdistance += (row1[i] - row2[i])**2\n",
    "\treturn sqrt(distance)"
   ]
  },
  {
   "cell_type": "code",
   "execution_count": 16,
   "metadata": {},
   "outputs": [
    {
     "data": {
      "text/plain": [
       "4.242640687119285"
      ]
     },
     "execution_count": 16,
     "metadata": {},
     "output_type": "execute_result"
    }
   ],
   "source": [
    "a = [0,0]\n",
    "b = [3,3]\n",
    "\n",
    "euclidean_distance(a,b)"
   ]
  },
  {
   "cell_type": "code",
   "execution_count": 28,
   "metadata": {},
   "outputs": [],
   "source": [
    "# Locate the most similar neighbors\n",
    "def get_neighbors(X_train, y_train, test_row, num_neighbors):\n",
    "\tdistances = list()\n",
    "\tfor i in range(len(X_train)):\n",
    "\t\tdist = euclidean_distance(X_train[i], test_row)\n",
    "\t\tdistances.append((X_train[i], dist, y_train[i]))\n",
    "\tdistances.sort(key=lambda tup: tup[1])\n",
    "\tneighbors = list()\n",
    "\tfor i in range(num_neighbors):\n",
    "\t\tneighbors.append([distances[i][0], distances[i][2]])\n",
    "\treturn neighbors"
   ]
  },
  {
   "cell_type": "code",
   "execution_count": 29,
   "metadata": {},
   "outputs": [
    {
     "data": {
      "text/plain": [
       "[[[6, 7, 8, 9, 10], 0], [[1, 2, 3, 4, 5], 0], [[90, 91, 92, 93, 94], 1]]"
      ]
     },
     "execution_count": 29,
     "metadata": {},
     "output_type": "execute_result"
    }
   ],
   "source": [
    "pseudo_x_train = [[1,2,3,4,5], [6,7,8,9,10],[90,91,92,93,94], [100,101,102,103,104]]\n",
    "pseudo_y_train = [0,0,1,1]\n",
    "pseudo_test_row = [10,11,12,13,14]\n",
    "\n",
    "get_neighbors(pseudo_x_train, pseudo_y_train, pseudo_test_row, 3)"
   ]
  },
  {
   "cell_type": "code",
   "execution_count": 30,
   "metadata": {},
   "outputs": [],
   "source": [
    "# Make a classification prediction with neighbors\n",
    "def predict_classification(X_train, y_train, test_row, num_neighbors):\n",
    "\tneighbors = get_neighbors(X_train, y_train, test_row, num_neighbors)\n",
    "\toutput_values = [row[-1] for row in neighbors]\n",
    "\tprediction = max(set(output_values), key=output_values.count)\n",
    "\treturn prediction"
   ]
  },
  {
   "cell_type": "code",
   "execution_count": 31,
   "metadata": {},
   "outputs": [
    {
     "data": {
      "text/plain": [
       "0"
      ]
     },
     "execution_count": 31,
     "metadata": {},
     "output_type": "execute_result"
    }
   ],
   "source": [
    "predict_classification(pseudo_x_train, pseudo_y_train, pseudo_test_row, 3)"
   ]
  },
  {
   "cell_type": "code",
   "execution_count": 34,
   "metadata": {},
   "outputs": [],
   "source": [
    "def knn_from_scratch(X_train, X_test, y_train, y_test, num_neighbors):\n",
    "\ty_pred = []\n",
    "\tfor test_row in X_test:\n",
    "\t\ty_pred.append(predict_classification(X_train, y_train, test_row, num_neighbors))\n",
    "\n",
    "\tf1_binary = f1_score(y_test, y_pred, average=\"binary\")\n",
    "\taccuracy = accuracy_score(y_test, y_pred)\n",
    "\n",
    "\t# print(\"ypred:\", y_pred)\n",
    "\t# print(\"ytest:\", y_test)\n",
    "\n",
    "\treturn f1_binary, accuracy"
   ]
  },
  {
   "cell_type": "code",
   "execution_count": 36,
   "metadata": {},
   "outputs": [
    {
     "name": "stdout",
     "output_type": "stream",
     "text": [
      "\tFold 1:: Average accuracy: 1.0, Average F1 score: 1.0\n",
      "\tFold 2:: Average accuracy: 2.0, Average F1 score: 2.0\n",
      "\tFold 3:: Average accuracy: 3.0, Average F1 score: 3.0\n",
      "\tFold 4:: Average accuracy: 4.0, Average F1 score: 4.0\n",
      "\tFold 5:: Average accuracy: 5.0, Average F1 score: 5.0\n",
      "\tFold 6:: Average accuracy: 6.0, Average F1 score: 6.0\n",
      "\tFold 7:: Average accuracy: 7.0, Average F1 score: 7.0\n",
      "\tFold 8:: Average accuracy: 8.0, Average F1 score: 8.0\n",
      "\tFold 9:: Average accuracy: 9.0, Average F1 score: 9.0\n",
      "\tFold 10:: Average accuracy: 10.0, Average F1 score: 10.0\n",
      "Average accuracy: 1.0, Average F1 score: 1.0\n"
     ]
    }
   ],
   "source": [
    "#testing\n",
    "\n",
    "numFolds = 10\n",
    "num_neighbors = 9\n",
    "stratifiedKFold = StratifiedKFold(\n",
    "    n_splits=numFolds, shuffle=True, random_state=86\n",
    ")\n",
    "\n",
    "count = 1\n",
    "avgF1 = 0\n",
    "avgAcc = 0\n",
    "\n",
    "X = X_class\n",
    "y = y_class\n",
    "\n",
    "for train_index, test_index in stratifiedKFold.split(X, y):\n",
    "    X_train, X_test = X[train_index], X[test_index]\n",
    "    y_train, y_test = y[train_index], y[test_index]\n",
    "    f1, acc = knn_from_scratch(X_train, X_test, y_train, y_test, num_neighbors)\n",
    "    avgF1 += f1\n",
    "    avgAcc += acc\n",
    "\n",
    "    # print(f\"\\tFold {count}:: Average accuracy: {avgAcc}, Average F1 score: {avgF1}\")\n",
    "\n",
    "    count += 1\n",
    "\n",
    "avgF1 = avgF1/numFolds\n",
    "avgAcc = avgAcc/numFolds\n",
    "\n",
    "print(f\"Average accuracy: {avgAcc}, Average F1 score: {avgF1}\")"
   ]
  }
 ],
 "metadata": {
  "kernelspec": {
   "display_name": "sv",
   "language": "python",
   "name": "python3"
  },
  "language_info": {
   "codemirror_mode": {
    "name": "ipython",
    "version": 3
   },
   "file_extension": ".py",
   "mimetype": "text/x-python",
   "name": "python",
   "nbconvert_exporter": "python",
   "pygments_lexer": "ipython3",
   "version": "3.10.4"
  },
  "orig_nbformat": 4,
  "vscode": {
   "interpreter": {
    "hash": "c78a287c5d96b6319afb8ff820d73699c9ea67f71e25ce8473899e0e8b85a2ed"
   }
  }
 },
 "nbformat": 4,
 "nbformat_minor": 2
}
