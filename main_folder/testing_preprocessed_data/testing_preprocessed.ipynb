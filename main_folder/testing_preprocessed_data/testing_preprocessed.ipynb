{
 "cells": [
  {
   "cell_type": "code",
   "execution_count": 1,
   "metadata": {},
   "outputs": [],
   "source": [
    "from sklearn.metrics import f1_score, accuracy_score\n",
    "from sklearn.datasets import load_iris\n",
    "from sklearn.utils import shuffle\n",
    "from sklearn.model_selection import StratifiedKFold\n",
    "import pandas as pd\n",
    "import numpy as np\n",
    "import os\n",
    "os.chdir(\"c:\\\\Users\\\\swart\\\\Desktop\\\\secure-mpc-main\\\\basic_networking\")\n",
    "from client import Client\n",
    "from server import Server\n",
    "os.chdir(\"c:\\\\Users\\\\swart\\\\Desktop\\\\secure-mpc-main\\\\ecgPreprocessedData\")\n",
    "from Data.SignalDataset import SignalDataset\n",
    "from PickleFileUtils import read_in_pickle_file"
   ]
  },
  {
   "cell_type": "code",
   "execution_count": 2,
   "metadata": {},
   "outputs": [
    {
     "name": "stdout",
     "output_type": "stream",
     "text": [
      "6029\n",
      "5834\n",
      "195\n"
     ]
    }
   ],
   "source": [
    "complete_data_set = read_in_pickle_file(\"data\\\\CompleteDataSetFeatures.pickle\")\n",
    "original_training_data_set = read_in_pickle_file(\"data\\\\OriginalTrainingDataSetFeatures.pickle\")\n",
    "original_validation_data_set = read_in_pickle_file(\"data\\\\OriginalValidationDataSetFeatures.pickle\")\n",
    "\n",
    "print(len(complete_data_set))\n",
    "print(len(original_training_data_set))\n",
    "print(len(original_validation_data_set))"
   ]
  },
  {
   "cell_type": "code",
   "execution_count": 3,
   "metadata": {},
   "outputs": [],
   "source": [
    "# get labels\n",
    "labels = complete_data_set.labels\n",
    "\n",
    "# get data\n",
    "data = complete_data_set.data\n",
    "\n",
    "data,labels = shuffle(data, labels)\n",
    "X_class = np.array(data)\n",
    "y_class = np.array(labels)"
   ]
  },
  {
   "cell_type": "code",
   "execution_count": 4,
   "metadata": {},
   "outputs": [],
   "source": [
    "alice = Client()\n",
    "server = Server()\n",
    "\n",
    "def test_multiple_points(X_train, X_test, y_train, y_test, num_neighbors, client: Client, server: Server, rand_range):\n",
    "\tserver.set_features_labels(X_train, y_train)\n",
    "\ty_pred = []\n",
    "\tfor test_row in X_test:\n",
    "\t\tprediction = client.predict_classification(test_row, num_neighbors, server, rand_range)\n",
    "\t\ty_pred.append(prediction)\n",
    "\n",
    "\tf1_binary = f1_score(y_test, y_pred, average=\"binary\")\n",
    "\taccuracy = accuracy_score(y_test, y_pred)\n",
    "\n",
    "\t# print(\"ypred:\", y_pred)\n",
    "\t# print(\"ytest:\", y_test)\n",
    "\n",
    "\treturn f1_binary, accuracy\n",
    "\n"
   ]
  },
  {
   "cell_type": "code",
   "execution_count": 5,
   "metadata": {},
   "outputs": [],
   "source": [
    "#testing\n",
    "\n",
    "def test(rand_range):\n",
    "\n",
    "    numFolds = 10\n",
    "    num_neighbors = 9\n",
    "    stratifiedKFold = StratifiedKFold(\n",
    "        n_splits=numFolds, shuffle=True, random_state=86\n",
    "    )\n",
    "\n",
    "    count = 1\n",
    "    avgF1 = 0\n",
    "    avgAcc = 0\n",
    "\n",
    "    X = X_class\n",
    "    y = y_class\n",
    "\n",
    "    server = Server()\n",
    "    alice = Client()\n",
    "    rand_seed = 4\n",
    "    rand_range = 100\n",
    "\n",
    "    for train_index, test_index in stratifiedKFold.split(X, y):\n",
    "        X_train, X_test = X[train_index], X[test_index]\n",
    "        y_train, y_test = y[train_index], y[test_index]\n",
    "        f1, acc = test_multiple_points(X_train, X_test, y_train, y_test, num_neighbors, alice, server, rand_range)\n",
    "        avgF1 += f1\n",
    "        avgAcc += acc\n",
    "\n",
    "        #print(f\"\\tFold {count}:: Accuracy: {acc}, F1 score: {f1}\")\n",
    "\n",
    "        count += 1\n",
    "\n",
    "    avgF1 = avgF1/numFolds\n",
    "    avgAcc = avgAcc/numFolds\n",
    "\n",
    "    return avgAcc, avgF1\n",
    "\n"
   ]
  },
  {
   "cell_type": "code",
   "execution_count": 6,
   "metadata": {},
   "outputs": [
    {
     "name": "stdout",
     "output_type": "stream",
     "text": [
      "Testing 2017 AF Dataset - SMPC\n",
      "S(0):-7.450580596923828e-09\t(30173478.000000004, 47756358.0, 6154008.0)\n",
      "S(0):-1.4901161193847656e-08\t(76231325.00000001, 120653324.99999999, 15547700.0)\n",
      "S(0):-7.450580596923828e-09\t(59486861.0, 94151420.99999999, 12132596.0)\n",
      "S(0):-3.725290298461914e-09\t(38968550.0, 61676549.99999999, 7947800.0)\n",
      "S(0):-1.862645149230957e-09\t(22498932.0, 35609651.99999999, 4588752.0)\n",
      "S(0):-1.4901161193847656e-08\t(47689625.0, 75479624.99999999, 9726500.0)\n",
      "S(0):-1.862645149230957e-08\t(15301042.000000002, 24217361.999999993, 3120712.0)\n",
      "S(0):-1.862645149230957e-09\t(24464177.000000004, 38720097.0, 4989572.0)\n",
      "S(0):-7.450580596923828e-09\t(30001459.000000004, 47484099.0, 6118924.0)\n",
      "S(0):-2.2351741790771484e-08\t(60630451.0, 95961410.99999999, 12365836.0)\n",
      "S(0):-3.725290298461914e-09\t(34319232.0, 54317951.99999999, 6999552.000000001)\n",
      "S(0):-2.9802322387695312e-08\t(53659357.0, 84928076.99999999, 10944052.0)\n",
      "S(0):-3.725290298461914e-09\t(43327646.0, 68575805.99999999, 8836856.0)\n",
      "S(0):-7.450580596923828e-09\t(64113115.0, 101473514.99999999, 13076140.0)\n",
      "S(0):-2.2351741790771484e-08\t(24813020.000000007, 39272220.0, 5060719.999999999)\n",
      "S(0):-9.313225746154785e-09\t(17835199.000000004, 28228239.0, 3637563.9999999995)\n"
     ]
    }
   ],
   "source": [
    "# test with multiple lagrange max x-points\n",
    "\n",
    "x_max_list = [100,1000,10000,100000,1000000]\n",
    "\n",
    "print(\"Testing 2017 AF Dataset - SMPC\")\n",
    "\n",
    "for x_max in x_max_list:\n",
    "    avgAcc, avgF1 = test(x_max)\n",
    "    print(f\"Average accuracy: {avgAcc}, Average F1 score: {avgF1}, Lagrange max x-coord: {x_max}\")"
   ]
  }
 ],
 "metadata": {
  "kernelspec": {
   "display_name": "sv",
   "language": "python",
   "name": "python3"
  },
  "language_info": {
   "codemirror_mode": {
    "name": "ipython",
    "version": 3
   },
   "file_extension": ".py",
   "mimetype": "text/x-python",
   "name": "python",
   "nbconvert_exporter": "python",
   "pygments_lexer": "ipython3",
   "version": "3.10.4"
  },
  "orig_nbformat": 4,
  "vscode": {
   "interpreter": {
    "hash": "c78a287c5d96b6319afb8ff820d73699c9ea67f71e25ce8473899e0e8b85a2ed"
   }
  }
 },
 "nbformat": 4,
 "nbformat_minor": 2
}
