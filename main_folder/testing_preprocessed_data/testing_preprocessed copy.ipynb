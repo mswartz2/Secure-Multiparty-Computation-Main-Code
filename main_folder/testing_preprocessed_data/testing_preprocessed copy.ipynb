{
 "cells": [
  {
   "cell_type": "code",
   "execution_count": 7,
   "metadata": {},
   "outputs": [],
   "source": [
    "from sklearn.metrics import f1_score, accuracy_score\n",
    "from sklearn.datasets import load_iris\n",
    "from sklearn.utils import shuffle\n",
    "from sklearn.model_selection import StratifiedKFold\n",
    "import pandas as pd\n",
    "import numpy as np\n",
    "import os\n",
    "from multiprocessing import Process\n",
    "\n",
    "os.chdir(\"c:\\\\Users\\\\swart\\\\Desktop\\\\secure-mpc-main\\\\basic_networking\")\n",
    "from client import Client\n",
    "from server import Server\n",
    "os.chdir(\"c:\\\\Users\\\\swart\\\\Desktop\\\\secure-mpc-main\\\\ecgPreprocessedData\")\n",
    "from Data.SignalDataset import SignalDataset\n",
    "from PickleFileUtils import read_in_pickle_file"
   ]
  },
  {
   "cell_type": "code",
   "execution_count": 8,
   "metadata": {},
   "outputs": [
    {
     "name": "stdout",
     "output_type": "stream",
     "text": [
      "6029\n",
      "5834\n",
      "195\n"
     ]
    }
   ],
   "source": [
    "complete_data_set = read_in_pickle_file(\"data\\\\CompleteDataSetFeatures.pickle\")\n",
    "original_training_data_set = read_in_pickle_file(\"data\\\\OriginalTrainingDataSetFeatures.pickle\")\n",
    "original_validation_data_set = read_in_pickle_file(\"data\\\\OriginalValidationDataSetFeatures.pickle\")\n",
    "\n",
    "print(len(complete_data_set))\n",
    "print(len(original_training_data_set))\n",
    "print(len(original_validation_data_set))"
   ]
  },
  {
   "cell_type": "code",
   "execution_count": 9,
   "metadata": {},
   "outputs": [],
   "source": [
    "# get labels\n",
    "labels = complete_data_set.labels\n",
    "\n",
    "# get data\n",
    "data = complete_data_set.data\n",
    "\n",
    "data,labels = shuffle(data, labels)\n",
    "X_class = np.array(data)\n",
    "y_class = np.array(labels)"
   ]
  },
  {
   "cell_type": "code",
   "execution_count": 4,
   "metadata": {},
   "outputs": [],
   "source": [
    "alice = Client()\n",
    "server = Server()\n",
    "\n",
    "def test_multiple_points(X_train, X_test, y_train, y_test, num_neighbors, client: Client, server: Server, rand_range):\n",
    "\tserver.set_features_labels(X_train, y_train)\n",
    "\ty_pred = []\n",
    "\tfor test_row in X_test:\n",
    "\t\tprediction = client.predict_classification(test_row, num_neighbors, server, rand_range)\n",
    "\t\ty_pred.append(prediction)\n",
    "\n",
    "\tf1_binary = f1_score(y_test, y_pred, average=\"binary\")\n",
    "\taccuracy = accuracy_score(y_test, y_pred)\n",
    "\n",
    "\t# print(\"ypred:\", y_pred)\n",
    "\t# print(\"ytest:\", y_test)\n",
    "\n",
    "\treturn f1_binary, accuracy\n",
    "\n"
   ]
  },
  {
   "cell_type": "code",
   "execution_count": 9,
   "metadata": {},
   "outputs": [],
   "source": [
    "#testing\n",
    "def test(rand_range):\n",
    "    numFolds = 10\n",
    "    num_neighbors = 9\n",
    "    stratifiedKFold = StratifiedKFold(\n",
    "        n_splits=numFolds, shuffle=True, random_state=86\n",
    "    )\n",
    "\n",
    "    count = 1\n",
    "    avgF1 = 0\n",
    "    avgAcc = 0\n",
    "\n",
    "    X = X_class\n",
    "    y = y_class\n",
    "\n",
    "    server = Server()\n",
    "    alice = Client()\n",
    "\n",
    "    for train_index, test_index in stratifiedKFold.split(X, y):\n",
    "        print(\"On fold \", count)\n",
    "        X_train, X_test = X[train_index], X[test_index]\n",
    "        y_train, y_test = y[train_index], y[test_index]\n",
    "        f1, acc = test_multiple_points(X_train, X_test, y_train, y_test, num_neighbors, alice, server, rand_range)\n",
    "        avgF1 += f1\n",
    "        avgAcc += acc\n",
    "\n",
    "        print(f\"\\tFold {count}:: Accuracy: {acc}, F1 score: {f1}, randRange: {rand_range}\")\n",
    "\n",
    "        count += 1\n",
    "\n",
    "    avgF1 = avgF1/numFolds\n",
    "    avgAcc = avgAcc/numFolds\n",
    "\n",
    "    # return_vals[result_place] = [avgAcc, avgF1, rand_range]\n",
    "\n",
    "    return avgAcc, avgF1\n",
    "\n"
   ]
  },
  {
   "cell_type": "code",
   "execution_count": 10,
   "metadata": {},
   "outputs": [
    {
     "name": "stdout",
     "output_type": "stream",
     "text": [
      "Testing 2017 AF Dataset - SMPC\n",
      "On fold  1\n",
      "On fold  1\n",
      "On fold  1\n",
      "On fold  1\n",
      "On fold  1\n"
     ]
    },
    {
     "name": "stderr",
     "output_type": "stream",
     "text": [
      "c:\\Users\\swart\\Desktop\\secure-mpc-main\\basic_networking\\client.py:50: RuntimeWarning: invalid value encountered in sqrt\n",
      "  distance = abs(np.sqrt(s_0))\n"
     ]
    }
   ],
   "source": [
    "def test_threaded(x_val, return_vals, result_place):\n",
    "    avgAcc, avgF1 = test(x_val)\n",
    "    return_vals[result_place] = [avgAcc, avgF1, x_val]\n",
    "\n",
    "# test with multiple lagrange max x-points\n",
    "from threading import Thread\n",
    "\n",
    "\n",
    "x_max_list = [100,1000,10000,100000,1000000]\n",
    "\n",
    "print(\"Testing 2017 AF Dataset - SMPC\")\n",
    "\n",
    "\n",
    "# get thread list\n",
    "thread_list = []\n",
    "thread_results = [[None]*5]*5\n",
    "for i in range(len(x_max_list)):\n",
    "    thread = Thread(target=test_threaded, args=(x_max_list[i],thread_results[i],i))\n",
    "    thread_list.append(thread)\n",
    "    thread.start()\n",
    "\n",
    "for thread in thread_list:\n",
    "    thread.join()\n",
    "\n",
    "thread_results = thread_results[0]\n",
    "\n",
    "print(thread_results)"
   ]
  },
  {
   "cell_type": "code",
   "execution_count": 1,
   "metadata": {},
   "outputs": [
    {
     "name": "stdout",
     "output_type": "stream",
     "text": [
      "Accuracy: 0.9527288805143715, F1: 0.8129754369188585, Max X for Lagrange: 100\n",
      "Accuracy: 0.9527288805143715, F1: 0.8129754369188585, Max X for Lagrange: 1000\n",
      "Accuracy: 0.9527288805143715, F1: 0.8129754369188585, Max X for Lagrange: 10000\n",
      "Accuracy: 0.9527288805143715, F1: 0.8129754369188585, Max X for Lagrange: 100000\n",
      "Accuracy: 0.9525633185126416, F1: 0.8128837632950312, Max X for Lagrange: 1000000\n"
     ]
    }
   ],
   "source": [
    "smpc_af_results = [[0.9527288805143715, 0.8129754369188585, 100], \n",
    "                   [0.9527288805143715, 0.8129754369188585, 1000], \n",
    "                   [0.9527288805143715, 0.8129754369188585, 10000], \n",
    "                   [0.9527288805143715, 0.8129754369188585, 100000], \n",
    "                   [0.9525633185126416, 0.8128837632950312, 1000000]]\n",
    "\n",
    "for i in smpc_af_results:\n",
    "    print(f\"Accuracy: {i[0]}, F1: {i[1]}, Max X for Lagrange: {i[2]}\")"
   ]
  },
  {
   "cell_type": "code",
   "execution_count": 11,
   "metadata": {},
   "outputs": [
    {
     "name": "stdout",
     "output_type": "stream",
     "text": [
      "805\n",
      "6029\n"
     ]
    }
   ],
   "source": [
    "print(sum(y_class))\n",
    "print(len(y_class))"
   ]
  }
 ],
 "metadata": {
  "kernelspec": {
   "display_name": "sv",
   "language": "python",
   "name": "python3"
  },
  "language_info": {
   "codemirror_mode": {
    "name": "ipython",
    "version": 3
   },
   "file_extension": ".py",
   "mimetype": "text/x-python",
   "name": "python",
   "nbconvert_exporter": "python",
   "pygments_lexer": "ipython3",
   "version": "3.10.4"
  },
  "orig_nbformat": 4,
  "vscode": {
   "interpreter": {
    "hash": "c78a287c5d96b6319afb8ff820d73699c9ea67f71e25ce8473899e0e8b85a2ed"
   }
  }
 },
 "nbformat": 4,
 "nbformat_minor": 2
}
