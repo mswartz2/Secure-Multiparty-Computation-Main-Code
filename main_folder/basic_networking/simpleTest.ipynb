{
 "cells": [
  {
   "cell_type": "code",
   "execution_count": 3,
   "metadata": {},
   "outputs": [],
   "source": [
    "from client import Client\n",
    "from server import Server\n",
    "from sklearn.metrics import f1_score, accuracy_score\n",
    "from sklearn.datasets import load_iris\n",
    "from sklearn.utils import shuffle\n",
    "from sklearn.model_selection import StratifiedKFold\n",
    "import pandas as pd\n",
    "import numpy as np"
   ]
  },
  {
   "cell_type": "code",
   "execution_count": 4,
   "metadata": {},
   "outputs": [
    {
     "data": {
      "text/plain": [
       "[1, 2, 3, 4]"
      ]
     },
     "execution_count": 4,
     "metadata": {},
     "output_type": "execute_result"
    }
   ],
   "source": [
    "test = [1,2,3,4,5]\n",
    "test[:-1]"
   ]
  },
  {
   "cell_type": "code",
   "execution_count": 5,
   "metadata": {},
   "outputs": [],
   "source": [
    "alice = Client()\n",
    "server = Server()"
   ]
  },
  {
   "cell_type": "code",
   "execution_count": 6,
   "metadata": {},
   "outputs": [],
   "source": [
    "pseudo_x_train = [[1,2,3,4,5], [6,7,8,9,10],[90,91,92,93,94], [100,101,102,103,104]]\n",
    "pseudo_y_train = [0,0,1,1]\n",
    "pseudo_test_row = [10,11,12,13,14]"
   ]
  },
  {
   "cell_type": "code",
   "execution_count": 7,
   "metadata": {},
   "outputs": [],
   "source": [
    "server.set_features_labels(pseudo_x_train, pseudo_y_train)"
   ]
  },
  {
   "cell_type": "code",
   "execution_count": 8,
   "metadata": {},
   "outputs": [
    {
     "name": "stdout",
     "output_type": "stream",
     "text": [
      "[[1, 2, 3, 4, 5], [6, 7, 8, 9, 10], [90, 91, 92, 93, 94], [100, 101, 102, 103, 104]]\n",
      "[0, 0, 1, 1]\n"
     ]
    }
   ],
   "source": [
    "print(server.features)\n",
    "print(server.labels)"
   ]
  },
  {
   "cell_type": "code",
   "execution_count": 9,
   "metadata": {},
   "outputs": [
    {
     "data": {
      "text/plain": [
       "0"
      ]
     },
     "execution_count": 9,
     "metadata": {},
     "output_type": "execute_result"
    }
   ],
   "source": [
    "alice.predict_classification(pseudo_test_row, 3, server, 4, 4)"
   ]
  },
  {
   "cell_type": "code",
   "execution_count": 10,
   "metadata": {},
   "outputs": [],
   "source": [
    "# test multiple points\n",
    "\n",
    "def test_multiple_points(X_train, X_test, y_train, y_test, num_neighbors, client: Client, server: Server, rand_range):\n",
    "\tserver.set_features_labels(X_train, y_train)\n",
    "\ty_pred = []\n",
    "\tfor test_row in X_test:\n",
    "\t\tprediction = client.predict_classification(test_row, num_neighbors, server, rand_range)\n",
    "\t\ty_pred.append(prediction)\n",
    "\n",
    "\tf1_binary = f1_score(y_test, y_pred, average=\"binary\")\n",
    "\taccuracy = accuracy_score(y_test, y_pred)\n",
    "\n",
    "\t# print(\"ypred:\", y_pred)\n",
    "\t# print(\"ytest:\", y_test)\n",
    "\n",
    "\treturn f1_binary, accuracy"
   ]
  },
  {
   "cell_type": "code",
   "execution_count": 11,
   "metadata": {},
   "outputs": [],
   "source": [
    "# get iris dataset\n",
    "X_class,y_class = load_iris().data, load_iris().target\n",
    "\n",
    "# we just want binary classification\n",
    "X_class = X_class[:100]\n",
    "y_class = y_class[:100]\n",
    "\n",
    "X_class,y_class = shuffle(X_class, y_class)\n",
    "\n",
    "x_df = pd.DataFrame(X_class)\n",
    "y_df = pd.DataFrame(y_class)"
   ]
  },
  {
   "cell_type": "code",
   "execution_count": 15,
   "metadata": {},
   "outputs": [],
   "source": [
    "#testing\n",
    "\n",
    "def test(rand_range):\n",
    "\n",
    "    numFolds = 10\n",
    "    num_neighbors = 9\n",
    "    stratifiedKFold = StratifiedKFold(\n",
    "        n_splits=numFolds, shuffle=True, random_state=86\n",
    "    )\n",
    "\n",
    "    count = 1\n",
    "    avgF1 = 0\n",
    "    avgAcc = 0\n",
    "\n",
    "    X = X_class\n",
    "    y = y_class\n",
    "\n",
    "    server = Server()\n",
    "    alice = Client()\n",
    "    rand_seed = 4\n",
    "    rand_range = 100\n",
    "\n",
    "    for train_index, test_index in stratifiedKFold.split(X, y):\n",
    "        X_train, X_test = X[train_index], X[test_index]\n",
    "        y_train, y_test = y[train_index], y[test_index]\n",
    "        f1, acc = test_multiple_points(X_train, X_test, y_train, y_test, num_neighbors, alice, server, rand_range)\n",
    "        avgF1 += f1\n",
    "        avgAcc += acc\n",
    "\n",
    "        #print(f\"\\tFold {count}:: Accuracy: {acc}, F1 score: {f1}\")\n",
    "\n",
    "        count += 1\n",
    "\n",
    "    avgF1 = avgF1/numFolds\n",
    "    avgAcc = avgAcc/numFolds\n",
    "\n",
    "    return avgAcc, avgF1\n",
    "\n"
   ]
  },
  {
   "cell_type": "code",
   "execution_count": 18,
   "metadata": {},
   "outputs": [
    {
     "name": "stdout",
     "output_type": "stream",
     "text": [
      "Testing Iris Dataset - SMPC\n",
      "Average accuracy: 1.0, Average F1 score: 1.0, Lagrange max x-coord: 100\n",
      "Average accuracy: 1.0, Average F1 score: 1.0, Lagrange max x-coord: 1000\n",
      "Average accuracy: 1.0, Average F1 score: 1.0, Lagrange max x-coord: 10000\n",
      "Average accuracy: 1.0, Average F1 score: 1.0, Lagrange max x-coord: 100000\n",
      "Average accuracy: 1.0, Average F1 score: 1.0, Lagrange max x-coord: 1000000\n"
     ]
    }
   ],
   "source": [
    "# test with multiple lagrange max x-points\n",
    "\n",
    "x_max_list = [100,1000,10000,100000,1000000]\n",
    "\n",
    "print(\"Testing Iris Dataset - SMPC\")\n",
    "\n",
    "for x_max in x_max_list:\n",
    "    avgAcc, avgF1 = test(x_max)\n",
    "    print(f\"Average accuracy: {avgAcc}, Average F1 score: {avgF1}, Lagrange max x-coord: {x_max}\")"
   ]
  }
 ],
 "metadata": {
  "kernelspec": {
   "display_name": "sv",
   "language": "python",
   "name": "python3"
  },
  "language_info": {
   "codemirror_mode": {
    "name": "ipython",
    "version": 3
   },
   "file_extension": ".py",
   "mimetype": "text/x-python",
   "name": "python",
   "nbconvert_exporter": "python",
   "pygments_lexer": "ipython3",
   "version": "3.10.4"
  },
  "orig_nbformat": 4,
  "vscode": {
   "interpreter": {
    "hash": "c78a287c5d96b6319afb8ff820d73699c9ea67f71e25ce8473899e0e8b85a2ed"
   }
  }
 },
 "nbformat": 4,
 "nbformat_minor": 2
}
